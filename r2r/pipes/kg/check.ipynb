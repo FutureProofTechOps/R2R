{
 "cells": [
  {
   "cell_type": "code",
   "execution_count": 2,
   "metadata": {},
   "outputs": [],
   "source": [
    "import pickle\n",
    "import os"
   ]
  },
  {
   "cell_type": "code",
   "execution_count": 16,
   "metadata": {},
   "outputs": [],
   "source": [
    "path = '/Users/shreyas/r2rr2r/graph_data/communities'\n",
    "\n",
    "# for each file in the path, load the community\n",
    "communities = []\n",
    "for file in os.listdir(path):\n",
    "    communities.append(pickle.load(open(os.path.join(path, file), 'rb')))"
   ]
  },
  {
   "cell_type": "code",
   "execution_count": 22,
   "metadata": {},
   "outputs": [
    {
     "data": {
      "text/plain": [
       "'{\\n    \"title\": \"Startup Community and People Involvement\",\\n    \"summary\": \"The community centers around a startup that involves various individuals who participate actively in its goals. The relationships highlight differing motivations among the people involved and the startup\\'s financial objectives, as well as external opinions from notable figures.\",\\n    \"rating\": 6.5,\\n    \"rating_explanation\": \"The impact severity rating is moderate to high due to the potential implications of differing motivations and the startup\\'s financial nature.\",\\n    \"findings\": [\\n        {\\n            \"summary\": \"Active participation of individuals in the startup\",\\n            \"explanation\": \"The involvement of people in the startup indicates their active participation and interest in the enterprise\\'s goals and processes. This active engagement is crucial for the startup\\'s success, as it relies on the commitment and contributions of its members. The dynamics of this participation can significantly influence the startup\\'s direction and operational effectiveness. [Data: Relationships (386059f7-2e12-4052-a728-8bd5f0c86272)]\"\\n        },\\n        {\\n            \"summary\": \"Experience as a foundation for the startup\",\\n            \"explanation\": \"The startup is built on the experience gained by individuals serving as hosts, indicating that past involvement informs present actions. This foundation of experience can provide a competitive advantage, as it allows the startup to leverage lessons learned and best practices from previous endeavors. The relationship between experience and current operations is vital for understanding the startup\\'s strategic approach. [Data: Relationships (aedc3bd7-9bb0-4ac0-958b-fbd76e9ba403)]\"\\n        },\\n        {\\n            \"summary\": \"Differing motivations among participants\",\\n            \"explanation\": \"Despite the startup being described as a money-making scheme, the individuals involved are not motivated by financial gain. This discrepancy suggests that their engagement is based on other factors, such as passion, vision, or community impact. Understanding these motivations is essential for assessing the sustainability and ethical considerations of the startup\\'s operations. [Data: Relationships (a04ed202-a238-4bfa-8dc5-81604a27135f, a6ccdb58-5778-43ea-a5c4-bcc215476153)]\"\\n        },\\n        {\\n            \"summary\": \"Mike Arrington\\'s favorable opinion\",\\n            \"explanation\": \"Mike Arrington expressed a favorable opinion about the attitude of the startup, highlighting a personal connection as a funder. This endorsement from a notable figure can enhance the startup\\'s reputation and attract further investment or interest. The relationship between Arrington and the startup may also influence public perception and stakeholder engagement. [Data: Relationships (a6ccdb58-5778-43ea-a5c4-bcc215476153)]\"\\n        },\\n        {\\n            \"summary\": \"The nature of matter and people under stress\",\\n            \"explanation\": \"The analogy that people reveal their true nature under extreme conditions, similar to how matter behaves under stress, suggests that the startup environment may expose underlying traits and motivations of its participants. This insight is crucial for understanding team dynamics and potential conflicts that may arise in high-pressure situations. [Data: Relationships (c4d77a04-fa1f-4c6e-a325-f7986b76d4b9)]\"\\n        }\\n    ]\\n}'"
      ]
     },
     "execution_count": 22,
     "metadata": {},
     "output_type": "execute_result"
    }
   ],
   "source": [
    "communities[0].attributes['community_report'].choices[0].message.content"
   ]
  },
  {
   "cell_type": "code",
   "execution_count": null,
   "metadata": {},
   "outputs": [],
   "source": []
  },
  {
   "cell_type": "code",
   "execution_count": 23,
   "metadata": {},
   "outputs": [
    {
     "name": "stdout",
     "output_type": "stream",
     "text": [
      "Downloaded: \n",
      "Downloaded: Is it Worth Being Wise?\n",
      "Downloaded: Having Kids\n",
      "Downloaded: How to Lose Time and Money\n",
      "Downloaded: The Right Kind of Stubborn\n",
      "Downloaded: The Reddits\n",
      "Downloaded: How to Start Google\n",
      "Downloaded: The Best Essay\n",
      "Downloaded: Superlinear Returns\n",
      "Downloaded: How to Do Great Work\n",
      "Downloaded: How to Get New Ideas\n",
      "Downloaded: The Need to Read\n",
      "Downloaded: What You (Want to)* Want\n",
      "Downloaded: Alien Truth\n",
      "Downloaded: What I've Learned from Users\n",
      "Downloaded: Heresy\n",
      "Downloaded: Putting Ideas into Words\n",
      "Downloaded: Is There Such a Thing as Good Taste?\n",
      "Downloaded: Beyond Smart\n",
      "Downloaded: Weird Languages\n",
      "Downloaded: How to Work Hard\n",
      "Downloaded: A Project of One's Own\n",
      "Downloaded: Fierce Nerds\n",
      "Downloaded: Crazy New Ideas\n",
      "Downloaded: An NFT That Saves Lives\n",
      "Downloaded: The Real Reason to End the Death Penalty\n",
      "Downloaded: How People Get Rich Now\n",
      "Downloaded: Write Simply\n",
      "Downloaded: Donate Unrestricted\n",
      "Downloaded: What I Worked On\n",
      "Downloaded: Earnestness\n",
      "Downloaded: Billionaires Build\n",
      "Downloaded: The Airbnbs\n",
      "Downloaded: How to Think for Yourself\n",
      "Downloaded: Early Work\n",
      "Downloaded: Modeling a Wealth Tax\n",
      "Downloaded: The Four Quadrants of Conformism\n",
      "Downloaded: Orthodox Privilege\n",
      "Downloaded: Coronavirus and Credibility\n",
      "Downloaded: How to Write Usefully\n",
      "Downloaded: Being a Noob\n",
      "Downloaded: Haters\n",
      "Downloaded: The Two Kinds of Moderate\n",
      "Downloaded: Fashionable Problems\n",
      "Downloaded: Having Kids\n",
      "Downloaded: The Lesson to Unlearn\n",
      "Downloaded: Novelty and Heresy\n",
      "Downloaded: The Bus Ticket Theory of Genius\n",
      "Downloaded: General and Surprising\n"
     ]
    },
    {
     "ename": "FileNotFoundError",
     "evalue": "[Errno 2] No such file or directory: '/Users/shreyas/r2rr2r/files/Charisma_/_Power.txt'",
     "output_type": "error",
     "traceback": [
      "\u001b[0;31m---------------------------------------------------------------------------\u001b[0m",
      "\u001b[0;31mFileNotFoundError\u001b[0m                         Traceback (most recent call last)",
      "Cell \u001b[0;32mIn[23], line 47\u001b[0m\n\u001b[1;32m     44\u001b[0m     \u001b[38;5;28mprint\u001b[39m(\u001b[38;5;124m\"\u001b[39m\u001b[38;5;124mAll essays downloaded.\u001b[39m\u001b[38;5;124m\"\u001b[39m)\n\u001b[1;32m     46\u001b[0m \u001b[38;5;28;01mif\u001b[39;00m \u001b[38;5;18m__name__\u001b[39m \u001b[38;5;241m==\u001b[39m \u001b[38;5;124m\"\u001b[39m\u001b[38;5;124m__main__\u001b[39m\u001b[38;5;124m\"\u001b[39m:\n\u001b[0;32m---> 47\u001b[0m     \u001b[43mdownload_essays\u001b[49m\u001b[43m(\u001b[49m\u001b[43m)\u001b[49m\n",
      "Cell \u001b[0;32mIn[23], line 36\u001b[0m, in \u001b[0;36mdownload_essays\u001b[0;34m()\u001b[0m\n\u001b[1;32m     34\u001b[0m \u001b[38;5;66;03m# Save the essay to a file\u001b[39;00m\n\u001b[1;32m     35\u001b[0m filename \u001b[38;5;241m=\u001b[39m \u001b[38;5;124mf\u001b[39m\u001b[38;5;124m\"\u001b[39m\u001b[38;5;124m/Users/shreyas/r2rr2r/files/\u001b[39m\u001b[38;5;132;01m{\u001b[39;00messay_title\u001b[38;5;241m.\u001b[39mreplace(\u001b[38;5;124m'\u001b[39m\u001b[38;5;124m \u001b[39m\u001b[38;5;124m'\u001b[39m,\u001b[38;5;250m \u001b[39m\u001b[38;5;124m'\u001b[39m\u001b[38;5;124m_\u001b[39m\u001b[38;5;124m'\u001b[39m)\u001b[38;5;132;01m}\u001b[39;00m\u001b[38;5;124m.txt\u001b[39m\u001b[38;5;124m\"\u001b[39m\n\u001b[0;32m---> 36\u001b[0m \u001b[38;5;28;01mwith\u001b[39;00m \u001b[38;5;28;43mopen\u001b[39;49m\u001b[43m(\u001b[49m\u001b[43mfilename\u001b[49m\u001b[43m,\u001b[49m\u001b[43m \u001b[49m\u001b[38;5;124;43m'\u001b[39;49m\u001b[38;5;124;43mw\u001b[39;49m\u001b[38;5;124;43m'\u001b[39;49m\u001b[43m,\u001b[49m\u001b[43m \u001b[49m\u001b[43mencoding\u001b[49m\u001b[38;5;241;43m=\u001b[39;49m\u001b[38;5;124;43m'\u001b[39;49m\u001b[38;5;124;43mutf-8\u001b[39;49m\u001b[38;5;124;43m'\u001b[39;49m\u001b[43m)\u001b[49m \u001b[38;5;28;01mas\u001b[39;00m f:\n\u001b[1;32m     37\u001b[0m     f\u001b[38;5;241m.\u001b[39mwrite(essay_text)\n\u001b[1;32m     39\u001b[0m \u001b[38;5;28mprint\u001b[39m(\u001b[38;5;124mf\u001b[39m\u001b[38;5;124m\"\u001b[39m\u001b[38;5;124mDownloaded: \u001b[39m\u001b[38;5;132;01m{\u001b[39;00messay_title\u001b[38;5;132;01m}\u001b[39;00m\u001b[38;5;124m\"\u001b[39m)\n",
      "File \u001b[0;32m~/micromamba/envs/r2renv/lib/python3.12/site-packages/IPython/core/interactiveshell.py:324\u001b[0m, in \u001b[0;36m_modified_open\u001b[0;34m(file, *args, **kwargs)\u001b[0m\n\u001b[1;32m    317\u001b[0m \u001b[38;5;28;01mif\u001b[39;00m file \u001b[38;5;129;01min\u001b[39;00m {\u001b[38;5;241m0\u001b[39m, \u001b[38;5;241m1\u001b[39m, \u001b[38;5;241m2\u001b[39m}:\n\u001b[1;32m    318\u001b[0m     \u001b[38;5;28;01mraise\u001b[39;00m \u001b[38;5;167;01mValueError\u001b[39;00m(\n\u001b[1;32m    319\u001b[0m         \u001b[38;5;124mf\u001b[39m\u001b[38;5;124m\"\u001b[39m\u001b[38;5;124mIPython won\u001b[39m\u001b[38;5;124m'\u001b[39m\u001b[38;5;124mt let you open fd=\u001b[39m\u001b[38;5;132;01m{\u001b[39;00mfile\u001b[38;5;132;01m}\u001b[39;00m\u001b[38;5;124m by default \u001b[39m\u001b[38;5;124m\"\u001b[39m\n\u001b[1;32m    320\u001b[0m         \u001b[38;5;124m\"\u001b[39m\u001b[38;5;124mas it is likely to crash IPython. If you know what you are doing, \u001b[39m\u001b[38;5;124m\"\u001b[39m\n\u001b[1;32m    321\u001b[0m         \u001b[38;5;124m\"\u001b[39m\u001b[38;5;124myou can use builtins\u001b[39m\u001b[38;5;124m'\u001b[39m\u001b[38;5;124m open.\u001b[39m\u001b[38;5;124m\"\u001b[39m\n\u001b[1;32m    322\u001b[0m     )\n\u001b[0;32m--> 324\u001b[0m \u001b[38;5;28;01mreturn\u001b[39;00m \u001b[43mio_open\u001b[49m\u001b[43m(\u001b[49m\u001b[43mfile\u001b[49m\u001b[43m,\u001b[49m\u001b[43m \u001b[49m\u001b[38;5;241;43m*\u001b[39;49m\u001b[43margs\u001b[49m\u001b[43m,\u001b[49m\u001b[43m \u001b[49m\u001b[38;5;241;43m*\u001b[39;49m\u001b[38;5;241;43m*\u001b[39;49m\u001b[43mkwargs\u001b[49m\u001b[43m)\u001b[49m\n",
      "\u001b[0;31mFileNotFoundError\u001b[0m: [Errno 2] No such file or directory: '/Users/shreyas/r2rr2r/files/Charisma_/_Power.txt'"
     ]
    }
   ],
   "source": [
    "import requests\n",
    "from bs4 import BeautifulSoup\n",
    "import os\n",
    "import time\n",
    "\n",
    "def download_essays():\n",
    "    # URL of Paul Graham's essays page\n",
    "    url = \"http://www.paulgraham.com/articles.html\"\n",
    "    \n",
    "    # Create a directory to store the essays\n",
    "    if not os.path.exists(\"paul_graham_essays\"):\n",
    "        os.makedirs(\"paul_graham_essays\")\n",
    "    \n",
    "    # Get the main page\n",
    "    response = requests.get(url)\n",
    "    soup = BeautifulSoup(response.text, 'html.parser')\n",
    "    \n",
    "    # Find all links to essays\n",
    "    links = soup.find_all('a')\n",
    "    \n",
    "    for link in links:\n",
    "        # Check if the link is to an essay\n",
    "        if link.get('href') and link['href'].endswith('.html'):\n",
    "            essay_url = f\"http://www.paulgraham.com/{link['href']}\"\n",
    "            essay_title = link.text\n",
    "            \n",
    "            # Download the essay\n",
    "            essay_response = requests.get(essay_url)\n",
    "            essay_soup = BeautifulSoup(essay_response.text, 'html.parser')\n",
    "            \n",
    "            # Extract the main text of the essay\n",
    "            essay_text = essay_soup.find('table').text if essay_soup.find('table') else \"Error: Could not extract essay text\"\n",
    "            \n",
    "            # Save the essay to a file\n",
    "            filename = f\"/Users/shreyas/r2rr2r/files/{essay_title.replace(' ', '_')}.txt\"\n",
    "            with open(filename, 'w', encoding='utf-8') as f:\n",
    "                f.write(essay_text)\n",
    "            \n",
    "            print(f\"Downloaded: {essay_title}\")\n",
    "            \n",
    "            # Be polite and don't hammer the server\n",
    "            time.sleep(1)\n",
    "    \n",
    "    print(\"All essays downloaded.\")\n",
    "\n",
    "if __name__ == \"__main__\":\n",
    "    download_essays()"
   ]
  },
  {
   "cell_type": "code",
   "execution_count": null,
   "metadata": {},
   "outputs": [],
   "source": []
  }
 ],
 "metadata": {
  "kernelspec": {
   "display_name": "Python 3",
   "language": "python",
   "name": "python3"
  },
  "language_info": {
   "codemirror_mode": {
    "name": "ipython",
    "version": 3
   },
   "file_extension": ".py",
   "mimetype": "text/x-python",
   "name": "python",
   "nbconvert_exporter": "python",
   "pygments_lexer": "ipython3",
   "version": "3.12.4"
  }
 },
 "nbformat": 4,
 "nbformat_minor": 2
}
