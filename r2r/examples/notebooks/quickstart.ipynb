{
  "cells": [
    {
      "cell_type": "markdown",
      "metadata": {
        "id": "Bts__WxRaQjf"
      },
      "source": [
        "# Installation and environment setup"
      ]
    },
    {
      "cell_type": "code",
      "execution_count": null,
      "metadata": {
        "id": "ZezYSoFBAwCa"
      },
      "outputs": [],
      "source": [
        "!pip install -qqq r2r # may throw some dependency errors, but it should be okay"
      ]
    },
    {
      "cell_type": "code",
      "execution_count": null,
      "metadata": {
        "id": "T8Kk_EGTUMhp"
      },
      "outputs": [],
      "source": [
        "import os\n",
        "import asyncio\n",
        "asyncio.set_event_loop_policy(asyncio.DefaultEventLoopPolicy())\n",
        "asyncio.get_event_loop().set_debug(True)\n",
        "\n",
        "%autoawait\n",
        "\n",
        "# Setting environment variables\n",
        "os.environ['OPENAI_API_KEY'] = 'sk-...'\n",
        "\n",
        "# Setting postgres db env variables. You can also set it via supabase.com\n",
        "os.environ['POSTGRES_USER'] = ''\n",
        "os.environ['POSTGRES_PASSWORD'] = ''\n",
        "os.environ['POSTGRES_HOST'] = ''\n",
        "os.environ['POSTGRES_PORT'] = ''\n",
        "os.environ['POSTGRES_DBNAME'] = ''\n",
        "os.environ['POSTGRES_VECS_COLLECTION'] = ''"
      ]
    },
    {
      "cell_type": "markdown",
      "metadata": {
        "id": "BXTAkw6iaGh5"
      },
      "source": [
        "# Quick Introduction\n",
        "\n",
        "R2R is a powerful library that offers both methods and a REST API for document ingestion, Retrieval-Augmented Generation (RAG), evaluation, and additional features like observability, evaluation, analytics, and document management. It supports configurable vector search and RAG out of the box.\n",
        "\n"
      ]
    },
    {
      "cell_type": "markdown",
      "metadata": {
        "id": "X15WXA_hab7E"
      },
      "source": [
        "## Downloading R2R dataset sample"
      ]
    },
    {
      "cell_type": "code",
      "execution_count": null,
      "metadata": {
        "id": "9F_zmRP4At7i"
      },
      "outputs": [],
      "source": [
        "filenames = [\n",
        "  # .txt\n",
        "    \"aristotle.txt\",\n",
        "    \"aristotle_v2.txt\",\n",
        "    \"got.txt\",\n",
        "  # .pdf\n",
        "    \"lyft_2021.pdf\", # 250 page document\n",
        "    \"uber_2021.pdf\", # 300 page document\n",
        "  # .html\n",
        "    \"pg_essay_1.html\",\n",
        "    \"pg_essay_2.html\",\n",
        "    \"pg_essay_3.html\",\n",
        "    \"pg_essay_4.html\",\n",
        "    \"pg_essay_5.html\",\n",
        "  # .mp3\n",
        "    \"sample.mp3\",\n",
        "    \"sample2.mp3\",\n",
        "  # .png\n",
        "    \"screen_shot.png\"\n",
        "  # and more...\n",
        "]\n",
        "\n",
        "\n",
        "for filename in filenames:\n",
        "  if not os.path.exists(os.path.join(\"data\", filename)):\n",
        "    !wget -q https://raw.githubusercontent.com/SciPhi-AI/R2R/main/r2r/examples/data/$filename -P data/\n",
        "\n",
        "file_paths = [\n",
        "    os.path.join(\"data\", filename)\n",
        "    for filename in filenames\n",
        "]"
      ]
    },
    {
      "cell_type": "markdown",
      "metadata": {
        "id": "tqTqgsOSajSA"
      },
      "source": [
        "## Creating an R2R app object"
      ]
    },
    {
      "cell_type": "code",
      "execution_count": null,
      "metadata": {
        "colab": {
          "base_uri": "https://localhost:8080/"
        },
        "id": "irEmz7Hj7pgk",
        "outputId": "fc39530c-3df4-4f6f-955d-350e38601419"
      },
      "outputs": [
        {
          "name": "stderr",
          "output_type": "stream",
          "text": [
            "2024-06-24 22:15:46,478 - INFO - r2r.core.providers.vector_db_provider - Initializing VectorDBProvider with config extra_fields={} provider='pgvector' collection_name='demo_vecs'.\n",
            "2024-06-24 22:15:47,600 - INFO - r2r.core.providers.embedding_provider - Initializing EmbeddingProvider with config extra_fields={'text_splitter': {'type': 'recursive_character', 'chunk_size': 512, 'chunk_overlap': 20}} provider='openai' base_model='text-embedding-3-small' base_dimension=512 rerank_model=None rerank_dimension=None rerank_transformer_type=None batch_size=128.\n",
            "2024-06-24 22:15:50,601 - INFO - r2r.core.providers.llm_provider - Initializing LLM provider with config: extra_fields={} provider='litellm'\n"
          ]
        },
        {
          "name": "stdout",
          "output_type": "stream",
          "text": [
            "R2REngine.__init__, config =  <r2r.main.assembly.config.R2RConfig object at 0x7b261639ef20>\n"
          ]
        }
      ],
      "source": [
        "from r2r import R2RBuilder\n",
        "\n",
        "app = R2RBuilder().build()"
      ]
    },
    {
      "cell_type": "markdown",
      "metadata": {
        "id": "BpFQKQFya4yL"
      },
      "source": [
        "## Ingesting documents into the DB"
      ]
    },
    {
      "cell_type": "code",
      "execution_count": null,
      "metadata": {
        "colab": {
          "base_uri": "https://localhost:8080/"
        },
        "id": "69qrOQgaUIXu",
        "outputId": "76275abf-8afa-4632-e60c-6f8874767830"
      },
      "outputs": [
        {
          "name": "stdout",
          "output_type": "stream",
          "text": [
            "Created document for: aristotle.txt\n",
            "Created document for: aristotle_v2.txt\n",
            "Created document for: got.txt\n",
            "Created document for: lyft_2021.pdf\n",
            "Created document for: uber_2021.pdf\n",
            "Created document for: pg_essay_1.html\n",
            "Created document for: pg_essay_2.html\n",
            "Created document for: pg_essay_3.html\n",
            "Created document for: pg_essay_4.html\n",
            "Created document for: pg_essay_5.html\n",
            "Created document for: sample.mp3\n",
            "Created document for: sample2.mp3\n",
            "Created document for: screen_shot.png\n",
            "{'processed_documents': [\"Document 'aristotle.txt' processed successfully.\", \"Document 'aristotle_v2.txt' processed successfully.\", \"Document 'got.txt' processed successfully.\", \"Document 'lyft_2021.pdf' processed successfully.\", \"Document 'uber_2021.pdf' processed successfully.\", \"Document 'pg_essay_1.html' processed successfully.\", \"Document 'pg_essay_2.html' processed successfully.\", \"Document 'pg_essay_3.html' processed successfully.\", \"Document 'pg_essay_4.html' processed successfully.\", \"Document 'pg_essay_5.html' processed successfully.\", \"Document 'sample.mp3' processed successfully.\", \"Document 'sample2.mp3' processed successfully.\", \"Document 'screen_shot.png' processed successfully.\"], 'skipped_documents': []}\n"
          ]
        }
      ],
      "source": [
        "# creating R2R documents and ingesting them into the DB\n",
        "from r2r import Document, generate_id_from_label\n",
        "\n",
        "documents = []\n",
        "for file_path in file_paths:\n",
        "\n",
        "  file_type = file_path.split(\".\")[-1]\n",
        "  file_name = file_path.split(\"/\")[-1]\n",
        "  file_data = open(file_path, \"rb\").read()\n",
        "\n",
        "  documents.append(\n",
        "      Document(\n",
        "          id = generate_id_from_label(file_name), # creates a unique ID\n",
        "          type = file_type,\n",
        "          data = file_data,\n",
        "          metadata = {\n",
        "              \"source\": file_path,\n",
        "              \"title\": file_name,\n",
        "          }\n",
        "      )\n",
        "  )\n",
        "\n",
        "  print(f\"Created document for: {file_name}\")\n",
        "\n",
        "# ingest documents into db\n",
        "# if already ingested, use the update_documents endpoint\n",
        "ret = app.ingest_documents(documents)\n",
        "# ret = app.update_documents(documents)\n",
        "\n",
        "print(ret)"
      ]
    },
    {
      "cell_type": "markdown",
      "metadata": {
        "id": "qwLoDh5La8xq"
      },
      "source": [
        "## R2R vector similarity search"
      ]
    },
    {
      "cell_type": "code",
      "execution_count": null,
      "metadata": {
        "colab": {
          "base_uri": "https://localhost:8080/"
        },
        "id": "gq7ffJs2v1qP",
        "outputId": "64ebc429-274c-4267-a6c2-593d9400b5a2"
      },
      "outputs": [
        {
          "name": "stderr",
          "output_type": "stream",
          "text": [
            "/usr/local/lib/python3.10/dist-packages/r2r/vecs/collection.py:641: UserWarning: Query does not have a covering index for cosine_distance. See Collection.create_index\n",
            "  warnings.warn(\n"
          ]
        },
        {
          "name": "stdout",
          "output_type": "stream",
          "text": [
            "Score: 0.74\n",
            "Text: Net\n",
            " loss attributable to Uber Technologies, Inc. was $496 million, a 93% improvement year-over-year, driven by a $1.6 billion pre-tax gain on the sale of ourATG\n",
            " Business to Aurora, a $1.6 billion pre-tax  net benefit relating to Ubers equity investments, as  well as reductions in our fixed cost structure and increasedvariable cost effi\n",
            "ciencies. Net loss attributable to Uber Technologies, Inc. also included $1.2 billion of stock-based compensation expense.Adjusted\n",
            "----------------------------------------\n",
            "Score: 0.67\n",
            "Text: the year ended December 31, 2020, gain on business divestitures, net represented a $154 million gain on the sale of our Uber Eats India operationsto Zomato\n",
            " recognized in the first quarter of 2020 and a $77 million gain on the sale of our European Freight Business to sennder GmbH (Sennder) recognized inthe fourth quarter of 2020, pa\n",
            "rtially offset by a $27 million loss on the sale of our JUMP operations to Lime recognized in the second quarter of 2020.During\n",
            "----------------------------------------\n",
            "Score: 0.66\n",
            "Text: See  the section titled Reconciliations of Non-GAAP Financial Measures for our definition and a reconciliation of net loss attributable toUber Technologies, Inc. to Adjusted EBITDA.\n",
            "Year Ended December 31,\n",
            "(In millions, except percentages)\n",
            "2020 2021 2020 to 2021 %Change\n",
            "Adjusted EBITDA\n",
            "$ (2,528) $ (774) 69 %2021 Compared to 2020\n",
            "Adjusted\n",
            " EBITDA  loss  improved  $1.8  billion,  or  69%,  primarily  attributable  to  a  $525  million  improvement  in  Delivery  Adjusted  EBITDA  loss,  a  $427million\n",
            "----------------------------------------\n",
            "Score: 0.65\n",
            "Text: The following table presents a reconciliation of net loss attributable to Uber Technologies, Inc., the most directly comparable GAAP financial measure, toAdjusted EBITDA for each of the periods ind\n",
            "icated:Year Ended December 31,\n",
            "(In millions)\n",
            "2020 2021 Adjusted EBITDA reconciliation:\n",
            "Net loss attributable to Ube\n",
            "r Technologies, Inc.$ (6,768) $ (496) Add (deduct):\n",
            "Net loss attributable to non\n",
            "-controlling interests, net of tax(20) (74) Provision for (benefit fro\n",
            "----------------------------------------\n",
            "Score: 0.63\n",
            "Text: rial respects, the financial condition and results of operations of Uber Technologies, Inc.Date:\n",
            "February 24, 2022 By: /s/ Nelson Chai Nelson Chai\n",
            "Chief Financial Officer\n",
            "(Principal Financial Offic\n",
            "er)\n",
            "----------------------------------------\n",
            "Score: 0.62\n",
            "Text: (8,512) (6,788) (570) Less: net loss attributab\n",
            "le to non-controlling interests, net of tax(6) (20) (74) Net loss attributable to Uber Technologies, Inc.\n",
            "$ (8,506) $ (6,768) $ (496) Net loss per share attributable to Uber Technologies, Inc. co\n",
            "mmon stockholders:Basic\n",
            "$ (6.81) $ (3.86) $ (0.26) Diluted\n",
            "$ (6.81) $ (3.86) $ (0.29) Weighted-average shares used to compute net loss per shar\n",
            "e attributable to common stockholders:Basic\n",
            "1,248,353 1,752,960 1,892,546 Diluted\n",
            "----------------------------------------\n",
            "Score: 0.62\n",
            "Text: Financial and Operational HighlightsYear Ended December 31,\n",
            "Constant Currency (In millions, except percentages)\n",
            "2020 2021 2020 to 2021 %Change\n",
            "2020 to 2021 % Change Monthly Active Platform Consumers \n",
            "(MAPCs) 93 118 27 %Trips \n",
            "5,025 6,368 27 %Gross Bookings \n",
            "$ 57,897 $ 90,415 56 %53 % Revenue\n",
            "$ 11,139 $ 17,455 57 %54 % Net loss attributable to Ube\n",
            "r Technologies, Inc. $ (6,768) $ (496) 93 %Mobility Adjusted EBITDA\n",
            "$ 1,169 $ 1,596 37 %Delivery Adjusted EBITDA\n",
            "$ (873) $ (348) 60 %Adjusted EBITDA\n",
            "----------------------------------------\n",
            "Score: 0.62\n",
            "Text: issued to new investors in close proximity to the time of our transaction with Zomato. The transaction resulted in a gain on disposal of $154 millionrecognized\n",
            " in other income (expense), net in the consolidated statements of operations during the first quarter of 2020. The income tax effect of the sale was notmaterial.\n",
            " The divestiture  of Uber Eats India did not represent  a strategic  shift that would have had a major  effect  on our operations  and financial  results, andtherefore does not quali\n",
            "----------------------------------------\n",
            "Score: 0.62\n",
            "Text: (1,625) 3,292 Loss before income taxes and loss from equity me\n",
            "thod investments(6,946) (1,025) Provision for (benefit fro\n",
            "m) income taxes(192) (492) Loss from equity method invest\n",
            "ments(34) (37) Net loss including non-controlling interests\n",
            "(6,788) (570) Less: net loss attributab\n",
            "le to non-controlling interests, net of tax(20) (74) Net loss attributable to Uber Technologies, Inc.\n",
            "$ (6,768) $ (496) 54\n",
            "----------------------------------------\n",
            "Score: 0.61\n",
            "Text: UBER TECHNOLOGIES, INC.NOTES TO CONSOLIDATED \n",
            "FINANCIAL STATEMENTSNote 1  Description of Business and Summary of Significant Accounting Policies\n",
            "Description of Business\n",
            "Uber\n",
            " Technologies, Inc. (Uber, we, our, or us) was incorporated in Delaware in July 2010, and is headquartered in San Francisco, California. Uber isa\n",
            " technology platform that uses a massive network, leading technology, operational excellence and product expertise to power movement from point A to point B.Uber\n",
            "----------------------------------------\n"
          ]
        }
      ],
      "source": [
        "from r2r import VectorSearchSettings\n",
        "\n",
        "# search_query = \"Who was Aristotle?\"\n",
        "# search_query = \"Who was the Kingslayer?\"\n",
        "search_query = \"What was uber's profit in 2020?\"\n",
        "\n",
        "search_settings = VectorSearchSettings(\n",
        "                    search_filters=None,\n",
        "                    search_limit=10,\n",
        "                    do_hybrid_search=False,\n",
        "                )\n",
        "\n",
        "retrieved_chunks = app.search(search_query, search_settings)\n",
        "for chunk in retrieved_chunks['vector_search_results']:\n",
        "    score = round(chunk['score'], 2)\n",
        "    text = chunk['metadata']['text']\n",
        "    print(f\"Score: {score}\\nText: {text}\\n{'-'*40}\")"
      ]
    },
    {
      "cell_type": "markdown",
      "metadata": {
        "id": "Tm2KcIWxa_ZJ"
      },
      "source": [
        "## R2R Retrieval Augmented Generation"
      ]
    },
    {
      "cell_type": "code",
      "execution_count": null,
      "metadata": {
        "colab": {
          "base_uri": "https://localhost:8080/",
          "height": 104
        },
        "id": "BIVyO_bixdj4",
        "outputId": "2a00bc87-2e7d-4e0f-b71e-f9e76f5b1688"
      },
      "outputs": [
        {
          "data": {
            "application/vnd.google.colaboratory.intrinsic+json": {
              "type": "string"
            },
            "text/plain": [
              "'Aristotle (Greek: Ἀριστοτέλης Aristotélēs, pronounced [aristotélɛːs]; 384–322 BC) was an Ancient Greek philosopher and polymath. His writings cover a broad range of subjects spanning the natural sciences, philosophy, linguistics, economics, politics, psychology, and the arts. As the founder of the Peripatetic school of philosophy in the Lyceum in Athens, he began the wider Aristotelian tradition that followed, which set the groundwork for the development of modern science [1], [2], [3], [4], [5], [6], [7], [8], [9], [10].'"
            ]
          },
          "execution_count": 9,
          "metadata": {},
          "output_type": "execute_result"
        }
      ],
      "source": [
        "from r2r import GenerationConfig\n",
        "\n",
        "rag_query = \"Who was Aristotle?\"\n",
        "# rag_query = \"What was uber's profit in 2020?\"\n",
        "\n",
        "rag_generation_config = GenerationConfig(model=\"gpt-4o\", stream=False)\n",
        "\n",
        "rag_result = app.rag(\n",
        "            query=rag_query,\n",
        "            rag_generation_config=rag_generation_config,\n",
        "        )\n",
        "\n",
        "rag_result[0].choices[0].message.content"
      ]
    },
    {
      "cell_type": "markdown",
      "metadata": {
        "id": "HubbWtxLdGhD"
      },
      "source": [
        "========================================================\n",
        "\n",
        "========================================================\n",
        "\n",
        "========================================================\n",
        "\n",
        "========================================================"
      ]
    },
    {
      "cell_type": "markdown",
      "metadata": {
        "id": "7GNTIqFs-Q-J"
      },
      "source": [
        "# Document Management"
      ]
    },
    {
      "cell_type": "markdown",
      "metadata": {
        "id": "VWj5XiAOH_f6"
      },
      "source": [
        "## Documents Overview\n",
        "\n",
        "R2R allows retrieval of high-level document information stored in a relational table within the PostgreSQL database. To fetch this information:"
      ]
    },
    {
      "cell_type": "code",
      "execution_count": null,
      "metadata": {
        "colab": {
          "base_uri": "https://localhost:8080/"
        },
        "id": "_HB1bj8R-YnO",
        "outputId": "a4b86e00-af19-449a-9f13-041ebabb4f56"
      },
      "outputs": [
        {
          "name": "stdout",
          "output_type": "stream",
          "text": [
            "aristotle_v2.txt\n",
            "document_id=UUID('dbf69e0a-3d41-5140-b20d-017cd6c01ca7') version='v0' size_in_bytes=7443 metadata={'title': 'aristotle_v2.txt', 'source': 'data/aristotle_v2.txt', 'user_id': None} user_id=None created_at=datetime.datetime(2024, 6, 24, 20, 54, 30, 606372, tzinfo=datetime.timezone.utc) updated_at=datetime.datetime(2024, 6, 24, 22, 21, 24, 387485, tzinfo=datetime.timezone.utc)\n",
            "got.txt\n",
            "document_id=UUID('ba77307d-6c8a-549f-812a-3558697e2842') version='v0' size_in_bytes=9491 metadata={'title': 'got.txt', 'source': 'data/got.txt', 'user_id': None} user_id=None created_at=datetime.datetime(2024, 6, 24, 20, 54, 30, 606381, tzinfo=datetime.timezone.utc) updated_at=datetime.datetime(2024, 6, 24, 22, 21, 24, 387500, tzinfo=datetime.timezone.utc)\n",
            "lyft_2021.pdf\n",
            "document_id=UUID('c5abc0b7-b9e5-54d9-b3d3-fdb14af4d065') version='v0' size_in_bytes=1440303 metadata={'title': 'lyft_2021.pdf', 'source': 'data/lyft_2021.pdf', 'user_id': None} user_id=None created_at=datetime.datetime(2024, 6, 24, 21, 6, 0, 589532, tzinfo=datetime.timezone.utc) updated_at=datetime.datetime(2024, 6, 24, 22, 21, 24, 387512, tzinfo=datetime.timezone.utc)\n",
            "uber_2021.pdf\n",
            "document_id=UUID('c996e617-88a4-5c65-ab1e-948344b18d27') version='v0' size_in_bytes=1880483 metadata={'title': 'uber_2021.pdf', 'source': 'data/uber_2021.pdf', 'user_id': None} user_id=None created_at=datetime.datetime(2024, 6, 24, 21, 6, 0, 589581, tzinfo=datetime.timezone.utc) updated_at=datetime.datetime(2024, 6, 24, 22, 21, 24, 387524, tzinfo=datetime.timezone.utc)\n",
            "pg_essay_1.html\n",
            "document_id=UUID('4a4fb848-fc03-5487-a7e5-33c9fdfb73cc') version='v0' size_in_bytes=131503 metadata={'title': 'pg_essay_1.html', 'source': 'data/pg_essay_1.html', 'user_id': None} user_id=None created_at=datetime.datetime(2024, 6, 24, 21, 6, 0, 589596, tzinfo=datetime.timezone.utc) updated_at=datetime.datetime(2024, 6, 24, 22, 21, 24, 387535, tzinfo=datetime.timezone.utc)\n",
            "pg_essay_2.html\n",
            "document_id=UUID('f0c63aff-af59-50c9-81fc-2fe55004c771') version='v0' size_in_bytes=125112 metadata={'title': 'pg_essay_2.html', 'source': 'data/pg_essay_2.html', 'user_id': None} user_id=None created_at=datetime.datetime(2024, 6, 24, 21, 6, 0, 589608, tzinfo=datetime.timezone.utc) updated_at=datetime.datetime(2024, 6, 24, 22, 21, 24, 387558, tzinfo=datetime.timezone.utc)\n",
            "pg_essay_3.html\n",
            "document_id=UUID('1a9d4d3b-bbe9-53b9-8149-67806bdf60f2') version='v0' size_in_bytes=124915 metadata={'title': 'pg_essay_3.html', 'source': 'data/pg_essay_3.html', 'user_id': None} user_id=None created_at=datetime.datetime(2024, 6, 24, 21, 6, 0, 589621, tzinfo=datetime.timezone.utc) updated_at=datetime.datetime(2024, 6, 24, 22, 21, 24, 387570, tzinfo=datetime.timezone.utc)\n",
            "pg_essay_4.html\n",
            "document_id=UUID('b722f1ec-b90e-5ed8-b7c8-c768e8b323cb') version='v0' size_in_bytes=118113 metadata={'title': 'pg_essay_4.html', 'source': 'data/pg_essay_4.html', 'user_id': None} user_id=None created_at=datetime.datetime(2024, 6, 24, 21, 6, 0, 589632, tzinfo=datetime.timezone.utc) updated_at=datetime.datetime(2024, 6, 24, 22, 21, 24, 387581, tzinfo=datetime.timezone.utc)\n",
            "pg_essay_5.html\n",
            "document_id=UUID('ef66e5dd-2130-5fd5-9bdd-aa7eff59fda5') version='v0' size_in_bytes=123783 metadata={'title': 'pg_essay_5.html', 'source': 'data/pg_essay_5.html', 'user_id': None} user_id=None created_at=datetime.datetime(2024, 6, 24, 21, 6, 0, 589643, tzinfo=datetime.timezone.utc) updated_at=datetime.datetime(2024, 6, 24, 22, 21, 24, 387592, tzinfo=datetime.timezone.utc)\n",
            "sample.mp3\n",
            "document_id=UUID('0633722f-8f9f-5b02-85bd-7b7b0bcfeba9') version='v0' size_in_bytes=121671 metadata={'title': 'sample.mp3', 'source': 'data/sample.mp3', 'user_id': None} user_id=None created_at=datetime.datetime(2024, 6, 24, 21, 6, 0, 589653, tzinfo=datetime.timezone.utc) updated_at=datetime.datetime(2024, 6, 24, 22, 21, 24, 387603, tzinfo=datetime.timezone.utc)\n",
            "sample2.mp3\n",
            "document_id=UUID('d2384e33-aaf9-5c80-afa6-f6df6730bbf1') version='v0' size_in_bytes=72456 metadata={'title': 'sample2.mp3', 'source': 'data/sample2.mp3', 'user_id': None} user_id=None created_at=datetime.datetime(2024, 6, 24, 21, 6, 0, 589663, tzinfo=datetime.timezone.utc) updated_at=datetime.datetime(2024, 6, 24, 22, 21, 24, 387619, tzinfo=datetime.timezone.utc)\n",
            "screen_shot.png\n",
            "document_id=UUID('74f1506a-9a37-59d7-b288-5ef3683dca8f') version='v0' size_in_bytes=791764 metadata={'title': 'screen_shot.png', 'source': 'data/screen_shot.png', 'user_id': None} user_id=None created_at=datetime.datetime(2024, 6, 24, 21, 6, 0, 589674, tzinfo=datetime.timezone.utc) updated_at=datetime.datetime(2024, 6, 24, 22, 21, 24, 387631, tzinfo=datetime.timezone.utc)\n",
            "aristotle.txt\n",
            "document_id=UUID('c9bdbac7-0ea3-5c9e-b590-018bd09b127b') version='v0' size_in_bytes=73353 metadata={'title': 'aristotle.txt', 'source': 'data/aristotle.txt', 'user_id': None} user_id=None created_at=datetime.datetime(2024, 6, 24, 22, 21, 24, 387438, tzinfo=datetime.timezone.utc) updated_at=datetime.datetime(2024, 6, 24, 22, 21, 24, 387438, tzinfo=datetime.timezone.utc)\n"
          ]
        }
      ],
      "source": [
        "# view\n",
        "\n",
        "all_docs = app.documents_overview()\n",
        "\n",
        "# Returns a `DocumentInfo` object -\n",
        "# class DocumentInfo(BaseModel):\n",
        "#     \"\"\"Base class for document information handling.\"\"\"\n",
        "\n",
        "#     document_id: uuid.UUID\n",
        "#     version: str\n",
        "#     size_in_bytes: int\n",
        "#     metadata: dict\n",
        "\n",
        "#     user_id: Optional[uuid.UUID] = None\n",
        "#     title: Optional[str] = None\n",
        "#     created_at: Optional[datetime] = None\n",
        "#     updated_at: Optional[datetime] = None\n",
        "\n",
        "for doc in all_docs:\n",
        "  print(doc.metadata['title'])\n",
        "  print(doc)"
      ]
    },
    {
      "cell_type": "markdown",
      "metadata": {
        "id": "BnNwK6y4TuMx"
      },
      "source": [
        "## Document Chunks\n",
        "\n",
        "R2R enables retrieval of specific document chunks and associated metadata. To fetch chunks for a particular document:"
      ]
    },
    {
      "cell_type": "code",
      "execution_count": null,
      "metadata": {
        "colab": {
          "base_uri": "https://localhost:8080/"
        },
        "id": "hKEnjdoSTyee",
        "outputId": "00e64d94-3a68-403c-f5e5-8a903edfb2ae"
      },
      "outputs": [
        {
          "name": "stdout",
          "output_type": "stream",
          "text": [
            "{'text': 'An NFT That Saves Lives', 'title': 'pg_essay_4.html', 'source': 'data/pg_essay_4.html', 'version': 'v1', 'chunk_order': 0, 'document_id': 'b722f1ec-b90e-5ed8-b7c8-c768e8b323cb', 'extraction_id': '40a77d4f-d5a9-5d8d-88cd-b6865e37a818'}\n",
            "{'text': \"May 2021Noora Health, a nonprofit I've\\nsupported for years, just launched\\na new NFT. It has a dramatic name, Save Thousands of Lives,\\nbecause that's what the proceeds will do.Noora has been saving lives for 7 years. They run programs in\\nhospitals in South Asia to teach new mothers how to take care of\\ntheir babies once they get home. They're in 165 hospitals now. And\\nbecause they know the numbers before and after they start at a new\\nhospital, they can measure the impact they have. It is massive.\", 'title': 'pg_essay_4.html', 'source': 'data/pg_essay_4.html', 'version': 'v1', 'chunk_order': 1, 'document_id': 'b722f1ec-b90e-5ed8-b7c8-c768e8b323cb', 'extraction_id': '40a77d4f-d5a9-5d8d-88cd-b6865e37a818'}\n",
            "{'text': 'For every 1000 live births, they save 9 babies.This number comes from a study\\nof 133,733 families at 28 different\\nhospitals that Noora conducted in collaboration with the Better\\nBirth team at Ariadne Labs, a joint center for health systems\\ninnovation at Brigham and Women’s Hospital and Harvard T.H. Chan\\nSchool of Public Health.Noora is so effective that even if you measure their costs in the\\nmost conservative way, by dividing their entire budget by the number', 'title': 'pg_essay_4.html', 'source': 'data/pg_essay_4.html', 'version': 'v1', 'chunk_order': 2, 'document_id': 'b722f1ec-b90e-5ed8-b7c8-c768e8b323cb', 'extraction_id': '40a77d4f-d5a9-5d8d-88cd-b6865e37a818'}\n",
            "{'text': \"of lives saved, the cost of saving a life is the lowest I've seen.\\n$1,235.For this NFT, they're going to issue a public report tracking how\\nthis specific tranche of money is spent, and estimating the number\\nof lives saved as a result.NFTs are a new territory, and this way of using them is especially\\nnew, but I'm excited about its potential. And I'm excited to see\\nwhat happens with this particular auction, because unlike an NFT\\nrepresenting something that has already happened,\", 'title': 'pg_essay_4.html', 'source': 'data/pg_essay_4.html', 'version': 'v1', 'chunk_order': 3, 'document_id': 'b722f1ec-b90e-5ed8-b7c8-c768e8b323cb', 'extraction_id': '40a77d4f-d5a9-5d8d-88cd-b6865e37a818'}\n",
            "{'text': \"this NFT gets better as the price gets higher.The reserve price was about $2.5 million, because that's what it\\ntakes for the name to be accurate: that's what it costs to save\\n2000 lives. But the higher the price of this NFT goes, the more\\nlives will be saved. What a sentence to be able to write.\", 'title': 'pg_essay_4.html', 'source': 'data/pg_essay_4.html', 'version': 'v1', 'chunk_order': 4, 'document_id': 'b722f1ec-b90e-5ed8-b7c8-c768e8b323cb', 'extraction_id': '40a77d4f-d5a9-5d8d-88cd-b6865e37a818'}\n"
          ]
        }
      ],
      "source": [
        "document_uuid = 'b722f1ec-b90e-5ed8-b7c8-c768e8b323cb'\n",
        "\n",
        "document_chunks = app.document_chunks(document_uuid)\n",
        "\n",
        "for chunk in document_chunks:\n",
        "  print(chunk)"
      ]
    },
    {
      "cell_type": "markdown",
      "metadata": {
        "id": "9lhJxmvuT-tc"
      },
      "source": [
        "## Update Documents\n",
        "\n",
        "R2R provides robust document update capabilities through two main endpoints: update_documents and update_files. These endpoints allow for seamless updating of existing documents while maintaining version control.\n",
        "\n",
        "Key features of the update process:\n",
        "\n",
        "- Automatic versioning: When updating a document, R2R automatically increments the version (e.g., from “v0” to “v1”).\n",
        "\n",
        "- Metadata preservation: The update process maintains existing metadata while allowing for updates.\n",
        "\n",
        "- Content replacement: The new document content completely replaces the old content in the order shown below\n",
        "\n",
        "- Ingest the new version of the document\n",
        "Delete the old version"
      ]
    },
    {
      "cell_type": "code",
      "execution_count": null,
      "metadata": {
        "colab": {
          "base_uri": "https://localhost:8080/"
        },
        "id": "agpT07gF-e8L",
        "outputId": "51fdcccc-b5a6-4185-a5db-b8aff7cb4f42"
      },
      "outputs": [
        {
          "name": "stderr",
          "output_type": "stream",
          "text": [
            "2024-06-24 22:21:58,836 - INFO - r2r.main.services.ingestion_service - Deleting documents which match on these keys and values: (['document_id', 'version'], ['c9bdbac7-0ea3-5c9e-b590-018bd09b127b', 'v0'])\n"
          ]
        },
        {
          "name": "stdout",
          "output_type": "stream",
          "text": [
            "Document(s) c9bdbac7-0ea3-5c9e-b590-018bd09b127b updated.\n"
          ]
        }
      ],
      "source": [
        "ret = app.update_documents([documents[0]])\n",
        "print(ret)"
      ]
    },
    {
      "cell_type": "markdown",
      "metadata": {
        "id": "YpjcoKzCUNjA"
      },
      "source": [
        "## Delete Documents\n",
        "\n",
        "R2R supports flexible document deletion based on various metadata fields. To delete a document by its ID:"
      ]
    },
    {
      "cell_type": "code",
      "execution_count": null,
      "metadata": {
        "colab": {
          "base_uri": "https://localhost:8080/"
        },
        "id": "XCiA4Da5IjYb",
        "outputId": "850f6706-47e5-49bc-f50c-653aee17b0e8"
      },
      "outputs": [
        {
          "name": "stderr",
          "output_type": "stream",
          "text": [
            "2024-06-24 22:22:00,426 - INFO - r2r.main.services.management_service - Deleting entries with metadata: document_id=c9bdbac7-0ea3-5c9e-b590-018bd09b127b\n"
          ]
        },
        {
          "name": "stdout",
          "output_type": "stream",
          "text": [
            "Documents ['c9bdbac7-0ea3-5c9e-b590-018bd09b127b'] deleted successfully.\n"
          ]
        }
      ],
      "source": [
        "delete_keys = ['document_id']\n",
        "delete_values = [str(documents[0].id)]\n",
        "\n",
        "ret = app.delete(delete_keys, delete_values)\n",
        "print(ret)"
      ]
    },
    {
      "cell_type": "markdown",
      "metadata": {
        "id": "CkSV2f7QJVa_"
      },
      "source": [
        "# AI Powered Search\n",
        "\n",
        "R2R offers powerful search capabilities, including vector search, hybrid search, and knowledge graph-enhanced search. These features allow for more accurate and contextually relevant information retrieval."
      ]
    },
    {
      "cell_type": "markdown",
      "metadata": {
        "id": "vBTl3DyfJXqa"
      },
      "source": [
        "## Basic Vector Search\n",
        "\n",
        "To perform a basic vector search using RAG, execute the following command:"
      ]
    },
    {
      "cell_type": "code",
      "execution_count": null,
      "metadata": {
        "colab": {
          "base_uri": "https://localhost:8080/"
        },
        "id": "2CidZPftJWlh",
        "outputId": "81bba62e-0532-40a3-eb42-d514615d01ef"
      },
      "outputs": [
        {
          "name": "stdout",
          "output_type": "stream",
          "text": [
            "Score: 0.74\n",
            "Text: Net\n",
            " loss attributable to Uber Technologies, Inc. was $496 million, a 93% improvement year-over-year, driven by a $1.6 billion pre-tax gain on the sale of ourATG\n",
            " Business to Aurora, a $1.6 billion pre-tax  net benefit relating to Ubers equity investments, as  well as reductions in our fixed cost structure and increasedvariable cost effi\n",
            "ciencies. Net loss attributable to Uber Technologies, Inc. also included $1.2 billion of stock-based compensation expense.Adjusted\n",
            "----------------------------------------\n",
            "Score: 0.67\n",
            "Text: the year ended December 31, 2020, gain on business divestitures, net represented a $154 million gain on the sale of our Uber Eats India operationsto Zomato\n",
            " recognized in the first quarter of 2020 and a $77 million gain on the sale of our European Freight Business to sennder GmbH (Sennder) recognized inthe fourth quarter of 2020, pa\n",
            "rtially offset by a $27 million loss on the sale of our JUMP operations to Lime recognized in the second quarter of 2020.During\n",
            "----------------------------------------\n",
            "Score: 0.66\n",
            "Text: See  the section titled Reconciliations of Non-GAAP Financial Measures for our definition and a reconciliation of net loss attributable toUber Technologies, Inc. to Adjusted EBITDA.\n",
            "Year Ended December 31,\n",
            "(In millions, except percentages)\n",
            "2020 2021 2020 to 2021 %Change\n",
            "Adjusted EBITDA\n",
            "$ (2,528) $ (774) 69 %2021 Compared to 2020\n",
            "Adjusted\n",
            " EBITDA  loss  improved  $1.8  billion,  or  69%,  primarily  attributable  to  a  $525  million  improvement  in  Delivery  Adjusted  EBITDA  loss,  a  $427million\n",
            "----------------------------------------\n"
          ]
        }
      ],
      "source": [
        "# same as the previous example\n",
        "\n",
        "from r2r import VectorSearchSettings\n",
        "\n",
        "# search_query = \"Who was Aristotle?\"\n",
        "# search_query = \"Who was the Kingslayer?\"\n",
        "search_query = \"What was uber's profit in 2020?\"\n",
        "\n",
        "search_settings = VectorSearchSettings(\n",
        "                    search_filters=None,\n",
        "                    search_limit=3,\n",
        "                    do_hybrid_search=False,\n",
        "                )\n",
        "\n",
        "retrieved_chunks = app.search(search_query, search_settings)\n",
        "for chunk in retrieved_chunks['vector_search_results']:\n",
        "    print(f\"Score: {round(chunk['score'], 2)}\\nText: {chunk['metadata']['text']}\\n{'-'*40}\")"
      ]
    },
    {
      "cell_type": "markdown",
      "metadata": {
        "id": "WccCBiy4Jxpd"
      },
      "source": [
        "## Hybrid Search\n",
        "\n",
        "R2R supports hybrid search, which combines traditional keyword-based search with vector search for improved results."
      ]
    },
    {
      "cell_type": "code",
      "execution_count": null,
      "metadata": {
        "colab": {
          "base_uri": "https://localhost:8080/"
        },
        "id": "Vl54tgkwJufH",
        "outputId": "f5982194-1d53-4b41-86be-5ed819ca21d3"
      },
      "outputs": [
        {
          "name": "stdout",
          "output_type": "stream",
          "text": [
            "Text: Net\n",
            " loss attributable to Uber Technologies, Inc. was $496 million, a 93% improvement year-over-year, driven by a $1.6 billion pre-tax gain on the sale of ourATG\n",
            " Business to Aurora, a $1.6 billion pre-tax  net benefit relating to Ubers equity investments, as  well as reductions in our fixed cost structure and increasedvariable cost effi\n",
            "ciencies. Net loss attributable to Uber Technologies, Inc. also included $1.2 billion of stock-based compensation expense.Adjusted\n",
            "----------------------------------------\n",
            "Text: the year ended December 31, 2020, gain on business divestitures, net represented a $154 million gain on the sale of our Uber Eats India operationsto Zomato\n",
            " recognized in the first quarter of 2020 and a $77 million gain on the sale of our European Freight Business to sennder GmbH (Sennder) recognized inthe fourth quarter of 2020, pa\n",
            "rtially offset by a $27 million loss on the sale of our JUMP operations to Lime recognized in the second quarter of 2020.During\n",
            "----------------------------------------\n",
            "Text: See  the section titled Reconciliations of Non-GAAP Financial Measures for our definition and a reconciliation of net loss attributable toUber Technologies, Inc. to Adjusted EBITDA.\n",
            "Year Ended December 31,\n",
            "(In millions, except percentages)\n",
            "2020 2021 2020 to 2021 %Change\n",
            "Adjusted EBITDA\n",
            "$ (2,528) $ (774) 69 %2021 Compared to 2020\n",
            "Adjusted\n",
            " EBITDA  loss  improved  $1.8  billion,  or  69%,  primarily  attributable  to  a  $525  million  improvement  in  Delivery  Adjusted  EBITDA  loss,  a  $427million\n",
            "----------------------------------------\n"
          ]
        }
      ],
      "source": [
        "# same as the previous example\n",
        "\n",
        "from r2r import VectorSearchSettings\n",
        "\n",
        "# search_query = \"Who was Aristotle?\"\n",
        "# search_query = \"Who was the Kingslayer?\"\n",
        "search_query = \"What was uber's profit in 2020?\"\n",
        "\n",
        "search_settings = VectorSearchSettings(\n",
        "                    search_filters=None,\n",
        "                    search_limit=3,\n",
        "                    do_hybrid_search=True,\n",
        "                )\n",
        "\n",
        "retrieved_chunks = app.search(search_query, search_settings)\n",
        "for chunk in retrieved_chunks['vector_search_results']:\n",
        "    print(f\"Text: {chunk['metadata']['text']}\\n{'-'*40}\")"
      ]
    },
    {
      "cell_type": "markdown",
      "metadata": {
        "id": "FGj4x8NeN5NN"
      },
      "source": [
        "## Knowledge Graph Search\n",
        "\n",
        "R2R integrates knowledge graph capabilities to enhance search results with structured relationships. To utilize knowledge graph search:\n",
        "\n"
      ]
    },
    {
      "cell_type": "code",
      "execution_count": null,
      "metadata": {
        "id": "AHn-onpNOHUw"
      },
      "outputs": [],
      "source": [
        "# check KG search cookbook to create a knowledge graph before running this!\n",
        "\n",
        "# search_settings = KGSearchSettings(\n",
        "#                     search_limit=3,\n",
        "#                     use_kg_search=True,\n",
        "#                 )\n",
        "\n",
        "# retrieved_chunks = app.search(search_query, search_settings)"
      ]
    },
    {
      "cell_type": "markdown",
      "metadata": {
        "id": "0R5_jqFPOiu7"
      },
      "source": [
        "# Retrieval Augmented Generation (RAG)\n",
        "\n",
        "R2R is built around a comprehensive Retrieval-Augmented Generation (RAG) engine, allowing you to generate contextually relevant responses based on your ingested documents. The RAG process combines the search functionality with language model generation to produce more accurate and informative answers."
      ]
    },
    {
      "cell_type": "markdown",
      "metadata": {
        "id": "7F5VNhtvOsrk"
      },
      "source": [
        "## Basic RAG\n",
        "\n",
        "To generate a response using RAG, use the following command:"
      ]
    },
    {
      "cell_type": "code",
      "execution_count": null,
      "metadata": {
        "colab": {
          "base_uri": "https://localhost:8080/",
          "height": 104
        },
        "id": "4eDOVowUOnBc",
        "outputId": "555c791a-1ebb-4f25-a35f-bcc178345eee"
      },
      "outputs": [
        {
          "data": {
            "application/vnd.google.colaboratory.intrinsic+json": {
              "type": "string"
            },
            "text/plain": [
              "'Aristotle (Greek: Ἀριστοτέλης Aristotélēs, pronounced [aristotélɛːs]; 384–322 BC) was an Ancient Greek philosopher and polymath. His extensive writings covered a broad range of subjects including the natural sciences, philosophy, linguistics, economics, politics, psychology, and the arts. He founded the Peripatetic school of philosophy in the Lyceum in Athens and initiated the wider Aristotelian tradition, which laid the groundwork for the development of modern science [1].'"
            ]
          },
          "execution_count": 17,
          "metadata": {},
          "output_type": "execute_result"
        }
      ],
      "source": [
        "from r2r import GenerationConfig\n",
        "\n",
        "rag_query = \"Who was Aristotle?\"\n",
        "\n",
        "rag_generation_config = GenerationConfig(\n",
        "            model=\"gpt-4o\",\n",
        "            stream=False,\n",
        "            )\n",
        "\n",
        "rag_result = app.rag(\n",
        "            query=rag_query,\n",
        "            rag_generation_config=rag_generation_config,\n",
        "        )\n",
        "\n",
        "rag_result[0].choices[0].message.content"
      ]
    },
    {
      "cell_type": "markdown",
      "metadata": {
        "id": "hzno2DHvPoxo"
      },
      "source": [
        "## Streaming RAG\n",
        "\n",
        "R2R also supports streaming RAG responses, which can be useful for real-time applications. To use streaming RAG:\n",
        "\n",
        "\n"
      ]
    },
    {
      "cell_type": "code",
      "execution_count": null,
      "metadata": {
        "colab": {
          "base_uri": "https://localhost:8080/"
        },
        "id": "ep9Z0lOpO1R-",
        "outputId": "0e3714b7-40eb-4798-f3a9-470740fcd0a3"
      },
      "outputs": [
        {
          "name": "stdout",
          "output_type": "stream",
          "text": [
            "<search>\"{\\\"id\\\":\\\"dac63aab-7c54-52dd-a496-737193ec43a7\\\",\\\"score\\\":0.774121238343654,\\\"metadata\\\":{\\\"text\\\":\\\"Aristotle[A] (Greek: \\u1f08\\u03c1\\u03b9\\u03c3\\u03c4\\u03bf\\u03c4\\u03ad\\u03bb\\u03b7\\u03c2 Aristot\\u00e9l\\u0113s, pronounced [aristot\\u00e9l\\u025b\\u02d0s]; 384\\u2013322 BC) was an Ancient Greek philosopher and polymath. His writings cover a broad range of subjects spanning the natural sciences, philosophy, linguistics, economics, politics, psychology, and the arts. As the founder of the Peripatetic school of philosophy in the Lyceum in Athens, he began the wider Aristotelian tradition that followed, which set the groundwork for the development of modern science.\\\",\\\"title\\\":\\\"aristotle_v2.txt\\\",\\\"source\\\":\\\"data/aristotle_v2.txt\\\",\\\"version\\\":\\\"v1\\\",\\\"chunk_order\\\":0,\\\"document_id\\\":\\\"dbf69e0a-3d41-5140-b20d-017cd6c01ca7\\\",\\\"extraction_id\\\":\\\"f11dbdc7-9e5c-5207-abf4-e69ed5caabbd\\\",\\\"associatedQuery\\\":\\\"Who was Aristotle?\\\"}}\",\"{\\\"id\\\":\\\"ff76490a-e11f-5f8b-94ad-23ee06c2e7ef\\\",\\\"score\\\":0.746797889852781,\\\"metadata\\\":{\\\"text\\\":\\\"(Greek: \\u1f08\\u03c1\\u03b9\\u03c3\\u03c4\\u03bf\\u03c4\\u03ad\\u03bb\\u03b7\\u03c2 Aristot\\u00e9l\\u0113s, pronounced [aristot\\u00e9l\\u025b\\u02d0s]; 384\\u2013322 BC) was an Ancient Greek philosopher and polymath. His writings cover a broad range of subjects spanning the natural sciences, philosophy, linguistics, economics, politics, psychology, and the arts. As the founder of the Peripatetic school of philosophy in the Lyceum in Athens, he began the wider Aristotelian tradition that followed, which set the groundwork for the development of modern science.\\\\\\\",\\\\\\\"\\\\\\\",\\\\\\\"Little is known about Aristotle's\\\",\\\"title\\\":\\\"aristotle_v2.txt\\\",\\\"source\\\":\\\"data/aristotle_v2.txt\\\",\\\"version\\\":\\\"v0\\\",\\\"chunk_order\\\":468,\\\"document_id\\\":\\\"ffac6192-6cf2-47c1-91ad-ad281396c573\\\",\\\"extraction_id\\\":\\\"8ce8e7dc-becf-5c74-9483-2dcd8fbb46cd\\\",\\\"associatedQuery\\\":\\\"Who was Aristotle?\\\"}}\",\"{\\\"id\\\":\\\"24925ce5-6a6a-57c2-b944-b702e3abc199\\\",\\\"score\\\":0.746416382811997,\\\"metadata\\\":{\\\"text\\\":\\\"(Greek: \\u1f08\\u03c1\\u03b9\\u03c3\\u03c4\\u03bf\\u03c4\\u03ad\\u03bb\\u03b7\\u03c2 Aristot\\u00e9l\\u0113s, pronounced [aristot\\u00e9l\\u025b\\u02d0s]; 384\\u2013322 BC) was an Ancient Greek philosopher and polymath. His writings cover a broad range of subjects spanning the natural sciences, philosophy, linguistics, economics, politics, psychology, and the arts. As the founder of the Peripatetic school of philosophy in the Lyceum in Athens, he began the wider Aristotelian tradition that followed, which set the groundwork for the development of modern science.\\\\\\\",\\\\\\\"\\\\\\\",\\\\\\\"Little is known about Aristotle's\\\",\\\"title\\\":\\\"aristotle.txt\\\",\\\"source\\\":\\\"data/aristotle.txt\\\",\\\"version\\\":\\\"v0\\\",\\\"chunk_order\\\":468,\\\"document_id\\\":\\\"05790837-dacc-466d-af76-da9feb82527b\\\",\\\"extraction_id\\\":\\\"86f8d08d-520f-5926-8a29-9b53a8b9f06c\\\",\\\"associatedQuery\\\":\\\"Who was Aristotle?\\\"}}\",\"{\\\"id\\\":\\\"24fd1f78-682d-5654-8227-e2917ec9c3c0\\\",\\\"score\\\":0.746386081411119,\\\"metadata\\\":{\\\"text\\\":\\\"(Greek: \\u1f08\\u03c1\\u03b9\\u03c3\\u03c4\\u03bf\\u03c4\\u03ad\\u03bb\\u03b7\\u03c2 Aristot\\u00e9l\\u0113s, pronounced [aristot\\u00e9l\\u025b\\u02d0s]; 384\\u2013322 BC) was an Ancient Greek philosopher and polymath. His writings cover a broad range of subjects spanning the natural sciences, philosophy, linguistics, economics, politics, psychology, and the arts. As the founder of the Peripatetic school of philosophy in the Lyceum in Athens, he began the wider Aristotelian tradition that followed, which set the groundwork for the development of modern science.\\\\\\\",\\\\\\\"\\\\\\\",\\\\\\\"Little is known about Aristotle's\\\",\\\"title\\\":\\\"aristotle_v2.txt\\\",\\\"source\\\":\\\"data/aristotle_v2.txt\\\",\\\"version\\\":\\\"v0\\\",\\\"chunk_order\\\":468,\\\"document_id\\\":\\\"9a9972a0-0236-46de-aef3-bf3516ae4bfb\\\",\\\"extraction_id\\\":\\\"0ab54225-a13e-562e-8ca5-a59ebcdd8359\\\",\\\"associatedQuery\\\":\\\"Who was Aristotle?\\\"}}\",\"{\\\"id\\\":\\\"8b8f0954-2313-5abd-8cc6-c673a42e2d1b\\\",\\\"score\\\":0.746386081411119,\\\"metadata\\\":{\\\"text\\\":\\\"(Greek: \\u1f08\\u03c1\\u03b9\\u03c3\\u03c4\\u03bf\\u03c4\\u03ad\\u03bb\\u03b7\\u03c2 Aristot\\u00e9l\\u0113s, pronounced [aristot\\u00e9l\\u025b\\u02d0s]; 384\\u2013322 BC) was an Ancient Greek philosopher and polymath. His writings cover a broad range of subjects spanning the natural sciences, philosophy, linguistics, economics, politics, psychology, and the arts. As the founder of the Peripatetic school of philosophy in the Lyceum in Athens, he began the wider Aristotelian tradition that followed, which set the groundwork for the development of modern science.\\\\\\\",\\\\\\\"\\\\\\\",\\\\\\\"Little is known about Aristotle's\\\",\\\"title\\\":\\\"aristotle.txt\\\",\\\"source\\\":\\\"data/aristotle.txt\\\",\\\"version\\\":\\\"v1\\\",\\\"chunk_order\\\":468,\\\"document_id\\\":\\\"e96481c2-fbd6-4e80-a30d-1b3140cdffa7\\\",\\\"extraction_id\\\":\\\"5ff30f8b-8359-5b6a-8a43-68314558c86b\\\",\\\"associatedQuery\\\":\\\"Who was Aristotle?\\\"}}\",\"{\\\"id\\\":\\\"85d07ef5-ea5a-53ad-93fc-1c57b8ddbb3c\\\",\\\"score\\\":0.746386081411119,\\\"metadata\\\":{\\\"text\\\":\\\"(Greek: \\u1f08\\u03c1\\u03b9\\u03c3\\u03c4\\u03bf\\u03c4\\u03ad\\u03bb\\u03b7\\u03c2 Aristot\\u00e9l\\u0113s, pronounced [aristot\\u00e9l\\u025b\\u02d0s]; 384\\u2013322 BC) was an Ancient Greek philosopher and polymath. His writings cover a broad range of subjects spanning the natural sciences, philosophy, linguistics, economics, politics, psychology, and the arts. As the founder of the Peripatetic school of philosophy in the Lyceum in Athens, he began the wider Aristotelian tradition that followed, which set the groundwork for the development of modern science.\\\\\\\",\\\\\\\"\\\\\\\",\\\\\\\"Little is known about Aristotle's\\\",\\\"title\\\":\\\"aristotle_v2.txt\\\",\\\"source\\\":\\\"data/aristotle_v2.txt\\\",\\\"version\\\":\\\"v0\\\",\\\"chunk_order\\\":468,\\\"document_id\\\":\\\"09566c74-32e4-4783-9817-d9a34021dda2\\\",\\\"extraction_id\\\":\\\"32e75697-d726-581e-9c4c-fd16346f22da\\\",\\\"associatedQuery\\\":\\\"Who was Aristotle?\\\"}}\",\"{\\\"id\\\":\\\"534b8899-95b5-59e1-af0f-0e8d0eb88ee3\\\",\\\"score\\\":0.746386081411119,\\\"metadata\\\":{\\\"text\\\":\\\"(Greek: \\u1f08\\u03c1\\u03b9\\u03c3\\u03c4\\u03bf\\u03c4\\u03ad\\u03bb\\u03b7\\u03c2 Aristot\\u00e9l\\u0113s, pronounced [aristot\\u00e9l\\u025b\\u02d0s]; 384\\u2013322 BC) was an Ancient Greek philosopher and polymath. His writings cover a broad range of subjects spanning the natural sciences, philosophy, linguistics, economics, politics, psychology, and the arts. As the founder of the Peripatetic school of philosophy in the Lyceum in Athens, he began the wider Aristotelian tradition that followed, which set the groundwork for the development of modern science.\\\\\\\",\\\\\\\"\\\\\\\",\\\\\\\"Little is known about Aristotle's\\\",\\\"title\\\":\\\"aristotle.txt\\\",\\\"source\\\":\\\"data/aristotle.txt\\\",\\\"version\\\":\\\"v0\\\",\\\"chunk_order\\\":468,\\\"document_id\\\":\\\"085e28f5-55e0-4b46-8f56-3ac32641107f\\\",\\\"extraction_id\\\":\\\"00da34dd-5a91-592f-b05c-f8c5f9f1493e\\\",\\\"associatedQuery\\\":\\\"Who was Aristotle?\\\"}}\",\"{\\\"id\\\":\\\"5520a40d-2260-55fe-a03b-2040f4588b25\\\",\\\"score\\\":0.746386081411119,\\\"metadata\\\":{\\\"text\\\":\\\"(Greek: \\u1f08\\u03c1\\u03b9\\u03c3\\u03c4\\u03bf\\u03c4\\u03ad\\u03bb\\u03b7\\u03c2 Aristot\\u00e9l\\u0113s, pronounced [aristot\\u00e9l\\u025b\\u02d0s]; 384\\u2013322 BC) was an Ancient Greek philosopher and polymath. His writings cover a broad range of subjects spanning the natural sciences, philosophy, linguistics, economics, politics, psychology, and the arts. As the founder of the Peripatetic school of philosophy in the Lyceum in Athens, he began the wider Aristotelian tradition that followed, which set the groundwork for the development of modern science.\\\\\\\",\\\\\\\"\\\\\\\",\\\\\\\"Little is known about Aristotle's\\\",\\\"title\\\":\\\"aristotle_v2.txt\\\",\\\"source\\\":\\\"data/aristotle_v2.txt\\\",\\\"version\\\":\\\"v1\\\",\\\"chunk_order\\\":468,\\\"document_id\\\":\\\"dbf69e0a-3d41-5140-b20d-017cd6c01ca7\\\",\\\"extraction_id\\\":\\\"f11dbdc7-9e5c-5207-abf4-e69ed5caabbd\\\",\\\"associatedQuery\\\":\\\"Who was Aristotle?\\\"}}\",\"{\\\"id\\\":\\\"50ee76d0-3a29-5e1c-841f-bb8c9e960895\\\",\\\"score\\\":0.746324480456238,\\\"metadata\\\":{\\\"text\\\":\\\"(Greek: \\u1f08\\u03c1\\u03b9\\u03c3\\u03c4\\u03bf\\u03c4\\u03ad\\u03bb\\u03b7\\u03c2 Aristot\\u00e9l\\u0113s, pronounced [aristot\\u00e9l\\u025b\\u02d0s]; 384\\u2013322 BC) was an Ancient Greek philosopher and polymath. His writings cover a broad range of subjects spanning the natural sciences, philosophy, linguistics, economics, politics, psychology, and the arts. As the founder of the Peripatetic school of philosophy in the Lyceum in Athens, he began the wider Aristotelian tradition that followed, which set the groundwork for the development of modern science.\\\\\\\",\\\\\\\"\\\\\\\",\\\\\\\"Little is known about Aristotle's\\\",\\\"title\\\":\\\"aristotle.txt\\\",\\\"source\\\":\\\"data/aristotle.txt\\\",\\\"version\\\":\\\"v0\\\",\\\"chunk_order\\\":468,\\\"document_id\\\":\\\"43cc0eec-e898-4e1f-a23d-67bd31cc15f3\\\",\\\"extraction_id\\\":\\\"51ecf7f9-f867-592f-b9a2-fcd6c0b2d79c\\\",\\\"associatedQuery\\\":\\\"Who was Aristotle?\\\"}}\",\"{\\\"id\\\":\\\"d14a817b-d0a0-5c65-a637-32f9813150b3\\\",\\\"score\\\":0.718395385933478,\\\"metadata\\\":{\\\"text\\\":\\\"style=\\\\\\\"min-height:auto\\\\\\\"><div><div id=\\\\\\\"LC1\\\\\\\" class=\\\\\\\"react-file-line html-div\\\\\\\" data-testid=\\\\\\\"code-cell\\\\\\\" data-line-number=\\\\\\\"1\\\\\\\" style=\\\\\\\"position:relative\\\\\\\">Aristotle[A] (Greek: \\u1f08\\u03c1\\u03b9\\u03c3\\u03c4\\u03bf\\u03c4\\u03ad\\u03bb\\u03b7\\u03c2 Aristot\\u00e9l\\u0113s, pronounced [aristot\\u00e9l\\u025b\\u02d0s]; 384\\u2013322 BC) was an Ancient Greek philosopher and polymath. His writings cover a broad range of subjects spanning the natural sciences, philosophy, linguistics, economics, politics, psychology, and the arts. As the founder of the Peripatetic school of philosophy in the Lyceum in Athens, he\\\",\\\"title\\\":\\\"aristotle.txt\\\",\\\"source\\\":\\\"data/aristotle.txt\\\",\\\"version\\\":\\\"v0\\\",\\\"chunk_order\\\":1051,\\\"document_id\\\":\\\"085e28f5-55e0-4b46-8f56-3ac32641107f\\\",\\\"extraction_id\\\":\\\"00da34dd-5a91-592f-b05c-f8c5f9f1493e\\\",\\\"associatedQuery\\\":\\\"Who was Aristotle?\\\"}}\"</search><completion>Aristotle (Greek: Ἀριστοτέλης Aristotélēs, pronounced [aristotélɛːs]; 384–322 BC) was an Ancient Greek philosopher and polymath. His writings covered a broad range of subjects including the natural sciences, philosophy, linguistics, economics, politics, psychology, and the arts. He founded the Peripatetic school of philosophy in the Lyceum in Athens and initiated the wider Aristotelian tradition, which laid the groundwork for the development of modern science [1].</completion>"
          ]
        }
      ],
      "source": [
        "from r2r import GenerationConfig\n",
        "\n",
        "rag_query = \"Who was Aristotle?\"\n",
        "\n",
        "rag_generation_config = GenerationConfig(\n",
        "            model=\"gpt-4o\",\n",
        "            stream=True,\n",
        "            )\n",
        "\n",
        "rag_result = app.rag(\n",
        "            query=rag_query,\n",
        "            rag_generation_config=rag_generation_config,\n",
        "        )\n",
        "\n",
        "async def _stream_response():\n",
        "    async for chunk in rag_result:\n",
        "        print(chunk, end=\"\", flush=True)\n",
        "\n",
        "asyncio.run(_stream_response())"
      ]
    },
    {
      "cell_type": "markdown",
      "metadata": {
        "id": "-h937CA6Pw75"
      },
      "source": [
        "## Customizing RAG\n",
        "\n",
        "R2R offers extensive customization options for its Retrieval-Augmented Generation (RAG) functionality:\n",
        "\n",
        "Search Settings: Customize vector and knowledge graph search parameters using VectorSearchSettings and KGSearchSettings.\n",
        "\n",
        "Generation Config: Fine-tune the language model’s behavior with GenerationConfig, including:\n",
        "\n",
        "Temperature, top_p, top_k for controlling randomness\n",
        "Max tokens, model selection, and streaming options\n",
        "Advanced settings like beam search and sampling strategies\n",
        "Multiple LLM Support: Easily switch between different language models and providers:\n",
        "\n",
        "OpenAI models (default)\n",
        "Anthropic’s Claude models\n",
        "Local models via Ollama\n",
        "Any provider supported by LiteLLM\n",
        "Example of customizing the model:\n",
        "\n",
        "\n"
      ]
    },
    {
      "cell_type": "markdown",
      "metadata": {
        "id": "Ty5P9id8QXF5"
      },
      "source": [
        "# Observability and Analytics\n",
        "\n",
        "R2R provides robust observability and analytics features, allowing you to monitor system performance, track usage patterns, and gain insights into your RAG application’s behavior."
      ]
    },
    {
      "cell_type": "markdown",
      "metadata": {
        "id": "W-peC5g_Qa01"
      },
      "source": [
        "## Logging\n",
        "\n",
        "R2R automatically logs various events and metrics during its operation. You can access these logs using the logs command:"
      ]
    },
    {
      "cell_type": "code",
      "execution_count": null,
      "metadata": {
        "colab": {
          "base_uri": "https://localhost:8080/"
        },
        "id": "dz6pT4qqQdSX",
        "outputId": "ad12f280-b0f6-4df0-fbe3-3891ee9c83c2"
      },
      "outputs": [
        {
          "name": "stdout",
          "output_type": "stream",
          "text": [
            "{'run_id': UUID('ca83a0db-4ebd-4f51-9bba-866123137098'), 'run_type': 'search', 'entries': [{'key': 'search_latency', 'value': '0.91'}, {'key': 'search_results', 'value': '[\"{\\\\\"id\\\\\":\\\\\"687e7151-33a3-59e0-b377-094d99fc4cd0\\\\\",\\\\\"score\\\\\":1.0,\\\\\"metadata\\\\\":{\\\\\"text\\\\\":\\\\\"Net\\\\\\\\n loss attributable to Uber Technologies, Inc. was $496 million, a 93% improvement year-over-year, driven by a $1.6 billion pre-tax gain on the sale of ourATG\\\\\\\\n Business to Aurora, a $1.6 billion pre-tax  net benefit relating to Ubers equity investments, as  well as reductions in our fixed cost structure and increasedvariable cost effi\\\\\\\\nciencies. Net loss attributable to Uber Technologies, Inc. also included $1.2 billion of stock-based compensation expense.Adjusted\\\\\",\\\\\"title\\\\\":\\\\\"uber_2021.pdf\\\\\",\\\\\"source\\\\\":\\\\\"data/uber_2021.pdf\\\\\",\\\\\"version\\\\\":\\\\\"v1\\\\\",\\\\\"chunk_order\\\\\":739,\\\\\"document_id\\\\\":\\\\\"c996e617-88a4-5c65-ab1e-948344b18d27\\\\\",\\\\\"extraction_id\\\\\":\\\\\"9592e666-dd2c-5419-ab98-ddb190a8a972\\\\\",\\\\\"associatedQuery\\\\\":\\\\\"What was uber\\'s profit in 2020?\\\\\"}}\", \"{\\\\\"id\\\\\":\\\\\"8e508a41-eefd-56cd-afe7-e8dbdc328221\\\\\",\\\\\"score\\\\\":1.0,\\\\\"metadata\\\\\":{\\\\\"text\\\\\":\\\\\"the year ended December 31, 2020, gain on business divestitures, net represented a $154 million gain on the sale of our Uber Eats India operationsto Zomato\\\\\\\\n recognized in the first quarter of 2020 and a $77 million gain on the sale of our European Freight Business to sennder GmbH (Sennder) recognized inthe fourth quarter of 2020, pa\\\\\\\\nrtially offset by a $27 million loss on the sale of our JUMP operations to Lime recognized in the second quarter of 2020.During\\\\\",\\\\\"title\\\\\":\\\\\"uber_2021.pdf\\\\\",\\\\\"source\\\\\":\\\\\"data/uber_2021.pdf\\\\\",\\\\\"version\\\\\":\\\\\"v1\\\\\",\\\\\"chunk_order\\\\\":1352,\\\\\"document_id\\\\\":\\\\\"c996e617-88a4-5c65-ab1e-948344b18d27\\\\\",\\\\\"extraction_id\\\\\":\\\\\"576d0d33-6eab-512a-a6f3-81217f02bcdf\\\\\",\\\\\"associatedQuery\\\\\":\\\\\"What was uber\\'s profit in 2020?\\\\\"}}\", \"{\\\\\"id\\\\\":\\\\\"6d7e9a65-71b1-5df2-ade4-0b57bebbfebf\\\\\",\\\\\"score\\\\\":1.0,\\\\\"metadata\\\\\":{\\\\\"text\\\\\":\\\\\"See  the section titled Reconciliations of Non-GAAP Financial Measures for our definition and a reconciliation of net loss attributable toUber Technologies, Inc. to Adjusted EBITDA.\\\\\\\\nYear Ended December 31,\\\\\\\\n(In millions, except percentages)\\\\\\\\n2020 2021 2020 to 2021 %Change\\\\\\\\nAdjusted EBITDA\\\\\\\\n$ (2,528) $ (774) 69 %2021 Compared to 2020\\\\\\\\nAdjusted\\\\\\\\n EBITDA  loss  improved  $1.8  billion,  or  69%,  primarily  attributable  to  a  $525  million  improvement  in  Delivery  Adjusted  EBITDA  loss,  a  $427million\\\\\",\\\\\"title\\\\\":\\\\\"uber_2021.pdf\\\\\",\\\\\"source\\\\\":\\\\\"data/uber_2021.pdf\\\\\",\\\\\"version\\\\\":\\\\\"v1\\\\\",\\\\\"chunk_order\\\\\":815,\\\\\"document_id\\\\\":\\\\\"c996e617-88a4-5c65-ab1e-948344b18d27\\\\\",\\\\\"extraction_id\\\\\":\\\\\"249eb6e1-c854-5285-8032-75de2d13a2a4\\\\\",\\\\\"associatedQuery\\\\\":\\\\\"What was uber\\'s profit in 2020?\\\\\"}}\"]'}, {'key': 'search_query', 'value': \"What was uber's profit in 2020?\"}]}\n",
            "{'run_id': UUID('06dff51e-3871-4cd4-a9d6-daf83bafa788'), 'run_type': 'search', 'entries': [{'key': 'search_latency', 'value': '0.42'}, {'key': 'search_results', 'value': '[\"{\\\\\"id\\\\\":\\\\\"687e7151-33a3-59e0-b377-094d99fc4cd0\\\\\",\\\\\"score\\\\\":0.740019701123825,\\\\\"metadata\\\\\":{\\\\\"text\\\\\":\\\\\"Net\\\\\\\\n loss attributable to Uber Technologies, Inc. was $496 million, a 93% improvement year-over-year, driven by a $1.6 billion pre-tax gain on the sale of ourATG\\\\\\\\n Business to Aurora, a $1.6 billion pre-tax  net benefit relating to Ubers equity investments, as  well as reductions in our fixed cost structure and increasedvariable cost effi\\\\\\\\nciencies. Net loss attributable to Uber Technologies, Inc. also included $1.2 billion of stock-based compensation expense.Adjusted\\\\\",\\\\\"title\\\\\":\\\\\"uber_2021.pdf\\\\\",\\\\\"source\\\\\":\\\\\"data/uber_2021.pdf\\\\\",\\\\\"version\\\\\":\\\\\"v1\\\\\",\\\\\"chunk_order\\\\\":739,\\\\\"document_id\\\\\":\\\\\"c996e617-88a4-5c65-ab1e-948344b18d27\\\\\",\\\\\"extraction_id\\\\\":\\\\\"9592e666-dd2c-5419-ab98-ddb190a8a972\\\\\",\\\\\"associatedQuery\\\\\":\\\\\"What was uber\\'s profit in 2020?\\\\\"}}\", \"{\\\\\"id\\\\\":\\\\\"8e508a41-eefd-56cd-afe7-e8dbdc328221\\\\\",\\\\\"score\\\\\":0.671710153571074,\\\\\"metadata\\\\\":{\\\\\"text\\\\\":\\\\\"the year ended December 31, 2020, gain on business divestitures, net represented a $154 million gain on the sale of our Uber Eats India operationsto Zomato\\\\\\\\n recognized in the first quarter of 2020 and a $77 million gain on the sale of our European Freight Business to sennder GmbH (Sennder) recognized inthe fourth quarter of 2020, pa\\\\\\\\nrtially offset by a $27 million loss on the sale of our JUMP operations to Lime recognized in the second quarter of 2020.During\\\\\",\\\\\"title\\\\\":\\\\\"uber_2021.pdf\\\\\",\\\\\"source\\\\\":\\\\\"data/uber_2021.pdf\\\\\",\\\\\"version\\\\\":\\\\\"v1\\\\\",\\\\\"chunk_order\\\\\":1352,\\\\\"document_id\\\\\":\\\\\"c996e617-88a4-5c65-ab1e-948344b18d27\\\\\",\\\\\"extraction_id\\\\\":\\\\\"576d0d33-6eab-512a-a6f3-81217f02bcdf\\\\\",\\\\\"associatedQuery\\\\\":\\\\\"What was uber\\'s profit in 2020?\\\\\"}}\", \"{\\\\\"id\\\\\":\\\\\"6d7e9a65-71b1-5df2-ade4-0b57bebbfebf\\\\\",\\\\\"score\\\\\":0.6577931838569999,\\\\\"metadata\\\\\":{\\\\\"text\\\\\":\\\\\"See  the section titled Reconciliations of Non-GAAP Financial Measures for our definition and a reconciliation of net loss attributable toUber Technologies, Inc. to Adjusted EBITDA.\\\\\\\\nYear Ended December 31,\\\\\\\\n(In millions, except percentages)\\\\\\\\n2020 2021 2020 to 2021 %Change\\\\\\\\nAdjusted EBITDA\\\\\\\\n$ (2,528) $ (774) 69 %2021 Compared to 2020\\\\\\\\nAdjusted\\\\\\\\n EBITDA  loss  improved  $1.8  billion,  or  69%,  primarily  attributable  to  a  $525  million  improvement  in  Delivery  Adjusted  EBITDA  loss,  a  $427million\\\\\",\\\\\"title\\\\\":\\\\\"uber_2021.pdf\\\\\",\\\\\"source\\\\\":\\\\\"data/uber_2021.pdf\\\\\",\\\\\"version\\\\\":\\\\\"v1\\\\\",\\\\\"chunk_order\\\\\":815,\\\\\"document_id\\\\\":\\\\\"c996e617-88a4-5c65-ab1e-948344b18d27\\\\\",\\\\\"extraction_id\\\\\":\\\\\"249eb6e1-c854-5285-8032-75de2d13a2a4\\\\\",\\\\\"associatedQuery\\\\\":\\\\\"What was uber\\'s profit in 2020?\\\\\"}}\"]'}, {'key': 'search_query', 'value': \"What was uber's profit in 2020?\"}]}\n",
            "{'run_id': UUID('cc83fb4b-219f-408a-bb88-cae829e3dfb0'), 'run_type': 'search', 'entries': [{'key': 'search_latency', 'value': '0.47'}, {'key': 'search_results', 'value': '[\"{\\\\\"id\\\\\":\\\\\"687e7151-33a3-59e0-b377-094d99fc4cd0\\\\\",\\\\\"score\\\\\":0.740019701123825,\\\\\"metadata\\\\\":{\\\\\"text\\\\\":\\\\\"Net\\\\\\\\n loss attributable to Uber Technologies, Inc. was $496 million, a 93% improvement year-over-year, driven by a $1.6 billion pre-tax gain on the sale of ourATG\\\\\\\\n Business to Aurora, a $1.6 billion pre-tax  net benefit relating to Ubers equity investments, as  well as reductions in our fixed cost structure and increasedvariable cost effi\\\\\\\\nciencies. Net loss attributable to Uber Technologies, Inc. also included $1.2 billion of stock-based compensation expense.Adjusted\\\\\",\\\\\"title\\\\\":\\\\\"uber_2021.pdf\\\\\",\\\\\"source\\\\\":\\\\\"data/uber_2021.pdf\\\\\",\\\\\"version\\\\\":\\\\\"v1\\\\\",\\\\\"chunk_order\\\\\":739,\\\\\"document_id\\\\\":\\\\\"c996e617-88a4-5c65-ab1e-948344b18d27\\\\\",\\\\\"extraction_id\\\\\":\\\\\"9592e666-dd2c-5419-ab98-ddb190a8a972\\\\\",\\\\\"associatedQuery\\\\\":\\\\\"What was uber\\'s profit in 2020?\\\\\"}}\", \"{\\\\\"id\\\\\":\\\\\"8e508a41-eefd-56cd-afe7-e8dbdc328221\\\\\",\\\\\"score\\\\\":0.671710153571074,\\\\\"metadata\\\\\":{\\\\\"text\\\\\":\\\\\"the year ended December 31, 2020, gain on business divestitures, net represented a $154 million gain on the sale of our Uber Eats India operationsto Zomato\\\\\\\\n recognized in the first quarter of 2020 and a $77 million gain on the sale of our European Freight Business to sennder GmbH (Sennder) recognized inthe fourth quarter of 2020, pa\\\\\\\\nrtially offset by a $27 million loss on the sale of our JUMP operations to Lime recognized in the second quarter of 2020.During\\\\\",\\\\\"title\\\\\":\\\\\"uber_2021.pdf\\\\\",\\\\\"source\\\\\":\\\\\"data/uber_2021.pdf\\\\\",\\\\\"version\\\\\":\\\\\"v1\\\\\",\\\\\"chunk_order\\\\\":1352,\\\\\"document_id\\\\\":\\\\\"c996e617-88a4-5c65-ab1e-948344b18d27\\\\\",\\\\\"extraction_id\\\\\":\\\\\"576d0d33-6eab-512a-a6f3-81217f02bcdf\\\\\",\\\\\"associatedQuery\\\\\":\\\\\"What was uber\\'s profit in 2020?\\\\\"}}\", \"{\\\\\"id\\\\\":\\\\\"6d7e9a65-71b1-5df2-ade4-0b57bebbfebf\\\\\",\\\\\"score\\\\\":0.6577931838569999,\\\\\"metadata\\\\\":{\\\\\"text\\\\\":\\\\\"See  the section titled Reconciliations of Non-GAAP Financial Measures for our definition and a reconciliation of net loss attributable toUber Technologies, Inc. to Adjusted EBITDA.\\\\\\\\nYear Ended December 31,\\\\\\\\n(In millions, except percentages)\\\\\\\\n2020 2021 2020 to 2021 %Change\\\\\\\\nAdjusted EBITDA\\\\\\\\n$ (2,528) $ (774) 69 %2021 Compared to 2020\\\\\\\\nAdjusted\\\\\\\\n EBITDA  loss  improved  $1.8  billion,  or  69%,  primarily  attributable  to  a  $525  million  improvement  in  Delivery  Adjusted  EBITDA  loss,  a  $427million\\\\\",\\\\\"title\\\\\":\\\\\"uber_2021.pdf\\\\\",\\\\\"source\\\\\":\\\\\"data/uber_2021.pdf\\\\\",\\\\\"version\\\\\":\\\\\"v1\\\\\",\\\\\"chunk_order\\\\\":815,\\\\\"document_id\\\\\":\\\\\"c996e617-88a4-5c65-ab1e-948344b18d27\\\\\",\\\\\"extraction_id\\\\\":\\\\\"249eb6e1-c854-5285-8032-75de2d13a2a4\\\\\",\\\\\"associatedQuery\\\\\":\\\\\"What was uber\\'s profit in 2020?\\\\\"}}\", \"{\\\\\"id\\\\\":\\\\\"4bb49fa7-cf79-575f-9b72-269849883437\\\\\",\\\\\"score\\\\\":0.650049705804876,\\\\\"metadata\\\\\":{\\\\\"text\\\\\":\\\\\"The following table presents a reconciliation of net loss attributable to Uber Technologies, Inc., the most directly comparable GAAP financial measure, toAdjusted EBITDA for each of the periods ind\\\\\\\\nicated:Year Ended December 31,\\\\\\\\n(In millions)\\\\\\\\n2020 2021 Adjusted EBITDA reconciliation:\\\\\\\\nNet loss attributable to Ube\\\\\\\\nr Technologies, Inc.$ (6,768) $ (496) Add (deduct):\\\\\\\\nNet loss attributable to non\\\\\\\\n-controlling interests, net of tax(20) (74) Provision for (benefit fro\\\\\",\\\\\"title\\\\\":\\\\\"uber_2021.pdf\\\\\",\\\\\"source\\\\\":\\\\\"data/uber_2021.pdf\\\\\",\\\\\"version\\\\\":\\\\\"v1\\\\\",\\\\\"chunk_order\\\\\":834,\\\\\"document_id\\\\\":\\\\\"c996e617-88a4-5c65-ab1e-948344b18d27\\\\\",\\\\\"extraction_id\\\\\":\\\\\"4825d03f-6982-56e6-9f9d-eb479bbc8b64\\\\\",\\\\\"associatedQuery\\\\\":\\\\\"What was uber\\'s profit in 2020?\\\\\"}}\", \"{\\\\\"id\\\\\":\\\\\"5b42d336-977f-514d-a925-5ecb5fa6f289\\\\\",\\\\\"score\\\\\":0.626292623656548,\\\\\"metadata\\\\\":{\\\\\"text\\\\\":\\\\\"rial respects, the financial condition and results of operations of Uber Technologies, Inc.Date:\\\\\\\\nFebruary 24, 2022 By: /s/ Nelson Chai Nelson Chai\\\\\\\\nChief Financial Officer\\\\\\\\n(Principal Financial Offic\\\\\\\\ner)\\\\\",\\\\\"title\\\\\":\\\\\"uber_2021.pdf\\\\\",\\\\\"source\\\\\":\\\\\"data/uber_2021.pdf\\\\\",\\\\\"version\\\\\":\\\\\"v1\\\\\",\\\\\"chunk_order\\\\\":3107,\\\\\"document_id\\\\\":\\\\\"c996e617-88a4-5c65-ab1e-948344b18d27\\\\\",\\\\\"extraction_id\\\\\":\\\\\"e5c0d30c-d7e1-53af-9196-956f96352c42\\\\\",\\\\\"associatedQuery\\\\\":\\\\\"What was uber\\'s profit in 2020?\\\\\"}}\", \"{\\\\\"id\\\\\":\\\\\"c2297609-935c-5be4-9ee3-8de02c012cd1\\\\\",\\\\\"score\\\\\":0.6243634410012799,\\\\\"metadata\\\\\":{\\\\\"text\\\\\":\\\\\"(8,512) (6,788) (570) Less: net loss attributab\\\\\\\\nle to non-controlling interests, net of tax(6) (20) (74) Net loss attributable to Uber Technologies, Inc.\\\\\\\\n$ (8,506) $ (6,768) $ (496) Net loss per share attributable to Uber Technologies, Inc. co\\\\\\\\nmmon stockholders:Basic\\\\\\\\n$ (6.81) $ (3.86) $ (0.26) Diluted\\\\\\\\n$ (6.81) $ (3.86) $ (0.29) Weighted-average shares used to compute net loss per shar\\\\\\\\ne attributable to common stockholders:Basic\\\\\\\\n1,248,353 1,752,960 1,892,546 Diluted\\\\\",\\\\\"title\\\\\":\\\\\"uber_2021.pdf\\\\\",\\\\\"source\\\\\":\\\\\"data/uber_2021.pdf\\\\\",\\\\\"version\\\\\":\\\\\"v1\\\\\",\\\\\"chunk_order\\\\\":967,\\\\\"document_id\\\\\":\\\\\"c996e617-88a4-5c65-ab1e-948344b18d27\\\\\",\\\\\"extraction_id\\\\\":\\\\\"50f7a9f2-9d3e-56d5-821e-c3aae6216e6a\\\\\",\\\\\"associatedQuery\\\\\":\\\\\"What was uber\\'s profit in 2020?\\\\\"}}\", \"{\\\\\"id\\\\\":\\\\\"e0fa8ce5-4ccf-5194-acc1-2adfb6bf2574\\\\\",\\\\\"score\\\\\":0.623221892810521,\\\\\"metadata\\\\\":{\\\\\"text\\\\\":\\\\\"Financial and Operational HighlightsYear Ended December 31,\\\\\\\\nConstant Currency (In millions, except percentages)\\\\\\\\n2020 2021 2020 to 2021 %Change\\\\\\\\n2020 to 2021 % Change Monthly Active Platform Consumers \\\\\\\\n(MAPCs) 93 118 27 %Trips \\\\\\\\n5,025 6,368 27 %Gross Bookings \\\\\\\\n$ 57,897 $ 90,415 56 %53 % Revenue\\\\\\\\n$ 11,139 $ 17,455 57 %54 % Net loss attributable to Ube\\\\\\\\nr Technologies, Inc. $ (6,768) $ (496) 93 %Mobility Adjusted EBITDA\\\\\\\\n$ 1,169 $ 1,596 37 %Delivery Adjusted EBITDA\\\\\\\\n$ (873) $ (348) 60 %Adjusted EBITDA\\\\\",\\\\\"title\\\\\":\\\\\"uber_2021.pdf\\\\\",\\\\\"source\\\\\":\\\\\"data/uber_2021.pdf\\\\\",\\\\\"version\\\\\":\\\\\"v1\\\\\",\\\\\"chunk_order\\\\\":734,\\\\\"document_id\\\\\":\\\\\"c996e617-88a4-5c65-ab1e-948344b18d27\\\\\",\\\\\"extraction_id\\\\\":\\\\\"9592e666-dd2c-5419-ab98-ddb190a8a972\\\\\",\\\\\"associatedQuery\\\\\":\\\\\"What was uber\\'s profit in 2020?\\\\\"}}\", \"{\\\\\"id\\\\\":\\\\\"556bfd21-342d-5884-9f43-ddf06c6a7df8\\\\\",\\\\\"score\\\\\":0.6227391322915969,\\\\\"metadata\\\\\":{\\\\\"text\\\\\":\\\\\"issued to new investors in close proximity to the time of our transaction with Zomato. The transaction resulted in a gain on disposal of $154 millionrecognized\\\\\\\\n in other income (expense), net in the consolidated statements of operations during the first quarter of 2020. The income tax effect of the sale was notmaterial.\\\\\\\\n The divestiture  of Uber Eats India did not represent  a strategic  shift that would have had a major  effect  on our operations  and financial  results, andtherefore does not quali\\\\\",\\\\\"title\\\\\":\\\\\"uber_2021.pdf\\\\\",\\\\\"source\\\\\":\\\\\"data/uber_2021.pdf\\\\\",\\\\\"version\\\\\":\\\\\"v1\\\\\",\\\\\"chunk_order\\\\\":1623,\\\\\"document_id\\\\\":\\\\\"c996e617-88a4-5c65-ab1e-948344b18d27\\\\\",\\\\\"extraction_id\\\\\":\\\\\"56749cde-d29e-5ce6-b7ed-4531d7091d80\\\\\",\\\\\"associatedQuery\\\\\":\\\\\"What was uber\\'s profit in 2020?\\\\\"}}\", \"{\\\\\"id\\\\\":\\\\\"de128a7d-bc26-5e4a-9092-c05ae1cfaab4\\\\\",\\\\\"score\\\\\":0.622179966503981,\\\\\"metadata\\\\\":{\\\\\"text\\\\\":\\\\\"(1,625) 3,292 Loss before income taxes and loss from equity me\\\\\\\\nthod investments(6,946) (1,025) Provision for (benefit fro\\\\\\\\nm) income taxes(192) (492) Loss from equity method invest\\\\\\\\nments(34) (37) Net loss including non-controlling interests\\\\\\\\n(6,788) (570) Less: net loss attributab\\\\\\\\nle to non-controlling interests, net of tax(20) (74) Net loss attributable to Uber Technologies, Inc.\\\\\\\\n$ (6,768) $ (496) 54\\\\\",\\\\\"title\\\\\":\\\\\"uber_2021.pdf\\\\\",\\\\\"source\\\\\":\\\\\"data/uber_2021.pdf\\\\\",\\\\\"version\\\\\":\\\\\"v1\\\\\",\\\\\"chunk_order\\\\\":769,\\\\\"document_id\\\\\":\\\\\"c996e617-88a4-5c65-ab1e-948344b18d27\\\\\",\\\\\"extraction_id\\\\\":\\\\\"7e159faa-f3af-5977-8117-99c4ae35efb0\\\\\",\\\\\"associatedQuery\\\\\":\\\\\"What was uber\\'s profit in 2020?\\\\\"}}\", \"{\\\\\"id\\\\\":\\\\\"67181daa-bbac-5168-926a-ef5103e07071\\\\\",\\\\\"score\\\\\":0.612986582904654,\\\\\"metadata\\\\\":{\\\\\"text\\\\\":\\\\\"UBER TECHNOLOGIES, INC.NOTES TO CONSOLIDATED \\\\\\\\nFINANCIAL STATEMENTSNote 1  Description of Business and Summary of Significant Accounting Policies\\\\\\\\nDescription of Business\\\\\\\\nUber\\\\\\\\n Technologies, Inc. (Uber, we, our, or us) was incorporated in Delaware in July 2010, and is headquartered in San Francisco, California. Uber isa\\\\\\\\n technology platform that uses a massive network, leading technology, operational excellence and product expertise to power movement from point A to point B.Uber\\\\\",\\\\\"title\\\\\":\\\\\"uber_2021.pdf\\\\\",\\\\\"source\\\\\":\\\\\"data/uber_2021.pdf\\\\\",\\\\\"version\\\\\":\\\\\"v1\\\\\",\\\\\"chunk_order\\\\\":996,\\\\\"document_id\\\\\":\\\\\"c996e617-88a4-5c65-ab1e-948344b18d27\\\\\",\\\\\"extraction_id\\\\\":\\\\\"d2bd4c47-d4b2-5b98-afa3-fef6f7c109d0\\\\\",\\\\\"associatedQuery\\\\\":\\\\\"What was uber\\'s profit in 2020?\\\\\"}}\"]'}, {'key': 'search_query', 'value': \"What was uber's profit in 2020?\"}]}\n",
            "{'run_id': UUID('a27c26b3-1746-4db3-acde-7bb3a36a6ea5'), 'run_type': 'search', 'entries': [{'key': 'search_latency', 'value': '0.94'}, {'key': 'search_results', 'value': '[\"{\\\\\"id\\\\\":\\\\\"687e7151-33a3-59e0-b377-094d99fc4cd0\\\\\",\\\\\"score\\\\\":1.0,\\\\\"metadata\\\\\":{\\\\\"text\\\\\":\\\\\"Net\\\\\\\\n loss attributable to Uber Technologies, Inc. was $496 million, a 93% improvement year-over-year, driven by a $1.6 billion pre-tax gain on the sale of ourATG\\\\\\\\n Business to Aurora, a $1.6 billion pre-tax  net benefit relating to Ubers equity investments, as  well as reductions in our fixed cost structure and increasedvariable cost effi\\\\\\\\nciencies. Net loss attributable to Uber Technologies, Inc. also included $1.2 billion of stock-based compensation expense.Adjusted\\\\\",\\\\\"title\\\\\":\\\\\"uber_2021.pdf\\\\\",\\\\\"source\\\\\":\\\\\"data/uber_2021.pdf\\\\\",\\\\\"version\\\\\":\\\\\"v1\\\\\",\\\\\"chunk_order\\\\\":739,\\\\\"document_id\\\\\":\\\\\"c996e617-88a4-5c65-ab1e-948344b18d27\\\\\",\\\\\"extraction_id\\\\\":\\\\\"9592e666-dd2c-5419-ab98-ddb190a8a972\\\\\",\\\\\"associatedQuery\\\\\":\\\\\"What was uber\\'s profit in 2020?\\\\\"}}\", \"{\\\\\"id\\\\\":\\\\\"8e508a41-eefd-56cd-afe7-e8dbdc328221\\\\\",\\\\\"score\\\\\":1.0,\\\\\"metadata\\\\\":{\\\\\"text\\\\\":\\\\\"the year ended December 31, 2020, gain on business divestitures, net represented a $154 million gain on the sale of our Uber Eats India operationsto Zomato\\\\\\\\n recognized in the first quarter of 2020 and a $77 million gain on the sale of our European Freight Business to sennder GmbH (Sennder) recognized inthe fourth quarter of 2020, pa\\\\\\\\nrtially offset by a $27 million loss on the sale of our JUMP operations to Lime recognized in the second quarter of 2020.During\\\\\",\\\\\"title\\\\\":\\\\\"uber_2021.pdf\\\\\",\\\\\"source\\\\\":\\\\\"data/uber_2021.pdf\\\\\",\\\\\"version\\\\\":\\\\\"v1\\\\\",\\\\\"chunk_order\\\\\":1352,\\\\\"document_id\\\\\":\\\\\"c996e617-88a4-5c65-ab1e-948344b18d27\\\\\",\\\\\"extraction_id\\\\\":\\\\\"576d0d33-6eab-512a-a6f3-81217f02bcdf\\\\\",\\\\\"associatedQuery\\\\\":\\\\\"What was uber\\'s profit in 2020?\\\\\"}}\", \"{\\\\\"id\\\\\":\\\\\"6d7e9a65-71b1-5df2-ade4-0b57bebbfebf\\\\\",\\\\\"score\\\\\":1.0,\\\\\"metadata\\\\\":{\\\\\"text\\\\\":\\\\\"See  the section titled Reconciliations of Non-GAAP Financial Measures for our definition and a reconciliation of net loss attributable toUber Technologies, Inc. to Adjusted EBITDA.\\\\\\\\nYear Ended December 31,\\\\\\\\n(In millions, except percentages)\\\\\\\\n2020 2021 2020 to 2021 %Change\\\\\\\\nAdjusted EBITDA\\\\\\\\n$ (2,528) $ (774) 69 %2021 Compared to 2020\\\\\\\\nAdjusted\\\\\\\\n EBITDA  loss  improved  $1.8  billion,  or  69%,  primarily  attributable  to  a  $525  million  improvement  in  Delivery  Adjusted  EBITDA  loss,  a  $427million\\\\\",\\\\\"title\\\\\":\\\\\"uber_2021.pdf\\\\\",\\\\\"source\\\\\":\\\\\"data/uber_2021.pdf\\\\\",\\\\\"version\\\\\":\\\\\"v1\\\\\",\\\\\"chunk_order\\\\\":815,\\\\\"document_id\\\\\":\\\\\"c996e617-88a4-5c65-ab1e-948344b18d27\\\\\",\\\\\"extraction_id\\\\\":\\\\\"249eb6e1-c854-5285-8032-75de2d13a2a4\\\\\",\\\\\"associatedQuery\\\\\":\\\\\"What was uber\\'s profit in 2020?\\\\\"}}\"]'}, {'key': 'search_query', 'value': \"What was uber's profit in 2020?\"}]}\n",
            "{'run_id': UUID('d106495c-6798-4cf9-a60c-dc726770859e'), 'run_type': 'search', 'entries': [{'key': 'search_latency', 'value': '0.99'}, {'key': 'search_results', 'value': '[\"{\\\\\"id\\\\\":\\\\\"687e7151-33a3-59e0-b377-094d99fc4cd0\\\\\",\\\\\"score\\\\\":1.0,\\\\\"metadata\\\\\":{\\\\\"text\\\\\":\\\\\"Net\\\\\\\\n loss attributable to Uber Technologies, Inc. was $496 million, a 93% improvement year-over-year, driven by a $1.6 billion pre-tax gain on the sale of ourATG\\\\\\\\n Business to Aurora, a $1.6 billion pre-tax  net benefit relating to Ubers equity investments, as  well as reductions in our fixed cost structure and increasedvariable cost effi\\\\\\\\nciencies. Net loss attributable to Uber Technologies, Inc. also included $1.2 billion of stock-based compensation expense.Adjusted\\\\\",\\\\\"title\\\\\":\\\\\"uber_2021.pdf\\\\\",\\\\\"source\\\\\":\\\\\"data/uber_2021.pdf\\\\\",\\\\\"version\\\\\":\\\\\"v1\\\\\",\\\\\"chunk_order\\\\\":739,\\\\\"document_id\\\\\":\\\\\"c996e617-88a4-5c65-ab1e-948344b18d27\\\\\",\\\\\"extraction_id\\\\\":\\\\\"9592e666-dd2c-5419-ab98-ddb190a8a972\\\\\",\\\\\"associatedQuery\\\\\":\\\\\"What was uber\\'s profit in 2020?\\\\\"}}\", \"{\\\\\"id\\\\\":\\\\\"8e508a41-eefd-56cd-afe7-e8dbdc328221\\\\\",\\\\\"score\\\\\":1.0,\\\\\"metadata\\\\\":{\\\\\"text\\\\\":\\\\\"the year ended December 31, 2020, gain on business divestitures, net represented a $154 million gain on the sale of our Uber Eats India operationsto Zomato\\\\\\\\n recognized in the first quarter of 2020 and a $77 million gain on the sale of our European Freight Business to sennder GmbH (Sennder) recognized inthe fourth quarter of 2020, pa\\\\\\\\nrtially offset by a $27 million loss on the sale of our JUMP operations to Lime recognized in the second quarter of 2020.During\\\\\",\\\\\"title\\\\\":\\\\\"uber_2021.pdf\\\\\",\\\\\"source\\\\\":\\\\\"data/uber_2021.pdf\\\\\",\\\\\"version\\\\\":\\\\\"v1\\\\\",\\\\\"chunk_order\\\\\":1352,\\\\\"document_id\\\\\":\\\\\"c996e617-88a4-5c65-ab1e-948344b18d27\\\\\",\\\\\"extraction_id\\\\\":\\\\\"576d0d33-6eab-512a-a6f3-81217f02bcdf\\\\\",\\\\\"associatedQuery\\\\\":\\\\\"What was uber\\'s profit in 2020?\\\\\"}}\", \"{\\\\\"id\\\\\":\\\\\"6d7e9a65-71b1-5df2-ade4-0b57bebbfebf\\\\\",\\\\\"score\\\\\":1.0,\\\\\"metadata\\\\\":{\\\\\"text\\\\\":\\\\\"See  the section titled Reconciliations of Non-GAAP Financial Measures for our definition and a reconciliation of net loss attributable toUber Technologies, Inc. to Adjusted EBITDA.\\\\\\\\nYear Ended December 31,\\\\\\\\n(In millions, except percentages)\\\\\\\\n2020 2021 2020 to 2021 %Change\\\\\\\\nAdjusted EBITDA\\\\\\\\n$ (2,528) $ (774) 69 %2021 Compared to 2020\\\\\\\\nAdjusted\\\\\\\\n EBITDA  loss  improved  $1.8  billion,  or  69%,  primarily  attributable  to  a  $525  million  improvement  in  Delivery  Adjusted  EBITDA  loss,  a  $427million\\\\\",\\\\\"title\\\\\":\\\\\"uber_2021.pdf\\\\\",\\\\\"source\\\\\":\\\\\"data/uber_2021.pdf\\\\\",\\\\\"version\\\\\":\\\\\"v1\\\\\",\\\\\"chunk_order\\\\\":815,\\\\\"document_id\\\\\":\\\\\"c996e617-88a4-5c65-ab1e-948344b18d27\\\\\",\\\\\"extraction_id\\\\\":\\\\\"249eb6e1-c854-5285-8032-75de2d13a2a4\\\\\",\\\\\"associatedQuery\\\\\":\\\\\"What was uber\\'s profit in 2020?\\\\\"}}\"]'}, {'key': 'search_query', 'value': \"What was uber's profit in 2020?\"}]}\n",
            "{'run_id': UUID('88413bca-8d18-4e48-8e38-39306c3ee4e6'), 'run_type': 'search', 'entries': [{'key': 'search_latency', 'value': '0.42'}, {'key': 'search_results', 'value': '[\"{\\\\\"id\\\\\":\\\\\"687e7151-33a3-59e0-b377-094d99fc4cd0\\\\\",\\\\\"score\\\\\":0.740019701123825,\\\\\"metadata\\\\\":{\\\\\"text\\\\\":\\\\\"Net\\\\\\\\n loss attributable to Uber Technologies, Inc. was $496 million, a 93% improvement year-over-year, driven by a $1.6 billion pre-tax gain on the sale of ourATG\\\\\\\\n Business to Aurora, a $1.6 billion pre-tax  net benefit relating to Ubers equity investments, as  well as reductions in our fixed cost structure and increasedvariable cost effi\\\\\\\\nciencies. Net loss attributable to Uber Technologies, Inc. also included $1.2 billion of stock-based compensation expense.Adjusted\\\\\",\\\\\"title\\\\\":\\\\\"uber_2021.pdf\\\\\",\\\\\"source\\\\\":\\\\\"data/uber_2021.pdf\\\\\",\\\\\"version\\\\\":\\\\\"v1\\\\\",\\\\\"chunk_order\\\\\":739,\\\\\"document_id\\\\\":\\\\\"c996e617-88a4-5c65-ab1e-948344b18d27\\\\\",\\\\\"extraction_id\\\\\":\\\\\"9592e666-dd2c-5419-ab98-ddb190a8a972\\\\\",\\\\\"associatedQuery\\\\\":\\\\\"What was uber\\'s profit in 2020?\\\\\"}}\", \"{\\\\\"id\\\\\":\\\\\"8e508a41-eefd-56cd-afe7-e8dbdc328221\\\\\",\\\\\"score\\\\\":0.671710153571074,\\\\\"metadata\\\\\":{\\\\\"text\\\\\":\\\\\"the year ended December 31, 2020, gain on business divestitures, net represented a $154 million gain on the sale of our Uber Eats India operationsto Zomato\\\\\\\\n recognized in the first quarter of 2020 and a $77 million gain on the sale of our European Freight Business to sennder GmbH (Sennder) recognized inthe fourth quarter of 2020, pa\\\\\\\\nrtially offset by a $27 million loss on the sale of our JUMP operations to Lime recognized in the second quarter of 2020.During\\\\\",\\\\\"title\\\\\":\\\\\"uber_2021.pdf\\\\\",\\\\\"source\\\\\":\\\\\"data/uber_2021.pdf\\\\\",\\\\\"version\\\\\":\\\\\"v1\\\\\",\\\\\"chunk_order\\\\\":1352,\\\\\"document_id\\\\\":\\\\\"c996e617-88a4-5c65-ab1e-948344b18d27\\\\\",\\\\\"extraction_id\\\\\":\\\\\"576d0d33-6eab-512a-a6f3-81217f02bcdf\\\\\",\\\\\"associatedQuery\\\\\":\\\\\"What was uber\\'s profit in 2020?\\\\\"}}\", \"{\\\\\"id\\\\\":\\\\\"6d7e9a65-71b1-5df2-ade4-0b57bebbfebf\\\\\",\\\\\"score\\\\\":0.6577931838569999,\\\\\"metadata\\\\\":{\\\\\"text\\\\\":\\\\\"See  the section titled Reconciliations of Non-GAAP Financial Measures for our definition and a reconciliation of net loss attributable toUber Technologies, Inc. to Adjusted EBITDA.\\\\\\\\nYear Ended December 31,\\\\\\\\n(In millions, except percentages)\\\\\\\\n2020 2021 2020 to 2021 %Change\\\\\\\\nAdjusted EBITDA\\\\\\\\n$ (2,528) $ (774) 69 %2021 Compared to 2020\\\\\\\\nAdjusted\\\\\\\\n EBITDA  loss  improved  $1.8  billion,  or  69%,  primarily  attributable  to  a  $525  million  improvement  in  Delivery  Adjusted  EBITDA  loss,  a  $427million\\\\\",\\\\\"title\\\\\":\\\\\"uber_2021.pdf\\\\\",\\\\\"source\\\\\":\\\\\"data/uber_2021.pdf\\\\\",\\\\\"version\\\\\":\\\\\"v1\\\\\",\\\\\"chunk_order\\\\\":815,\\\\\"document_id\\\\\":\\\\\"c996e617-88a4-5c65-ab1e-948344b18d27\\\\\",\\\\\"extraction_id\\\\\":\\\\\"249eb6e1-c854-5285-8032-75de2d13a2a4\\\\\",\\\\\"associatedQuery\\\\\":\\\\\"What was uber\\'s profit in 2020?\\\\\"}}\"]'}, {'key': 'search_query', 'value': \"What was uber's profit in 2020?\"}]}\n",
            "{'run_id': UUID('51321db6-d9b0-42bf-8fbb-7915f18aae14'), 'run_type': 'search', 'entries': [{'key': 'search_latency', 'value': '0.46'}, {'key': 'search_results', 'value': '[\"{\\\\\"id\\\\\":\\\\\"687e7151-33a3-59e0-b377-094d99fc4cd0\\\\\",\\\\\"score\\\\\":0.740019701123825,\\\\\"metadata\\\\\":{\\\\\"text\\\\\":\\\\\"Net\\\\\\\\n loss attributable to Uber Technologies, Inc. was $496 million, a 93% improvement year-over-year, driven by a $1.6 billion pre-tax gain on the sale of ourATG\\\\\\\\n Business to Aurora, a $1.6 billion pre-tax  net benefit relating to Ubers equity investments, as  well as reductions in our fixed cost structure and increasedvariable cost effi\\\\\\\\nciencies. Net loss attributable to Uber Technologies, Inc. also included $1.2 billion of stock-based compensation expense.Adjusted\\\\\",\\\\\"title\\\\\":\\\\\"uber_2021.pdf\\\\\",\\\\\"source\\\\\":\\\\\"data/uber_2021.pdf\\\\\",\\\\\"version\\\\\":\\\\\"v1\\\\\",\\\\\"chunk_order\\\\\":739,\\\\\"document_id\\\\\":\\\\\"c996e617-88a4-5c65-ab1e-948344b18d27\\\\\",\\\\\"extraction_id\\\\\":\\\\\"9592e666-dd2c-5419-ab98-ddb190a8a972\\\\\",\\\\\"associatedQuery\\\\\":\\\\\"What was uber\\'s profit in 2020?\\\\\"}}\", \"{\\\\\"id\\\\\":\\\\\"8e508a41-eefd-56cd-afe7-e8dbdc328221\\\\\",\\\\\"score\\\\\":0.671710153571074,\\\\\"metadata\\\\\":{\\\\\"text\\\\\":\\\\\"the year ended December 31, 2020, gain on business divestitures, net represented a $154 million gain on the sale of our Uber Eats India operationsto Zomato\\\\\\\\n recognized in the first quarter of 2020 and a $77 million gain on the sale of our European Freight Business to sennder GmbH (Sennder) recognized inthe fourth quarter of 2020, pa\\\\\\\\nrtially offset by a $27 million loss on the sale of our JUMP operations to Lime recognized in the second quarter of 2020.During\\\\\",\\\\\"title\\\\\":\\\\\"uber_2021.pdf\\\\\",\\\\\"source\\\\\":\\\\\"data/uber_2021.pdf\\\\\",\\\\\"version\\\\\":\\\\\"v1\\\\\",\\\\\"chunk_order\\\\\":1352,\\\\\"document_id\\\\\":\\\\\"c996e617-88a4-5c65-ab1e-948344b18d27\\\\\",\\\\\"extraction_id\\\\\":\\\\\"576d0d33-6eab-512a-a6f3-81217f02bcdf\\\\\",\\\\\"associatedQuery\\\\\":\\\\\"What was uber\\'s profit in 2020?\\\\\"}}\", \"{\\\\\"id\\\\\":\\\\\"6d7e9a65-71b1-5df2-ade4-0b57bebbfebf\\\\\",\\\\\"score\\\\\":0.6577931838569999,\\\\\"metadata\\\\\":{\\\\\"text\\\\\":\\\\\"See  the section titled Reconciliations of Non-GAAP Financial Measures for our definition and a reconciliation of net loss attributable toUber Technologies, Inc. to Adjusted EBITDA.\\\\\\\\nYear Ended December 31,\\\\\\\\n(In millions, except percentages)\\\\\\\\n2020 2021 2020 to 2021 %Change\\\\\\\\nAdjusted EBITDA\\\\\\\\n$ (2,528) $ (774) 69 %2021 Compared to 2020\\\\\\\\nAdjusted\\\\\\\\n EBITDA  loss  improved  $1.8  billion,  or  69%,  primarily  attributable  to  a  $525  million  improvement  in  Delivery  Adjusted  EBITDA  loss,  a  $427million\\\\\",\\\\\"title\\\\\":\\\\\"uber_2021.pdf\\\\\",\\\\\"source\\\\\":\\\\\"data/uber_2021.pdf\\\\\",\\\\\"version\\\\\":\\\\\"v1\\\\\",\\\\\"chunk_order\\\\\":815,\\\\\"document_id\\\\\":\\\\\"c996e617-88a4-5c65-ab1e-948344b18d27\\\\\",\\\\\"extraction_id\\\\\":\\\\\"249eb6e1-c854-5285-8032-75de2d13a2a4\\\\\",\\\\\"associatedQuery\\\\\":\\\\\"What was uber\\'s profit in 2020?\\\\\"}}\", \"{\\\\\"id\\\\\":\\\\\"4bb49fa7-cf79-575f-9b72-269849883437\\\\\",\\\\\"score\\\\\":0.650049705804876,\\\\\"metadata\\\\\":{\\\\\"text\\\\\":\\\\\"The following table presents a reconciliation of net loss attributable to Uber Technologies, Inc., the most directly comparable GAAP financial measure, toAdjusted EBITDA for each of the periods ind\\\\\\\\nicated:Year Ended December 31,\\\\\\\\n(In millions)\\\\\\\\n2020 2021 Adjusted EBITDA reconciliation:\\\\\\\\nNet loss attributable to Ube\\\\\\\\nr Technologies, Inc.$ (6,768) $ (496) Add (deduct):\\\\\\\\nNet loss attributable to non\\\\\\\\n-controlling interests, net of tax(20) (74) Provision for (benefit fro\\\\\",\\\\\"title\\\\\":\\\\\"uber_2021.pdf\\\\\",\\\\\"source\\\\\":\\\\\"data/uber_2021.pdf\\\\\",\\\\\"version\\\\\":\\\\\"v1\\\\\",\\\\\"chunk_order\\\\\":834,\\\\\"document_id\\\\\":\\\\\"c996e617-88a4-5c65-ab1e-948344b18d27\\\\\",\\\\\"extraction_id\\\\\":\\\\\"4825d03f-6982-56e6-9f9d-eb479bbc8b64\\\\\",\\\\\"associatedQuery\\\\\":\\\\\"What was uber\\'s profit in 2020?\\\\\"}}\", \"{\\\\\"id\\\\\":\\\\\"5b42d336-977f-514d-a925-5ecb5fa6f289\\\\\",\\\\\"score\\\\\":0.626292623656548,\\\\\"metadata\\\\\":{\\\\\"text\\\\\":\\\\\"rial respects, the financial condition and results of operations of Uber Technologies, Inc.Date:\\\\\\\\nFebruary 24, 2022 By: /s/ Nelson Chai Nelson Chai\\\\\\\\nChief Financial Officer\\\\\\\\n(Principal Financial Offic\\\\\\\\ner)\\\\\",\\\\\"title\\\\\":\\\\\"uber_2021.pdf\\\\\",\\\\\"source\\\\\":\\\\\"data/uber_2021.pdf\\\\\",\\\\\"version\\\\\":\\\\\"v1\\\\\",\\\\\"chunk_order\\\\\":3107,\\\\\"document_id\\\\\":\\\\\"c996e617-88a4-5c65-ab1e-948344b18d27\\\\\",\\\\\"extraction_id\\\\\":\\\\\"e5c0d30c-d7e1-53af-9196-956f96352c42\\\\\",\\\\\"associatedQuery\\\\\":\\\\\"What was uber\\'s profit in 2020?\\\\\"}}\"]'}, {'key': 'search_query', 'value': \"What was uber's profit in 2020?\"}]}\n",
            "{'run_id': UUID('b0041b17-c631-45a6-b39d-7fa1bf92d365'), 'run_type': 'search', 'entries': [{'key': 'search_latency', 'value': '0.62'}, {'key': 'search_results', 'value': '[\"{\\\\\"id\\\\\":\\\\\"687e7151-33a3-59e0-b377-094d99fc4cd0\\\\\",\\\\\"score\\\\\":0.740019701123825,\\\\\"metadata\\\\\":{\\\\\"text\\\\\":\\\\\"Net\\\\\\\\n loss attributable to Uber Technologies, Inc. was $496 million, a 93% improvement year-over-year, driven by a $1.6 billion pre-tax gain on the sale of ourATG\\\\\\\\n Business to Aurora, a $1.6 billion pre-tax  net benefit relating to Ubers equity investments, as  well as reductions in our fixed cost structure and increasedvariable cost effi\\\\\\\\nciencies. Net loss attributable to Uber Technologies, Inc. also included $1.2 billion of stock-based compensation expense.Adjusted\\\\\",\\\\\"title\\\\\":\\\\\"uber_2021.pdf\\\\\",\\\\\"source\\\\\":\\\\\"data/uber_2021.pdf\\\\\",\\\\\"version\\\\\":\\\\\"v1\\\\\",\\\\\"chunk_order\\\\\":739,\\\\\"document_id\\\\\":\\\\\"c996e617-88a4-5c65-ab1e-948344b18d27\\\\\",\\\\\"extraction_id\\\\\":\\\\\"9592e666-dd2c-5419-ab98-ddb190a8a972\\\\\",\\\\\"associatedQuery\\\\\":\\\\\"What was uber\\'s profit in 2020?\\\\\"}}\", \"{\\\\\"id\\\\\":\\\\\"8e508a41-eefd-56cd-afe7-e8dbdc328221\\\\\",\\\\\"score\\\\\":0.671710153571074,\\\\\"metadata\\\\\":{\\\\\"text\\\\\":\\\\\"the year ended December 31, 2020, gain on business divestitures, net represented a $154 million gain on the sale of our Uber Eats India operationsto Zomato\\\\\\\\n recognized in the first quarter of 2020 and a $77 million gain on the sale of our European Freight Business to sennder GmbH (Sennder) recognized inthe fourth quarter of 2020, pa\\\\\\\\nrtially offset by a $27 million loss on the sale of our JUMP operations to Lime recognized in the second quarter of 2020.During\\\\\",\\\\\"title\\\\\":\\\\\"uber_2021.pdf\\\\\",\\\\\"source\\\\\":\\\\\"data/uber_2021.pdf\\\\\",\\\\\"version\\\\\":\\\\\"v1\\\\\",\\\\\"chunk_order\\\\\":1352,\\\\\"document_id\\\\\":\\\\\"c996e617-88a4-5c65-ab1e-948344b18d27\\\\\",\\\\\"extraction_id\\\\\":\\\\\"576d0d33-6eab-512a-a6f3-81217f02bcdf\\\\\",\\\\\"associatedQuery\\\\\":\\\\\"What was uber\\'s profit in 2020?\\\\\"}}\", \"{\\\\\"id\\\\\":\\\\\"6d7e9a65-71b1-5df2-ade4-0b57bebbfebf\\\\\",\\\\\"score\\\\\":0.6577931838569999,\\\\\"metadata\\\\\":{\\\\\"text\\\\\":\\\\\"See  the section titled Reconciliations of Non-GAAP Financial Measures for our definition and a reconciliation of net loss attributable toUber Technologies, Inc. to Adjusted EBITDA.\\\\\\\\nYear Ended December 31,\\\\\\\\n(In millions, except percentages)\\\\\\\\n2020 2021 2020 to 2021 %Change\\\\\\\\nAdjusted EBITDA\\\\\\\\n$ (2,528) $ (774) 69 %2021 Compared to 2020\\\\\\\\nAdjusted\\\\\\\\n EBITDA  loss  improved  $1.8  billion,  or  69%,  primarily  attributable  to  a  $525  million  improvement  in  Delivery  Adjusted  EBITDA  loss,  a  $427million\\\\\",\\\\\"title\\\\\":\\\\\"uber_2021.pdf\\\\\",\\\\\"source\\\\\":\\\\\"data/uber_2021.pdf\\\\\",\\\\\"version\\\\\":\\\\\"v1\\\\\",\\\\\"chunk_order\\\\\":815,\\\\\"document_id\\\\\":\\\\\"c996e617-88a4-5c65-ab1e-948344b18d27\\\\\",\\\\\"extraction_id\\\\\":\\\\\"249eb6e1-c854-5285-8032-75de2d13a2a4\\\\\",\\\\\"associatedQuery\\\\\":\\\\\"What was uber\\'s profit in 2020?\\\\\"}}\", \"{\\\\\"id\\\\\":\\\\\"4bb49fa7-cf79-575f-9b72-269849883437\\\\\",\\\\\"score\\\\\":0.650049705804876,\\\\\"metadata\\\\\":{\\\\\"text\\\\\":\\\\\"The following table presents a reconciliation of net loss attributable to Uber Technologies, Inc., the most directly comparable GAAP financial measure, toAdjusted EBITDA for each of the periods ind\\\\\\\\nicated:Year Ended December 31,\\\\\\\\n(In millions)\\\\\\\\n2020 2021 Adjusted EBITDA reconciliation:\\\\\\\\nNet loss attributable to Ube\\\\\\\\nr Technologies, Inc.$ (6,768) $ (496) Add (deduct):\\\\\\\\nNet loss attributable to non\\\\\\\\n-controlling interests, net of tax(20) (74) Provision for (benefit fro\\\\\",\\\\\"title\\\\\":\\\\\"uber_2021.pdf\\\\\",\\\\\"source\\\\\":\\\\\"data/uber_2021.pdf\\\\\",\\\\\"version\\\\\":\\\\\"v1\\\\\",\\\\\"chunk_order\\\\\":834,\\\\\"document_id\\\\\":\\\\\"c996e617-88a4-5c65-ab1e-948344b18d27\\\\\",\\\\\"extraction_id\\\\\":\\\\\"4825d03f-6982-56e6-9f9d-eb479bbc8b64\\\\\",\\\\\"associatedQuery\\\\\":\\\\\"What was uber\\'s profit in 2020?\\\\\"}}\", \"{\\\\\"id\\\\\":\\\\\"5b42d336-977f-514d-a925-5ecb5fa6f289\\\\\",\\\\\"score\\\\\":0.626292623656548,\\\\\"metadata\\\\\":{\\\\\"text\\\\\":\\\\\"rial respects, the financial condition and results of operations of Uber Technologies, Inc.Date:\\\\\\\\nFebruary 24, 2022 By: /s/ Nelson Chai Nelson Chai\\\\\\\\nChief Financial Officer\\\\\\\\n(Principal Financial Offic\\\\\\\\ner)\\\\\",\\\\\"title\\\\\":\\\\\"uber_2021.pdf\\\\\",\\\\\"source\\\\\":\\\\\"data/uber_2021.pdf\\\\\",\\\\\"version\\\\\":\\\\\"v1\\\\\",\\\\\"chunk_order\\\\\":3107,\\\\\"document_id\\\\\":\\\\\"c996e617-88a4-5c65-ab1e-948344b18d27\\\\\",\\\\\"extraction_id\\\\\":\\\\\"e5c0d30c-d7e1-53af-9196-956f96352c42\\\\\",\\\\\"associatedQuery\\\\\":\\\\\"What was uber\\'s profit in 2020?\\\\\"}}\", \"{\\\\\"id\\\\\":\\\\\"c2297609-935c-5be4-9ee3-8de02c012cd1\\\\\",\\\\\"score\\\\\":0.6243634410012799,\\\\\"metadata\\\\\":{\\\\\"text\\\\\":\\\\\"(8,512) (6,788) (570) Less: net loss attributab\\\\\\\\nle to non-controlling interests, net of tax(6) (20) (74) Net loss attributable to Uber Technologies, Inc.\\\\\\\\n$ (8,506) $ (6,768) $ (496) Net loss per share attributable to Uber Technologies, Inc. co\\\\\\\\nmmon stockholders:Basic\\\\\\\\n$ (6.81) $ (3.86) $ (0.26) Diluted\\\\\\\\n$ (6.81) $ (3.86) $ (0.29) Weighted-average shares used to compute net loss per shar\\\\\\\\ne attributable to common stockholders:Basic\\\\\\\\n1,248,353 1,752,960 1,892,546 Diluted\\\\\",\\\\\"title\\\\\":\\\\\"uber_2021.pdf\\\\\",\\\\\"source\\\\\":\\\\\"data/uber_2021.pdf\\\\\",\\\\\"version\\\\\":\\\\\"v1\\\\\",\\\\\"chunk_order\\\\\":967,\\\\\"document_id\\\\\":\\\\\"c996e617-88a4-5c65-ab1e-948344b18d27\\\\\",\\\\\"extraction_id\\\\\":\\\\\"50f7a9f2-9d3e-56d5-821e-c3aae6216e6a\\\\\",\\\\\"associatedQuery\\\\\":\\\\\"What was uber\\'s profit in 2020?\\\\\"}}\", \"{\\\\\"id\\\\\":\\\\\"e0fa8ce5-4ccf-5194-acc1-2adfb6bf2574\\\\\",\\\\\"score\\\\\":0.623221892810521,\\\\\"metadata\\\\\":{\\\\\"text\\\\\":\\\\\"Financial and Operational HighlightsYear Ended December 31,\\\\\\\\nConstant Currency (In millions, except percentages)\\\\\\\\n2020 2021 2020 to 2021 %Change\\\\\\\\n2020 to 2021 % Change Monthly Active Platform Consumers \\\\\\\\n(MAPCs) 93 118 27 %Trips \\\\\\\\n5,025 6,368 27 %Gross Bookings \\\\\\\\n$ 57,897 $ 90,415 56 %53 % Revenue\\\\\\\\n$ 11,139 $ 17,455 57 %54 % Net loss attributable to Ube\\\\\\\\nr Technologies, Inc. $ (6,768) $ (496) 93 %Mobility Adjusted EBITDA\\\\\\\\n$ 1,169 $ 1,596 37 %Delivery Adjusted EBITDA\\\\\\\\n$ (873) $ (348) 60 %Adjusted EBITDA\\\\\",\\\\\"title\\\\\":\\\\\"uber_2021.pdf\\\\\",\\\\\"source\\\\\":\\\\\"data/uber_2021.pdf\\\\\",\\\\\"version\\\\\":\\\\\"v1\\\\\",\\\\\"chunk_order\\\\\":734,\\\\\"document_id\\\\\":\\\\\"c996e617-88a4-5c65-ab1e-948344b18d27\\\\\",\\\\\"extraction_id\\\\\":\\\\\"9592e666-dd2c-5419-ab98-ddb190a8a972\\\\\",\\\\\"associatedQuery\\\\\":\\\\\"What was uber\\'s profit in 2020?\\\\\"}}\", \"{\\\\\"id\\\\\":\\\\\"556bfd21-342d-5884-9f43-ddf06c6a7df8\\\\\",\\\\\"score\\\\\":0.6227391322915969,\\\\\"metadata\\\\\":{\\\\\"text\\\\\":\\\\\"issued to new investors in close proximity to the time of our transaction with Zomato. The transaction resulted in a gain on disposal of $154 millionrecognized\\\\\\\\n in other income (expense), net in the consolidated statements of operations during the first quarter of 2020. The income tax effect of the sale was notmaterial.\\\\\\\\n The divestiture  of Uber Eats India did not represent  a strategic  shift that would have had a major  effect  on our operations  and financial  results, andtherefore does not quali\\\\\",\\\\\"title\\\\\":\\\\\"uber_2021.pdf\\\\\",\\\\\"source\\\\\":\\\\\"data/uber_2021.pdf\\\\\",\\\\\"version\\\\\":\\\\\"v1\\\\\",\\\\\"chunk_order\\\\\":1623,\\\\\"document_id\\\\\":\\\\\"c996e617-88a4-5c65-ab1e-948344b18d27\\\\\",\\\\\"extraction_id\\\\\":\\\\\"56749cde-d29e-5ce6-b7ed-4531d7091d80\\\\\",\\\\\"associatedQuery\\\\\":\\\\\"What was uber\\'s profit in 2020?\\\\\"}}\", \"{\\\\\"id\\\\\":\\\\\"de128a7d-bc26-5e4a-9092-c05ae1cfaab4\\\\\",\\\\\"score\\\\\":0.622179966503981,\\\\\"metadata\\\\\":{\\\\\"text\\\\\":\\\\\"(1,625) 3,292 Loss before income taxes and loss from equity me\\\\\\\\nthod investments(6,946) (1,025) Provision for (benefit fro\\\\\\\\nm) income taxes(192) (492) Loss from equity method invest\\\\\\\\nments(34) (37) Net loss including non-controlling interests\\\\\\\\n(6,788) (570) Less: net loss attributab\\\\\\\\nle to non-controlling interests, net of tax(20) (74) Net loss attributable to Uber Technologies, Inc.\\\\\\\\n$ (6,768) $ (496) 54\\\\\",\\\\\"title\\\\\":\\\\\"uber_2021.pdf\\\\\",\\\\\"source\\\\\":\\\\\"data/uber_2021.pdf\\\\\",\\\\\"version\\\\\":\\\\\"v1\\\\\",\\\\\"chunk_order\\\\\":769,\\\\\"document_id\\\\\":\\\\\"c996e617-88a4-5c65-ab1e-948344b18d27\\\\\",\\\\\"extraction_id\\\\\":\\\\\"7e159faa-f3af-5977-8117-99c4ae35efb0\\\\\",\\\\\"associatedQuery\\\\\":\\\\\"What was uber\\'s profit in 2020?\\\\\"}}\", \"{\\\\\"id\\\\\":\\\\\"67181daa-bbac-5168-926a-ef5103e07071\\\\\",\\\\\"score\\\\\":0.612986582904654,\\\\\"metadata\\\\\":{\\\\\"text\\\\\":\\\\\"UBER TECHNOLOGIES, INC.NOTES TO CONSOLIDATED \\\\\\\\nFINANCIAL STATEMENTSNote 1  Description of Business and Summary of Significant Accounting Policies\\\\\\\\nDescription of Business\\\\\\\\nUber\\\\\\\\n Technologies, Inc. (Uber, we, our, or us) was incorporated in Delaware in July 2010, and is headquartered in San Francisco, California. Uber isa\\\\\\\\n technology platform that uses a massive network, leading technology, operational excellence and product expertise to power movement from point A to point B.Uber\\\\\",\\\\\"title\\\\\":\\\\\"uber_2021.pdf\\\\\",\\\\\"source\\\\\":\\\\\"data/uber_2021.pdf\\\\\",\\\\\"version\\\\\":\\\\\"v1\\\\\",\\\\\"chunk_order\\\\\":996,\\\\\"document_id\\\\\":\\\\\"c996e617-88a4-5c65-ab1e-948344b18d27\\\\\",\\\\\"extraction_id\\\\\":\\\\\"d2bd4c47-d4b2-5b98-afa3-fef6f7c109d0\\\\\",\\\\\"associatedQuery\\\\\":\\\\\"What was uber\\'s profit in 2020?\\\\\"}}\"]'}, {'key': 'search_query', 'value': \"What was uber's profit in 2020?\"}]}\n",
            "{'run_id': UUID('5f04c929-7ab9-4892-b5a3-f3986e5c69e0'), 'run_type': 'search', 'entries': [{'key': 'search_latency', 'value': '0.51'}, {'key': 'search_results', 'value': '[\"{\\\\\"id\\\\\":\\\\\"687e7151-33a3-59e0-b377-094d99fc4cd0\\\\\",\\\\\"score\\\\\":0.740045867563661,\\\\\"metadata\\\\\":{\\\\\"text\\\\\":\\\\\"Net\\\\\\\\n loss attributable to Uber Technologies, Inc. was $496 million, a 93% improvement year-over-year, driven by a $1.6 billion pre-tax gain on the sale of ourATG\\\\\\\\n Business to Aurora, a $1.6 billion pre-tax  net benefit relating to Ubers equity investments, as  well as reductions in our fixed cost structure and increasedvariable cost effi\\\\\\\\nciencies. Net loss attributable to Uber Technologies, Inc. also included $1.2 billion of stock-based compensation expense.Adjusted\\\\\",\\\\\"title\\\\\":\\\\\"uber_2021.pdf\\\\\",\\\\\"source\\\\\":\\\\\"data/uber_2021.pdf\\\\\",\\\\\"version\\\\\":\\\\\"v1\\\\\",\\\\\"chunk_order\\\\\":739,\\\\\"document_id\\\\\":\\\\\"c996e617-88a4-5c65-ab1e-948344b18d27\\\\\",\\\\\"extraction_id\\\\\":\\\\\"9592e666-dd2c-5419-ab98-ddb190a8a972\\\\\",\\\\\"associatedQuery\\\\\":\\\\\"What was uber\\'s profit in 2020?\\\\\"}}\", \"{\\\\\"id\\\\\":\\\\\"8e508a41-eefd-56cd-afe7-e8dbdc328221\\\\\",\\\\\"score\\\\\":0.67177780484491,\\\\\"metadata\\\\\":{\\\\\"text\\\\\":\\\\\"the year ended December 31, 2020, gain on business divestitures, net represented a $154 million gain on the sale of our Uber Eats India operationsto Zomato\\\\\\\\n recognized in the first quarter of 2020 and a $77 million gain on the sale of our European Freight Business to sennder GmbH (Sennder) recognized inthe fourth quarter of 2020, pa\\\\\\\\nrtially offset by a $27 million loss on the sale of our JUMP operations to Lime recognized in the second quarter of 2020.During\\\\\",\\\\\"title\\\\\":\\\\\"uber_2021.pdf\\\\\",\\\\\"source\\\\\":\\\\\"data/uber_2021.pdf\\\\\",\\\\\"version\\\\\":\\\\\"v1\\\\\",\\\\\"chunk_order\\\\\":1352,\\\\\"document_id\\\\\":\\\\\"c996e617-88a4-5c65-ab1e-948344b18d27\\\\\",\\\\\"extraction_id\\\\\":\\\\\"576d0d33-6eab-512a-a6f3-81217f02bcdf\\\\\",\\\\\"associatedQuery\\\\\":\\\\\"What was uber\\'s profit in 2020?\\\\\"}}\", \"{\\\\\"id\\\\\":\\\\\"6d7e9a65-71b1-5df2-ade4-0b57bebbfebf\\\\\",\\\\\"score\\\\\":0.657803912693379,\\\\\"metadata\\\\\":{\\\\\"text\\\\\":\\\\\"See  the section titled Reconciliations of Non-GAAP Financial Measures for our definition and a reconciliation of net loss attributable toUber Technologies, Inc. to Adjusted EBITDA.\\\\\\\\nYear Ended December 31,\\\\\\\\n(In millions, except percentages)\\\\\\\\n2020 2021 2020 to 2021 %Change\\\\\\\\nAdjusted EBITDA\\\\\\\\n$ (2,528) $ (774) 69 %2021 Compared to 2020\\\\\\\\nAdjusted\\\\\\\\n EBITDA  loss  improved  $1.8  billion,  or  69%,  primarily  attributable  to  a  $525  million  improvement  in  Delivery  Adjusted  EBITDA  loss,  a  $427million\\\\\",\\\\\"title\\\\\":\\\\\"uber_2021.pdf\\\\\",\\\\\"source\\\\\":\\\\\"data/uber_2021.pdf\\\\\",\\\\\"version\\\\\":\\\\\"v1\\\\\",\\\\\"chunk_order\\\\\":815,\\\\\"document_id\\\\\":\\\\\"c996e617-88a4-5c65-ab1e-948344b18d27\\\\\",\\\\\"extraction_id\\\\\":\\\\\"249eb6e1-c854-5285-8032-75de2d13a2a4\\\\\",\\\\\"associatedQuery\\\\\":\\\\\"What was uber\\'s profit in 2020?\\\\\"}}\", \"{\\\\\"id\\\\\":\\\\\"4bb49fa7-cf79-575f-9b72-269849883437\\\\\",\\\\\"score\\\\\":0.650085707011393,\\\\\"metadata\\\\\":{\\\\\"text\\\\\":\\\\\"The following table presents a reconciliation of net loss attributable to Uber Technologies, Inc., the most directly comparable GAAP financial measure, toAdjusted EBITDA for each of the periods ind\\\\\\\\nicated:Year Ended December 31,\\\\\\\\n(In millions)\\\\\\\\n2020 2021 Adjusted EBITDA reconciliation:\\\\\\\\nNet loss attributable to Ube\\\\\\\\nr Technologies, Inc.$ (6,768) $ (496) Add (deduct):\\\\\\\\nNet loss attributable to non\\\\\\\\n-controlling interests, net of tax(20) (74) Provision for (benefit fro\\\\\",\\\\\"title\\\\\":\\\\\"uber_2021.pdf\\\\\",\\\\\"source\\\\\":\\\\\"data/uber_2021.pdf\\\\\",\\\\\"version\\\\\":\\\\\"v1\\\\\",\\\\\"chunk_order\\\\\":834,\\\\\"document_id\\\\\":\\\\\"c996e617-88a4-5c65-ab1e-948344b18d27\\\\\",\\\\\"extraction_id\\\\\":\\\\\"4825d03f-6982-56e6-9f9d-eb479bbc8b64\\\\\",\\\\\"associatedQuery\\\\\":\\\\\"What was uber\\'s profit in 2020?\\\\\"}}\", \"{\\\\\"id\\\\\":\\\\\"5b42d336-977f-514d-a925-5ecb5fa6f289\\\\\",\\\\\"score\\\\\":0.6263507977933169,\\\\\"metadata\\\\\":{\\\\\"text\\\\\":\\\\\"rial respects, the financial condition and results of operations of Uber Technologies, Inc.Date:\\\\\\\\nFebruary 24, 2022 By: /s/ Nelson Chai Nelson Chai\\\\\\\\nChief Financial Officer\\\\\\\\n(Principal Financial Offic\\\\\\\\ner)\\\\\",\\\\\"title\\\\\":\\\\\"uber_2021.pdf\\\\\",\\\\\"source\\\\\":\\\\\"data/uber_2021.pdf\\\\\",\\\\\"version\\\\\":\\\\\"v1\\\\\",\\\\\"chunk_order\\\\\":3107,\\\\\"document_id\\\\\":\\\\\"c996e617-88a4-5c65-ab1e-948344b18d27\\\\\",\\\\\"extraction_id\\\\\":\\\\\"e5c0d30c-d7e1-53af-9196-956f96352c42\\\\\",\\\\\"associatedQuery\\\\\":\\\\\"What was uber\\'s profit in 2020?\\\\\"}}\", \"{\\\\\"id\\\\\":\\\\\"c2297609-935c-5be4-9ee3-8de02c012cd1\\\\\",\\\\\"score\\\\\":0.624429363740366,\\\\\"metadata\\\\\":{\\\\\"text\\\\\":\\\\\"(8,512) (6,788) (570) Less: net loss attributab\\\\\\\\nle to non-controlling interests, net of tax(6) (20) (74) Net loss attributable to Uber Technologies, Inc.\\\\\\\\n$ (8,506) $ (6,768) $ (496) Net loss per share attributable to Uber Technologies, Inc. co\\\\\\\\nmmon stockholders:Basic\\\\\\\\n$ (6.81) $ (3.86) $ (0.26) Diluted\\\\\\\\n$ (6.81) $ (3.86) $ (0.29) Weighted-average shares used to compute net loss per shar\\\\\\\\ne attributable to common stockholders:Basic\\\\\\\\n1,248,353 1,752,960 1,892,546 Diluted\\\\\",\\\\\"title\\\\\":\\\\\"uber_2021.pdf\\\\\",\\\\\"source\\\\\":\\\\\"data/uber_2021.pdf\\\\\",\\\\\"version\\\\\":\\\\\"v1\\\\\",\\\\\"chunk_order\\\\\":967,\\\\\"document_id\\\\\":\\\\\"c996e617-88a4-5c65-ab1e-948344b18d27\\\\\",\\\\\"extraction_id\\\\\":\\\\\"50f7a9f2-9d3e-56d5-821e-c3aae6216e6a\\\\\",\\\\\"associatedQuery\\\\\":\\\\\"What was uber\\'s profit in 2020?\\\\\"}}\", \"{\\\\\"id\\\\\":\\\\\"e0fa8ce5-4ccf-5194-acc1-2adfb6bf2574\\\\\",\\\\\"score\\\\\":0.623309869268831,\\\\\"metadata\\\\\":{\\\\\"text\\\\\":\\\\\"Financial and Operational HighlightsYear Ended December 31,\\\\\\\\nConstant Currency (In millions, except percentages)\\\\\\\\n2020 2021 2020 to 2021 %Change\\\\\\\\n2020 to 2021 % Change Monthly Active Platform Consumers \\\\\\\\n(MAPCs) 93 118 27 %Trips \\\\\\\\n5,025 6,368 27 %Gross Bookings \\\\\\\\n$ 57,897 $ 90,415 56 %53 % Revenue\\\\\\\\n$ 11,139 $ 17,455 57 %54 % Net loss attributable to Ube\\\\\\\\nr Technologies, Inc. $ (6,768) $ (496) 93 %Mobility Adjusted EBITDA\\\\\\\\n$ 1,169 $ 1,596 37 %Delivery Adjusted EBITDA\\\\\\\\n$ (873) $ (348) 60 %Adjusted EBITDA\\\\\",\\\\\"title\\\\\":\\\\\"uber_2021.pdf\\\\\",\\\\\"source\\\\\":\\\\\"data/uber_2021.pdf\\\\\",\\\\\"version\\\\\":\\\\\"v1\\\\\",\\\\\"chunk_order\\\\\":734,\\\\\"document_id\\\\\":\\\\\"c996e617-88a4-5c65-ab1e-948344b18d27\\\\\",\\\\\"extraction_id\\\\\":\\\\\"9592e666-dd2c-5419-ab98-ddb190a8a972\\\\\",\\\\\"associatedQuery\\\\\":\\\\\"What was uber\\'s profit in 2020?\\\\\"}}\", \"{\\\\\"id\\\\\":\\\\\"556bfd21-342d-5884-9f43-ddf06c6a7df8\\\\\",\\\\\"score\\\\\":0.622819062127387,\\\\\"metadata\\\\\":{\\\\\"text\\\\\":\\\\\"issued to new investors in close proximity to the time of our transaction with Zomato. The transaction resulted in a gain on disposal of $154 millionrecognized\\\\\\\\n in other income (expense), net in the consolidated statements of operations during the first quarter of 2020. The income tax effect of the sale was notmaterial.\\\\\\\\n The divestiture  of Uber Eats India did not represent  a strategic  shift that would have had a major  effect  on our operations  and financial  results, andtherefore does not quali\\\\\",\\\\\"title\\\\\":\\\\\"uber_2021.pdf\\\\\",\\\\\"source\\\\\":\\\\\"data/uber_2021.pdf\\\\\",\\\\\"version\\\\\":\\\\\"v1\\\\\",\\\\\"chunk_order\\\\\":1623,\\\\\"document_id\\\\\":\\\\\"c996e617-88a4-5c65-ab1e-948344b18d27\\\\\",\\\\\"extraction_id\\\\\":\\\\\"56749cde-d29e-5ce6-b7ed-4531d7091d80\\\\\",\\\\\"associatedQuery\\\\\":\\\\\"What was uber\\'s profit in 2020?\\\\\"}}\", \"{\\\\\"id\\\\\":\\\\\"de128a7d-bc26-5e4a-9092-c05ae1cfaab4\\\\\",\\\\\"score\\\\\":0.62223659091483,\\\\\"metadata\\\\\":{\\\\\"text\\\\\":\\\\\"(1,625) 3,292 Loss before income taxes and loss from equity me\\\\\\\\nthod investments(6,946) (1,025) Provision for (benefit fro\\\\\\\\nm) income taxes(192) (492) Loss from equity method invest\\\\\\\\nments(34) (37) Net loss including non-controlling interests\\\\\\\\n(6,788) (570) Less: net loss attributab\\\\\\\\nle to non-controlling interests, net of tax(20) (74) Net loss attributable to Uber Technologies, Inc.\\\\\\\\n$ (6,768) $ (496) 54\\\\\",\\\\\"title\\\\\":\\\\\"uber_2021.pdf\\\\\",\\\\\"source\\\\\":\\\\\"data/uber_2021.pdf\\\\\",\\\\\"version\\\\\":\\\\\"v1\\\\\",\\\\\"chunk_order\\\\\":769,\\\\\"document_id\\\\\":\\\\\"c996e617-88a4-5c65-ab1e-948344b18d27\\\\\",\\\\\"extraction_id\\\\\":\\\\\"7e159faa-f3af-5977-8117-99c4ae35efb0\\\\\",\\\\\"associatedQuery\\\\\":\\\\\"What was uber\\'s profit in 2020?\\\\\"}}\", \"{\\\\\"id\\\\\":\\\\\"67181daa-bbac-5168-926a-ef5103e07071\\\\\",\\\\\"score\\\\\":0.6130449954582751,\\\\\"metadata\\\\\":{\\\\\"text\\\\\":\\\\\"UBER TECHNOLOGIES, INC.NOTES TO CONSOLIDATED \\\\\\\\nFINANCIAL STATEMENTSNote 1  Description of Business and Summary of Significant Accounting Policies\\\\\\\\nDescription of Business\\\\\\\\nUber\\\\\\\\n Technologies, Inc. (Uber, we, our, or us) was incorporated in Delaware in July 2010, and is headquartered in San Francisco, California. Uber isa\\\\\\\\n technology platform that uses a massive network, leading technology, operational excellence and product expertise to power movement from point A to point B.Uber\\\\\",\\\\\"title\\\\\":\\\\\"uber_2021.pdf\\\\\",\\\\\"source\\\\\":\\\\\"data/uber_2021.pdf\\\\\",\\\\\"version\\\\\":\\\\\"v1\\\\\",\\\\\"chunk_order\\\\\":996,\\\\\"document_id\\\\\":\\\\\"c996e617-88a4-5c65-ab1e-948344b18d27\\\\\",\\\\\"extraction_id\\\\\":\\\\\"d2bd4c47-d4b2-5b98-afa3-fef6f7c109d0\\\\\",\\\\\"associatedQuery\\\\\":\\\\\"What was uber\\'s profit in 2020?\\\\\"}}\"]'}, {'key': 'search_query', 'value': \"What was uber's profit in 2020?\"}]}\n",
            "{'run_id': UUID('e929427f-2891-41f1-9b3f-83f81ff3e9bc'), 'run_type': 'search', 'entries': [{'key': 'search_latency', 'value': '0.45'}, {'key': 'search_results', 'value': '[\"{\\\\\"id\\\\\":\\\\\"687e7151-33a3-59e0-b377-094d99fc4cd0\\\\\",\\\\\"score\\\\\":0.740019701123825,\\\\\"metadata\\\\\":{\\\\\"text\\\\\":\\\\\"Net\\\\\\\\n loss attributable to Uber Technologies, Inc. was $496 million, a 93% improvement year-over-year, driven by a $1.6 billion pre-tax gain on the sale of ourATG\\\\\\\\n Business to Aurora, a $1.6 billion pre-tax  net benefit relating to Ubers equity investments, as  well as reductions in our fixed cost structure and increasedvariable cost effi\\\\\\\\nciencies. Net loss attributable to Uber Technologies, Inc. also included $1.2 billion of stock-based compensation expense.Adjusted\\\\\",\\\\\"title\\\\\":\\\\\"uber_2021.pdf\\\\\",\\\\\"source\\\\\":\\\\\"data/uber_2021.pdf\\\\\",\\\\\"version\\\\\":\\\\\"v1\\\\\",\\\\\"chunk_order\\\\\":739,\\\\\"document_id\\\\\":\\\\\"c996e617-88a4-5c65-ab1e-948344b18d27\\\\\",\\\\\"extraction_id\\\\\":\\\\\"9592e666-dd2c-5419-ab98-ddb190a8a972\\\\\",\\\\\"associatedQuery\\\\\":\\\\\"What was uber\\'s profit in 2020?\\\\\"}}\", \"{\\\\\"id\\\\\":\\\\\"8e508a41-eefd-56cd-afe7-e8dbdc328221\\\\\",\\\\\"score\\\\\":0.671710153571074,\\\\\"metadata\\\\\":{\\\\\"text\\\\\":\\\\\"the year ended December 31, 2020, gain on business divestitures, net represented a $154 million gain on the sale of our Uber Eats India operationsto Zomato\\\\\\\\n recognized in the first quarter of 2020 and a $77 million gain on the sale of our European Freight Business to sennder GmbH (Sennder) recognized inthe fourth quarter of 2020, pa\\\\\\\\nrtially offset by a $27 million loss on the sale of our JUMP operations to Lime recognized in the second quarter of 2020.During\\\\\",\\\\\"title\\\\\":\\\\\"uber_2021.pdf\\\\\",\\\\\"source\\\\\":\\\\\"data/uber_2021.pdf\\\\\",\\\\\"version\\\\\":\\\\\"v1\\\\\",\\\\\"chunk_order\\\\\":1352,\\\\\"document_id\\\\\":\\\\\"c996e617-88a4-5c65-ab1e-948344b18d27\\\\\",\\\\\"extraction_id\\\\\":\\\\\"576d0d33-6eab-512a-a6f3-81217f02bcdf\\\\\",\\\\\"associatedQuery\\\\\":\\\\\"What was uber\\'s profit in 2020?\\\\\"}}\", \"{\\\\\"id\\\\\":\\\\\"6d7e9a65-71b1-5df2-ade4-0b57bebbfebf\\\\\",\\\\\"score\\\\\":0.6577931838569999,\\\\\"metadata\\\\\":{\\\\\"text\\\\\":\\\\\"See  the section titled Reconciliations of Non-GAAP Financial Measures for our definition and a reconciliation of net loss attributable toUber Technologies, Inc. to Adjusted EBITDA.\\\\\\\\nYear Ended December 31,\\\\\\\\n(In millions, except percentages)\\\\\\\\n2020 2021 2020 to 2021 %Change\\\\\\\\nAdjusted EBITDA\\\\\\\\n$ (2,528) $ (774) 69 %2021 Compared to 2020\\\\\\\\nAdjusted\\\\\\\\n EBITDA  loss  improved  $1.8  billion,  or  69%,  primarily  attributable  to  a  $525  million  improvement  in  Delivery  Adjusted  EBITDA  loss,  a  $427million\\\\\",\\\\\"title\\\\\":\\\\\"uber_2021.pdf\\\\\",\\\\\"source\\\\\":\\\\\"data/uber_2021.pdf\\\\\",\\\\\"version\\\\\":\\\\\"v1\\\\\",\\\\\"chunk_order\\\\\":815,\\\\\"document_id\\\\\":\\\\\"c996e617-88a4-5c65-ab1e-948344b18d27\\\\\",\\\\\"extraction_id\\\\\":\\\\\"249eb6e1-c854-5285-8032-75de2d13a2a4\\\\\",\\\\\"associatedQuery\\\\\":\\\\\"What was uber\\'s profit in 2020?\\\\\"}}\", \"{\\\\\"id\\\\\":\\\\\"4bb49fa7-cf79-575f-9b72-269849883437\\\\\",\\\\\"score\\\\\":0.650049705804876,\\\\\"metadata\\\\\":{\\\\\"text\\\\\":\\\\\"The following table presents a reconciliation of net loss attributable to Uber Technologies, Inc., the most directly comparable GAAP financial measure, toAdjusted EBITDA for each of the periods ind\\\\\\\\nicated:Year Ended December 31,\\\\\\\\n(In millions)\\\\\\\\n2020 2021 Adjusted EBITDA reconciliation:\\\\\\\\nNet loss attributable to Ube\\\\\\\\nr Technologies, Inc.$ (6,768) $ (496) Add (deduct):\\\\\\\\nNet loss attributable to non\\\\\\\\n-controlling interests, net of tax(20) (74) Provision for (benefit fro\\\\\",\\\\\"title\\\\\":\\\\\"uber_2021.pdf\\\\\",\\\\\"source\\\\\":\\\\\"data/uber_2021.pdf\\\\\",\\\\\"version\\\\\":\\\\\"v1\\\\\",\\\\\"chunk_order\\\\\":834,\\\\\"document_id\\\\\":\\\\\"c996e617-88a4-5c65-ab1e-948344b18d27\\\\\",\\\\\"extraction_id\\\\\":\\\\\"4825d03f-6982-56e6-9f9d-eb479bbc8b64\\\\\",\\\\\"associatedQuery\\\\\":\\\\\"What was uber\\'s profit in 2020?\\\\\"}}\", \"{\\\\\"id\\\\\":\\\\\"5b42d336-977f-514d-a925-5ecb5fa6f289\\\\\",\\\\\"score\\\\\":0.626292623656548,\\\\\"metadata\\\\\":{\\\\\"text\\\\\":\\\\\"rial respects, the financial condition and results of operations of Uber Technologies, Inc.Date:\\\\\\\\nFebruary 24, 2022 By: /s/ Nelson Chai Nelson Chai\\\\\\\\nChief Financial Officer\\\\\\\\n(Principal Financial Offic\\\\\\\\ner)\\\\\",\\\\\"title\\\\\":\\\\\"uber_2021.pdf\\\\\",\\\\\"source\\\\\":\\\\\"data/uber_2021.pdf\\\\\",\\\\\"version\\\\\":\\\\\"v1\\\\\",\\\\\"chunk_order\\\\\":3107,\\\\\"document_id\\\\\":\\\\\"c996e617-88a4-5c65-ab1e-948344b18d27\\\\\",\\\\\"extraction_id\\\\\":\\\\\"e5c0d30c-d7e1-53af-9196-956f96352c42\\\\\",\\\\\"associatedQuery\\\\\":\\\\\"What was uber\\'s profit in 2020?\\\\\"}}\", \"{\\\\\"id\\\\\":\\\\\"c2297609-935c-5be4-9ee3-8de02c012cd1\\\\\",\\\\\"score\\\\\":0.6243634410012799,\\\\\"metadata\\\\\":{\\\\\"text\\\\\":\\\\\"(8,512) (6,788) (570) Less: net loss attributab\\\\\\\\nle to non-controlling interests, net of tax(6) (20) (74) Net loss attributable to Uber Technologies, Inc.\\\\\\\\n$ (8,506) $ (6,768) $ (496) Net loss per share attributable to Uber Technologies, Inc. co\\\\\\\\nmmon stockholders:Basic\\\\\\\\n$ (6.81) $ (3.86) $ (0.26) Diluted\\\\\\\\n$ (6.81) $ (3.86) $ (0.29) Weighted-average shares used to compute net loss per shar\\\\\\\\ne attributable to common stockholders:Basic\\\\\\\\n1,248,353 1,752,960 1,892,546 Diluted\\\\\",\\\\\"title\\\\\":\\\\\"uber_2021.pdf\\\\\",\\\\\"source\\\\\":\\\\\"data/uber_2021.pdf\\\\\",\\\\\"version\\\\\":\\\\\"v1\\\\\",\\\\\"chunk_order\\\\\":967,\\\\\"document_id\\\\\":\\\\\"c996e617-88a4-5c65-ab1e-948344b18d27\\\\\",\\\\\"extraction_id\\\\\":\\\\\"50f7a9f2-9d3e-56d5-821e-c3aae6216e6a\\\\\",\\\\\"associatedQuery\\\\\":\\\\\"What was uber\\'s profit in 2020?\\\\\"}}\", \"{\\\\\"id\\\\\":\\\\\"e0fa8ce5-4ccf-5194-acc1-2adfb6bf2574\\\\\",\\\\\"score\\\\\":0.623221892810521,\\\\\"metadata\\\\\":{\\\\\"text\\\\\":\\\\\"Financial and Operational HighlightsYear Ended December 31,\\\\\\\\nConstant Currency (In millions, except percentages)\\\\\\\\n2020 2021 2020 to 2021 %Change\\\\\\\\n2020 to 2021 % Change Monthly Active Platform Consumers \\\\\\\\n(MAPCs) 93 118 27 %Trips \\\\\\\\n5,025 6,368 27 %Gross Bookings \\\\\\\\n$ 57,897 $ 90,415 56 %53 % Revenue\\\\\\\\n$ 11,139 $ 17,455 57 %54 % Net loss attributable to Ube\\\\\\\\nr Technologies, Inc. $ (6,768) $ (496) 93 %Mobility Adjusted EBITDA\\\\\\\\n$ 1,169 $ 1,596 37 %Delivery Adjusted EBITDA\\\\\\\\n$ (873) $ (348) 60 %Adjusted EBITDA\\\\\",\\\\\"title\\\\\":\\\\\"uber_2021.pdf\\\\\",\\\\\"source\\\\\":\\\\\"data/uber_2021.pdf\\\\\",\\\\\"version\\\\\":\\\\\"v1\\\\\",\\\\\"chunk_order\\\\\":734,\\\\\"document_id\\\\\":\\\\\"c996e617-88a4-5c65-ab1e-948344b18d27\\\\\",\\\\\"extraction_id\\\\\":\\\\\"9592e666-dd2c-5419-ab98-ddb190a8a972\\\\\",\\\\\"associatedQuery\\\\\":\\\\\"What was uber\\'s profit in 2020?\\\\\"}}\", \"{\\\\\"id\\\\\":\\\\\"556bfd21-342d-5884-9f43-ddf06c6a7df8\\\\\",\\\\\"score\\\\\":0.6227391322915969,\\\\\"metadata\\\\\":{\\\\\"text\\\\\":\\\\\"issued to new investors in close proximity to the time of our transaction with Zomato. The transaction resulted in a gain on disposal of $154 millionrecognized\\\\\\\\n in other income (expense), net in the consolidated statements of operations during the first quarter of 2020. The income tax effect of the sale was notmaterial.\\\\\\\\n The divestiture  of Uber Eats India did not represent  a strategic  shift that would have had a major  effect  on our operations  and financial  results, andtherefore does not quali\\\\\",\\\\\"title\\\\\":\\\\\"uber_2021.pdf\\\\\",\\\\\"source\\\\\":\\\\\"data/uber_2021.pdf\\\\\",\\\\\"version\\\\\":\\\\\"v1\\\\\",\\\\\"chunk_order\\\\\":1623,\\\\\"document_id\\\\\":\\\\\"c996e617-88a4-5c65-ab1e-948344b18d27\\\\\",\\\\\"extraction_id\\\\\":\\\\\"56749cde-d29e-5ce6-b7ed-4531d7091d80\\\\\",\\\\\"associatedQuery\\\\\":\\\\\"What was uber\\'s profit in 2020?\\\\\"}}\", \"{\\\\\"id\\\\\":\\\\\"de128a7d-bc26-5e4a-9092-c05ae1cfaab4\\\\\",\\\\\"score\\\\\":0.622179966503981,\\\\\"metadata\\\\\":{\\\\\"text\\\\\":\\\\\"(1,625) 3,292 Loss before income taxes and loss from equity me\\\\\\\\nthod investments(6,946) (1,025) Provision for (benefit fro\\\\\\\\nm) income taxes(192) (492) Loss from equity method invest\\\\\\\\nments(34) (37) Net loss including non-controlling interests\\\\\\\\n(6,788) (570) Less: net loss attributab\\\\\\\\nle to non-controlling interests, net of tax(20) (74) Net loss attributable to Uber Technologies, Inc.\\\\\\\\n$ (6,768) $ (496) 54\\\\\",\\\\\"title\\\\\":\\\\\"uber_2021.pdf\\\\\",\\\\\"source\\\\\":\\\\\"data/uber_2021.pdf\\\\\",\\\\\"version\\\\\":\\\\\"v1\\\\\",\\\\\"chunk_order\\\\\":769,\\\\\"document_id\\\\\":\\\\\"c996e617-88a4-5c65-ab1e-948344b18d27\\\\\",\\\\\"extraction_id\\\\\":\\\\\"7e159faa-f3af-5977-8117-99c4ae35efb0\\\\\",\\\\\"associatedQuery\\\\\":\\\\\"What was uber\\'s profit in 2020?\\\\\"}}\", \"{\\\\\"id\\\\\":\\\\\"67181daa-bbac-5168-926a-ef5103e07071\\\\\",\\\\\"score\\\\\":0.612986582904654,\\\\\"metadata\\\\\":{\\\\\"text\\\\\":\\\\\"UBER TECHNOLOGIES, INC.NOTES TO CONSOLIDATED \\\\\\\\nFINANCIAL STATEMENTSNote 1  Description of Business and Summary of Significant Accounting Policies\\\\\\\\nDescription of Business\\\\\\\\nUber\\\\\\\\n Technologies, Inc. (Uber, we, our, or us) was incorporated in Delaware in July 2010, and is headquartered in San Francisco, California. Uber isa\\\\\\\\n technology platform that uses a massive network, leading technology, operational excellence and product expertise to power movement from point A to point B.Uber\\\\\",\\\\\"title\\\\\":\\\\\"uber_2021.pdf\\\\\",\\\\\"source\\\\\":\\\\\"data/uber_2021.pdf\\\\\",\\\\\"version\\\\\":\\\\\"v1\\\\\",\\\\\"chunk_order\\\\\":996,\\\\\"document_id\\\\\":\\\\\"c996e617-88a4-5c65-ab1e-948344b18d27\\\\\",\\\\\"extraction_id\\\\\":\\\\\"d2bd4c47-d4b2-5b98-afa3-fef6f7c109d0\\\\\",\\\\\"associatedQuery\\\\\":\\\\\"What was uber\\'s profit in 2020?\\\\\"}}\"]'}, {'key': 'search_query', 'value': \"What was uber's profit in 2020?\"}]}\n",
            "{'run_id': UUID('2b10f5da-d114-4ff6-b407-0dd25e91bab3'), 'run_type': 'search', 'entries': [{'key': 'search_latency', 'value': '0.71'}, {'key': 'search_results', 'value': '[\"{\\\\\"id\\\\\":\\\\\"dd69ae5a-afaf-5e52-8aa7-6ed257a511b6\\\\\",\\\\\"score\\\\\":0.59849021425785,\\\\\"metadata\\\\\":{\\\\\"text\\\\\":\\\\\"Brother to Tyrion and Cersei, as well as Cersei\\\\u2019s lover. Jaime is arrogant, short-tempered, and rash, but he\\\\u2019s also a gifted swordsman. He is widely mistrusted and called Kingslayer because he murdered the previous king.\\\\\\\\nPetyr (Littlefinger) Baelish\\\\\\\\nThe Red Keep\\\\u2019s master of coin. He is shrewd, conniving, and selfish, and he keeps informed about everything that goes on in King\\\\u2019s Landing. He holds a grudge against the Starks because he wanted to marry Catelyn when he was younger.\\\\\\\\nVarys (The Spider)\\\\\",\\\\\"title\\\\\":\\\\\"got.txt\\\\\",\\\\\"source\\\\\":\\\\\"data/got.txt\\\\\",\\\\\"version\\\\\":\\\\\"v1\\\\\",\\\\\"chunk_order\\\\\":5,\\\\\"document_id\\\\\":\\\\\"ba77307d-6c8a-549f-812a-3558697e2842\\\\\",\\\\\"extraction_id\\\\\":\\\\\"43d43dc9-f1f9-54e7-bf45-8c5aa8167862\\\\\",\\\\\"associatedQuery\\\\\":\\\\\"Who was the Kingslayer?\\\\\"}}\", \"{\\\\\"id\\\\\":\\\\\"8de54015-b8d3-5b21-8711-dc58f871cd3b\\\\\",\\\\\"score\\\\\":0.588736057281498,\\\\\"metadata\\\\\":{\\\\\"text\\\\\":\\\\\"id=\\\\\\\\\\\\\"LC76\\\\\\\\\\\\\" class=\\\\\\\\\\\\\"react-file-line html-div\\\\\\\\\\\\\" data-testid=\\\\\\\\\\\\\"code-cell\\\\\\\\\\\\\" data-line-number=\\\\\\\\\\\\\"76\\\\\\\\\\\\\" style=\\\\\\\\\\\\\"position:relative\\\\\\\\\\\\\">King of Westeros before Robert Baratheon. He was known as The Mad King because of his cruelty. Aerys murdered Ned\\\\u2019s older brother, Brandon Stark, in the Red Keep\\\\u2019s throne room. At the end of the war that followed, Jaime Lannister slew Aerys in the same room.</div></div></div><div class=\\\\\\\\\\\\\"react-code-text react-code-line-contents\\\\\\\\\\\\\" style=\\\\\\\\\\\\\"min-height:auto\\\\\\\\\\\\\"><div><div id=\\\\\\\\\\\\\"LC77\\\\\\\\\\\\\" class=\\\\\\\\\\\\\"react-file-line\\\\\",\\\\\"title\\\\\":\\\\\"got.txt\\\\\",\\\\\"source\\\\\":\\\\\"data/got.txt\\\\\",\\\\\"version\\\\\":\\\\\"v1\\\\\",\\\\\"chunk_order\\\\\":893,\\\\\"document_id\\\\\":\\\\\"ba77307d-6c8a-549f-812a-3558697e2842\\\\\",\\\\\"extraction_id\\\\\":\\\\\"43d43dc9-f1f9-54e7-bf45-8c5aa8167862\\\\\",\\\\\"associatedQuery\\\\\":\\\\\"Who was the Kingslayer?\\\\\"}}\", \"{\\\\\"id\\\\\":\\\\\"05669bf3-13d5-5c03-ac77-294317db62da\\\\\",\\\\\"score\\\\\":0.588649308004935,\\\\\"metadata\\\\\":{\\\\\"text\\\\\":\\\\\"id=\\\\\\\\\\\\\"LC76\\\\\\\\\\\\\" class=\\\\\\\\\\\\\"react-file-line html-div\\\\\\\\\\\\\" data-testid=\\\\\\\\\\\\\"code-cell\\\\\\\\\\\\\" data-line-number=\\\\\\\\\\\\\"76\\\\\\\\\\\\\" style=\\\\\\\\\\\\\"position:relative\\\\\\\\\\\\\">King of Westeros before Robert Baratheon. He was known as The Mad King because of his cruelty. Aerys murdered Ned\\\\u2019s older brother, Brandon Stark, in the Red Keep\\\\u2019s throne room. At the end of the war that followed, Jaime Lannister slew Aerys in the same room.</div></div></div><div class=\\\\\\\\\\\\\"react-code-text react-code-line-contents\\\\\\\\\\\\\" style=\\\\\\\\\\\\\"min-height:auto\\\\\\\\\\\\\"><div><div id=\\\\\\\\\\\\\"LC77\\\\\\\\\\\\\" class=\\\\\\\\\\\\\"react-file-line\\\\\",\\\\\"title\\\\\":\\\\\"got.txt\\\\\",\\\\\"source\\\\\":\\\\\"data/got.txt\\\\\",\\\\\"version\\\\\":\\\\\"v0\\\\\",\\\\\"chunk_order\\\\\":893,\\\\\"document_id\\\\\":\\\\\"48dcae37-7284-47cc-a75e-74658d0dc4f4\\\\\",\\\\\"extraction_id\\\\\":\\\\\"c0d29f64-46e5-501b-9d64-4e0312d37e92\\\\\",\\\\\"associatedQuery\\\\\":\\\\\"Who was the Kingslayer?\\\\\"}}\", \"{\\\\\"id\\\\\":\\\\\"03c4d360-bc10-5e68-9232-2a35059cf09b\\\\\",\\\\\"score\\\\\":0.586588112501519,\\\\\"metadata\\\\\":{\\\\\"text\\\\\":\\\\\"id=\\\\\\\\\\\\\"LC30\\\\\\\\\\\\\" class=\\\\\\\\\\\\\"react-file-line html-div\\\\\\\\\\\\\" data-testid=\\\\\\\\\\\\\"code-cell\\\\\\\\\\\\\" data-line-number=\\\\\\\\\\\\\"30\\\\\\\\\\\\\" style=\\\\\\\\\\\\\"position:relative\\\\\\\\\\\\\">Brother of Daenerys and son of the murdered King Aerys Targaryen. Having lived in exile for many years, earning him the nickname of The Beggar King, he wants to return to Westeros and retake the throne. He is arrogant, cruel, easily angered, and foolish.</div></div></div><div class=\\\\\\\\\\\\\"react-code-text react-code-line-contents\\\\\\\\\\\\\" style=\\\\\\\\\\\\\"min-height:auto\\\\\\\\\\\\\"><div><div id=\\\\\\\\\\\\\"LC31\\\\\\\\\\\\\" class=\\\\\\\\\\\\\"react-file-line\\\\\",\\\\\"title\\\\\":\\\\\"got.txt\\\\\",\\\\\"source\\\\\":\\\\\"data/got.txt\\\\\",\\\\\"version\\\\\":\\\\\"v0\\\\\",\\\\\"chunk_order\\\\\":862,\\\\\"document_id\\\\\":\\\\\"48dcae37-7284-47cc-a75e-74658d0dc4f4\\\\\",\\\\\"extraction_id\\\\\":\\\\\"c0d29f64-46e5-501b-9d64-4e0312d37e92\\\\\",\\\\\"associatedQuery\\\\\":\\\\\"Who was the Kingslayer?\\\\\"}}\", \"{\\\\\"id\\\\\":\\\\\"3ce8c31c-6241-5b6e-84f4-d0304a2581b0\\\\\",\\\\\"score\\\\\":0.586530422361519,\\\\\"metadata\\\\\":{\\\\\"text\\\\\":\\\\\"id=\\\\\\\\\\\\\"LC30\\\\\\\\\\\\\" class=\\\\\\\\\\\\\"react-file-line html-div\\\\\\\\\\\\\" data-testid=\\\\\\\\\\\\\"code-cell\\\\\\\\\\\\\" data-line-number=\\\\\\\\\\\\\"30\\\\\\\\\\\\\" style=\\\\\\\\\\\\\"position:relative\\\\\\\\\\\\\">Brother of Daenerys and son of the murdered King Aerys Targaryen. Having lived in exile for many years, earning him the nickname of The Beggar King, he wants to return to Westeros and retake the throne. He is arrogant, cruel, easily angered, and foolish.</div></div></div><div class=\\\\\\\\\\\\\"react-code-text react-code-line-contents\\\\\\\\\\\\\" style=\\\\\\\\\\\\\"min-height:auto\\\\\\\\\\\\\"><div><div id=\\\\\\\\\\\\\"LC31\\\\\\\\\\\\\" class=\\\\\\\\\\\\\"react-file-line\\\\\",\\\\\"title\\\\\":\\\\\"got.txt\\\\\",\\\\\"source\\\\\":\\\\\"data/got.txt\\\\\",\\\\\"version\\\\\":\\\\\"v1\\\\\",\\\\\"chunk_order\\\\\":862,\\\\\"document_id\\\\\":\\\\\"ba77307d-6c8a-549f-812a-3558697e2842\\\\\",\\\\\"extraction_id\\\\\":\\\\\"43d43dc9-f1f9-54e7-bf45-8c5aa8167862\\\\\",\\\\\"associatedQuery\\\\\":\\\\\"Who was the Kingslayer?\\\\\"}}\", \"{\\\\\"id\\\\\":\\\\\"8880e8a7-7f0e-58ae-9086-57205249f500\\\\\",\\\\\"score\\\\\":0.585971593856816,\\\\\"metadata\\\\\":{\\\\\"text\\\\\":\\\\\"html-div\\\\\\\\\\\\\" data-testid=\\\\\\\\\\\\\"code-cell\\\\\\\\\\\\\" data-line-number=\\\\\\\\\\\\\"20\\\\\\\\\\\\\" style=\\\\\\\\\\\\\"position:relative\\\\\\\\\\\\\">Brother to Tyrion and Cersei, as well as Cersei\\\\u2019s lover. Jaime is arrogant, short-tempered, and rash, but he\\\\u2019s also a gifted swordsman. He is widely mistrusted and called Kingslayer because he murdered the previous king.</div></div></div><div class=\\\\\\\\\\\\\"react-code-text react-code-line-contents\\\\\\\\\\\\\" style=\\\\\\\\\\\\\"min-height:auto\\\\\\\\\\\\\"><div><div id=\\\\\\\\\\\\\"LC21\\\\\\\\\\\\\" class=\\\\\\\\\\\\\"react-file-line html-div\\\\\\\\\\\\\" data-testid=\\\\\\\\\\\\\"code-cell\\\\\\\\\\\\\" data-line-number=\\\\\\\\\\\\\"21\\\\\\\\\\\\\"\\\\\",\\\\\"title\\\\\":\\\\\"got.txt\\\\\",\\\\\"source\\\\\":\\\\\"data/got.txt\\\\\",\\\\\"version\\\\\":\\\\\"v0\\\\\",\\\\\"chunk_order\\\\\":855,\\\\\"document_id\\\\\":\\\\\"48dcae37-7284-47cc-a75e-74658d0dc4f4\\\\\",\\\\\"extraction_id\\\\\":\\\\\"c0d29f64-46e5-501b-9d64-4e0312d37e92\\\\\",\\\\\"associatedQuery\\\\\":\\\\\"Who was the Kingslayer?\\\\\"}}\", \"{\\\\\"id\\\\\":\\\\\"de175b8e-4460-5796-bf9d-11adb949b6f8\\\\\",\\\\\"score\\\\\":0.585934351198,\\\\\"metadata\\\\\":{\\\\\"text\\\\\":\\\\\"html-div\\\\\\\\\\\\\" data-testid=\\\\\\\\\\\\\"code-cell\\\\\\\\\\\\\" data-line-number=\\\\\\\\\\\\\"20\\\\\\\\\\\\\" style=\\\\\\\\\\\\\"position:relative\\\\\\\\\\\\\">Brother to Tyrion and Cersei, as well as Cersei\\\\u2019s lover. Jaime is arrogant, short-tempered, and rash, but he\\\\u2019s also a gifted swordsman. He is widely mistrusted and called Kingslayer because he murdered the previous king.</div></div></div><div class=\\\\\\\\\\\\\"react-code-text react-code-line-contents\\\\\\\\\\\\\" style=\\\\\\\\\\\\\"min-height:auto\\\\\\\\\\\\\"><div><div id=\\\\\\\\\\\\\"LC21\\\\\\\\\\\\\" class=\\\\\\\\\\\\\"react-file-line html-div\\\\\\\\\\\\\" data-testid=\\\\\\\\\\\\\"code-cell\\\\\\\\\\\\\" data-line-number=\\\\\\\\\\\\\"21\\\\\\\\\\\\\"\\\\\",\\\\\"title\\\\\":\\\\\"got.txt\\\\\",\\\\\"source\\\\\":\\\\\"data/got.txt\\\\\",\\\\\"version\\\\\":\\\\\"v1\\\\\",\\\\\"chunk_order\\\\\":855,\\\\\"document_id\\\\\":\\\\\"ba77307d-6c8a-549f-812a-3558697e2842\\\\\",\\\\\"extraction_id\\\\\":\\\\\"43d43dc9-f1f9-54e7-bf45-8c5aa8167862\\\\\",\\\\\"associatedQuery\\\\\":\\\\\"Who was the Kingslayer?\\\\\"}}\", \"{\\\\\"id\\\\\":\\\\\"11896b4e-ab3a-5841-afc2-eb0a54c353f6\\\\\",\\\\\"score\\\\\":0.5827711745594,\\\\\"metadata\\\\\":{\\\\\"text\\\\\":\\\\\"role being to marry and have babies.\\\\\\\\\\\\\",\\\\\\\\\\\\\"Cersei Lannister\\\\\\\\\\\\\",\\\\\\\\\\\\\"Queen of the realm and wife of Robert Baratheon. She despises Robert (as well as most other people it seems), and she is cunning and extremely ambitious.\\\\\\\\\\\\\",\\\\\\\\\\\\\"Ser Jaime (The Kingslayer) Lannister\\\\\\\\\\\\\",\\\\\\\\\\\\\"Brother to Tyrion and Cersei, as well as Cersei\\\\u2019s lover. Jaime is arrogant, short-tempered, and rash, but he\\\\u2019s also a gifted swordsman. He is widely mistrusted and called Kingslayer because he murdered the previous king.\\\\\\\\\\\\\",\\\\\\\\\\\\\"Petyr (Littlefinger) Baelish\\\\\\\\\\\\\",\\\\\\\\\\\\\"The\\\\\",\\\\\"title\\\\\":\\\\\"got.txt\\\\\",\\\\\"source\\\\\":\\\\\"data/got.txt\\\\\",\\\\\"version\\\\\":\\\\\"v1\\\\\",\\\\\"chunk_order\\\\\":472,\\\\\"document_id\\\\\":\\\\\"ba77307d-6c8a-549f-812a-3558697e2842\\\\\",\\\\\"extraction_id\\\\\":\\\\\"43d43dc9-f1f9-54e7-bf45-8c5aa8167862\\\\\",\\\\\"associatedQuery\\\\\":\\\\\"Who was the Kingslayer?\\\\\"}}\", \"{\\\\\"id\\\\\":\\\\\"bacf6b1c-f091-5614-a637-71f211db6294\\\\\",\\\\\"score\\\\\":0.5827711745594,\\\\\"metadata\\\\\":{\\\\\"text\\\\\":\\\\\"role being to marry and have babies.\\\\\\\\\\\\\",\\\\\\\\\\\\\"Cersei Lannister\\\\\\\\\\\\\",\\\\\\\\\\\\\"Queen of the realm and wife of Robert Baratheon. She despises Robert (as well as most other people it seems), and she is cunning and extremely ambitious.\\\\\\\\\\\\\",\\\\\\\\\\\\\"Ser Jaime (The Kingslayer) Lannister\\\\\\\\\\\\\",\\\\\\\\\\\\\"Brother to Tyrion and Cersei, as well as Cersei\\\\u2019s lover. Jaime is arrogant, short-tempered, and rash, but he\\\\u2019s also a gifted swordsman. He is widely mistrusted and called Kingslayer because he murdered the previous king.\\\\\\\\\\\\\",\\\\\\\\\\\\\"Petyr (Littlefinger) Baelish\\\\\\\\\\\\\",\\\\\\\\\\\\\"The\\\\\",\\\\\"title\\\\\":\\\\\"got.txt\\\\\",\\\\\"source\\\\\":\\\\\"data/got.txt\\\\\",\\\\\"version\\\\\":\\\\\"v0\\\\\",\\\\\"chunk_order\\\\\":472,\\\\\"document_id\\\\\":\\\\\"9eb2a006-d9d9-444a-884d-39d35a82ee79\\\\\",\\\\\"extraction_id\\\\\":\\\\\"36cd980e-f037-504a-9953-4f4bf3a0cbb2\\\\\",\\\\\"associatedQuery\\\\\":\\\\\"Who was the Kingslayer?\\\\\"}}\", \"{\\\\\"id\\\\\":\\\\\"2cb5aa55-edde-563a-9266-1f7af2ab6dd5\\\\\",\\\\\"score\\\\\":0.5827711745594,\\\\\"metadata\\\\\":{\\\\\"text\\\\\":\\\\\"role being to marry and have babies.\\\\\\\\\\\\\",\\\\\\\\\\\\\"Cersei Lannister\\\\\\\\\\\\\",\\\\\\\\\\\\\"Queen of the realm and wife of Robert Baratheon. She despises Robert (as well as most other people it seems), and she is cunning and extremely ambitious.\\\\\\\\\\\\\",\\\\\\\\\\\\\"Ser Jaime (The Kingslayer) Lannister\\\\\\\\\\\\\",\\\\\\\\\\\\\"Brother to Tyrion and Cersei, as well as Cersei\\\\u2019s lover. Jaime is arrogant, short-tempered, and rash, but he\\\\u2019s also a gifted swordsman. He is widely mistrusted and called Kingslayer because he murdered the previous king.\\\\\\\\\\\\\",\\\\\\\\\\\\\"Petyr (Littlefinger) Baelish\\\\\\\\\\\\\",\\\\\\\\\\\\\"The\\\\\",\\\\\"title\\\\\":\\\\\"got.txt\\\\\",\\\\\"source\\\\\":\\\\\"data/got.txt\\\\\",\\\\\"version\\\\\":\\\\\"v0\\\\\",\\\\\"chunk_order\\\\\":472,\\\\\"document_id\\\\\":\\\\\"48dcae37-7284-47cc-a75e-74658d0dc4f4\\\\\",\\\\\"extraction_id\\\\\":\\\\\"c0d29f64-46e5-501b-9d64-4e0312d37e92\\\\\",\\\\\"associatedQuery\\\\\":\\\\\"Who was the Kingslayer?\\\\\"}}\"]'}, {'key': 'search_query', 'value': 'Who was the Kingslayer?'}]}\n",
            "{'run_id': UUID('78af7d49-92e4-4d7a-86a0-00172cade9d5'), 'run_type': 'search', 'entries': [{'key': 'search_latency', 'value': '0.61'}, {'key': 'search_results', 'value': '[\"{\\\\\"id\\\\\":\\\\\"ce263f2a-b3e2-5c26-92c0-4702c199b010\\\\\",\\\\\"score\\\\\":0.740007855295904,\\\\\"metadata\\\\\":{\\\\\"text\\\\\":\\\\\"Net\\\\\\\\n loss attributable to Uber Technologies, Inc. was $496 million, a 93% improvement year-over-year, driven by a $1.6 billion pre-tax gain on the sale of ourATG\\\\\\\\n Business to Aurora, a $1.6 billion pre-tax  net benefit relating to Ubers equity investments, as  well as reductions in our fixed cost structure and increasedvariable cost effi\\\\\\\\nciencies. Net loss attributable to Uber Technologies, Inc. also included $1.2 billion of stock-based compensation expense.Adjusted\\\\\",\\\\\"title\\\\\":\\\\\"uber_2021.pdf\\\\\",\\\\\"user_id\\\\\":\\\\\"45c3f5a8-bcbe-43b1-9b20-51c07fd79f14\\\\\",\\\\\"version\\\\\":\\\\\"v0\\\\\",\\\\\"chunk_order\\\\\":739,\\\\\"document_id\\\\\":\\\\\"c996e617-88a4-5c65-ab1e-948344b18d27\\\\\",\\\\\"extraction_id\\\\\":\\\\\"e909fcb9-2ba3-5cd8-82ee-e869a766d89a\\\\\",\\\\\"associatedQuery\\\\\":\\\\\"What was uber\\'s profit in 2020?\\\\\"}}\", \"{\\\\\"id\\\\\":\\\\\"0ba0baa6-14be-585f-b27d-8742f5220eba\\\\\",\\\\\"score\\\\\":0.671641906250772,\\\\\"metadata\\\\\":{\\\\\"text\\\\\":\\\\\"the year ended December 31, 2020, gain on business divestitures, net represented a $154 million gain on the sale of our Uber Eats India operationsto Zomato\\\\\\\\n recognized in the first quarter of 2020 and a $77 million gain on the sale of our European Freight Business to sennder GmbH (Sennder) recognized inthe fourth quarter of 2020, pa\\\\\\\\nrtially offset by a $27 million loss on the sale of our JUMP operations to Lime recognized in the second quarter of 2020.During\\\\\",\\\\\"title\\\\\":\\\\\"uber_2021.pdf\\\\\",\\\\\"user_id\\\\\":\\\\\"45c3f5a8-bcbe-43b1-9b20-51c07fd79f14\\\\\",\\\\\"version\\\\\":\\\\\"v0\\\\\",\\\\\"chunk_order\\\\\":1352,\\\\\"document_id\\\\\":\\\\\"c996e617-88a4-5c65-ab1e-948344b18d27\\\\\",\\\\\"extraction_id\\\\\":\\\\\"5846067d-7afd-521b-a4db-3642d2b7ea00\\\\\",\\\\\"associatedQuery\\\\\":\\\\\"What was uber\\'s profit in 2020?\\\\\"}}\", \"{\\\\\"id\\\\\":\\\\\"701fc91b-7825-5a60-b813-11da332f4de5\\\\\",\\\\\"score\\\\\":0.6577931838569999,\\\\\"metadata\\\\\":{\\\\\"text\\\\\":\\\\\"See  the section titled Reconciliations of Non-GAAP Financial Measures for our definition and a reconciliation of net loss attributable toUber Technologies, Inc. to Adjusted EBITDA.\\\\\\\\nYear Ended December 31,\\\\\\\\n(In millions, except percentages)\\\\\\\\n2020 2021 2020 to 2021 %Change\\\\\\\\nAdjusted EBITDA\\\\\\\\n$ (2,528) $ (774) 69 %2021 Compared to 2020\\\\\\\\nAdjusted\\\\\\\\n EBITDA  loss  improved  $1.8  billion,  or  69%,  primarily  attributable  to  a  $525  million  improvement  in  Delivery  Adjusted  EBITDA  loss,  a  $427million\\\\\",\\\\\"title\\\\\":\\\\\"uber_2021.pdf\\\\\",\\\\\"user_id\\\\\":\\\\\"45c3f5a8-bcbe-43b1-9b20-51c07fd79f14\\\\\",\\\\\"version\\\\\":\\\\\"v0\\\\\",\\\\\"chunk_order\\\\\":815,\\\\\"document_id\\\\\":\\\\\"c996e617-88a4-5c65-ab1e-948344b18d27\\\\\",\\\\\"extraction_id\\\\\":\\\\\"ed36bcaf-cfd8-5612-805c-1d15b140c322\\\\\",\\\\\"associatedQuery\\\\\":\\\\\"What was uber\\'s profit in 2020?\\\\\"}}\", \"{\\\\\"id\\\\\":\\\\\"f7ff9ec0-0ab3-52c9-aa03-4e1d24e8b45c\\\\\",\\\\\"score\\\\\":0.650079804668404,\\\\\"metadata\\\\\":{\\\\\"text\\\\\":\\\\\"The following table presents a reconciliation of net loss attributable to Uber Technologies, Inc., the most directly comparable GAAP financial measure, toAdjusted EBITDA for each of the periods ind\\\\\\\\nicated:Year Ended December 31,\\\\\\\\n(In millions)\\\\\\\\n2020 2021 Adjusted EBITDA reconciliation:\\\\\\\\nNet loss attributable to Ube\\\\\\\\nr Technologies, Inc.$ (6,768) $ (496) Add (deduct):\\\\\\\\nNet loss attributable to non\\\\\\\\n-controlling interests, net of tax(20) (74) Provision for (benefit fro\\\\\",\\\\\"title\\\\\":\\\\\"uber_2021.pdf\\\\\",\\\\\"user_id\\\\\":\\\\\"45c3f5a8-bcbe-43b1-9b20-51c07fd79f14\\\\\",\\\\\"version\\\\\":\\\\\"v0\\\\\",\\\\\"chunk_order\\\\\":834,\\\\\"document_id\\\\\":\\\\\"c996e617-88a4-5c65-ab1e-948344b18d27\\\\\",\\\\\"extraction_id\\\\\":\\\\\"ab2283ef-04ce-5917-ac7e-24ea55024ea8\\\\\",\\\\\"associatedQuery\\\\\":\\\\\"What was uber\\'s profit in 2020?\\\\\"}}\", \"{\\\\\"id\\\\\":\\\\\"7a18ef08-ef97-51a9-8a82-6fb1f630a725\\\\\",\\\\\"score\\\\\":0.626286644526918,\\\\\"metadata\\\\\":{\\\\\"text\\\\\":\\\\\"rial respects, the financial condition and results of operations of Uber Technologies, Inc.Date:\\\\\\\\nFebruary 24, 2022 By: /s/ Nelson Chai Nelson Chai\\\\\\\\nChief Financial Officer\\\\\\\\n(Principal Financial Offic\\\\\\\\ner)\\\\\",\\\\\"title\\\\\":\\\\\"uber_2021.pdf\\\\\",\\\\\"user_id\\\\\":\\\\\"45c3f5a8-bcbe-43b1-9b20-51c07fd79f14\\\\\",\\\\\"version\\\\\":\\\\\"v0\\\\\",\\\\\"chunk_order\\\\\":3107,\\\\\"document_id\\\\\":\\\\\"c996e617-88a4-5c65-ab1e-948344b18d27\\\\\",\\\\\"extraction_id\\\\\":\\\\\"6f443f0c-f734-5c0a-ba28-3b92198bda25\\\\\",\\\\\"associatedQuery\\\\\":\\\\\"What was uber\\'s profit in 2020?\\\\\"}}\", \"{\\\\\"id\\\\\":\\\\\"71493754-8dfc-5e4a-afa2-eb92d1522707\\\\\",\\\\\"score\\\\\":0.624540869187642,\\\\\"metadata\\\\\":{\\\\\"text\\\\\":\\\\\"(8,512) (6,788) (570) Less: net loss attributab\\\\\\\\nle to non-controlling interests, net of tax(6) (20) (74) Net loss attributable to Uber Technologies, Inc.\\\\\\\\n$ (8,506) $ (6,768) $ (496) Net loss per share attributable to Uber Technologies, Inc. co\\\\\\\\nmmon stockholders:Basic\\\\\\\\n$ (6.81) $ (3.86) $ (0.26) Diluted\\\\\\\\n$ (6.81) $ (3.86) $ (0.29) Weighted-average shares used to compute net loss per shar\\\\\\\\ne attributable to common stockholders:Basic\\\\\\\\n1,248,353 1,752,960 1,892,546 Diluted\\\\\",\\\\\"title\\\\\":\\\\\"uber_2021.pdf\\\\\",\\\\\"user_id\\\\\":\\\\\"45c3f5a8-bcbe-43b1-9b20-51c07fd79f14\\\\\",\\\\\"version\\\\\":\\\\\"v0\\\\\",\\\\\"chunk_order\\\\\":967,\\\\\"document_id\\\\\":\\\\\"c996e617-88a4-5c65-ab1e-948344b18d27\\\\\",\\\\\"extraction_id\\\\\":\\\\\"3f493697-047b-5775-828c-f3a2a445222d\\\\\",\\\\\"associatedQuery\\\\\":\\\\\"What was uber\\'s profit in 2020?\\\\\"}}\", \"{\\\\\"id\\\\\":\\\\\"1020db8a-2cfa-59ba-b185-0ac1cf50b0fb\\\\\",\\\\\"score\\\\\":0.623221892810521,\\\\\"metadata\\\\\":{\\\\\"text\\\\\":\\\\\"Financial and Operational HighlightsYear Ended December 31,\\\\\\\\nConstant Currency (In millions, except percentages)\\\\\\\\n2020 2021 2020 to 2021 %Change\\\\\\\\n2020 to 2021 % Change Monthly Active Platform Consumers \\\\\\\\n(MAPCs) 93 118 27 %Trips \\\\\\\\n5,025 6,368 27 %Gross Bookings \\\\\\\\n$ 57,897 $ 90,415 56 %53 % Revenue\\\\\\\\n$ 11,139 $ 17,455 57 %54 % Net loss attributable to Ube\\\\\\\\nr Technologies, Inc. $ (6,768) $ (496) 93 %Mobility Adjusted EBITDA\\\\\\\\n$ 1,169 $ 1,596 37 %Delivery Adjusted EBITDA\\\\\\\\n$ (873) $ (348) 60 %Adjusted EBITDA\\\\\",\\\\\"title\\\\\":\\\\\"uber_2021.pdf\\\\\",\\\\\"user_id\\\\\":\\\\\"45c3f5a8-bcbe-43b1-9b20-51c07fd79f14\\\\\",\\\\\"version\\\\\":\\\\\"v0\\\\\",\\\\\"chunk_order\\\\\":734,\\\\\"document_id\\\\\":\\\\\"c996e617-88a4-5c65-ab1e-948344b18d27\\\\\",\\\\\"extraction_id\\\\\":\\\\\"e909fcb9-2ba3-5cd8-82ee-e869a766d89a\\\\\",\\\\\"associatedQuery\\\\\":\\\\\"What was uber\\'s profit in 2020?\\\\\"}}\", \"{\\\\\"id\\\\\":\\\\\"7ea35dcd-2947-5756-a2dc-e42eefb38e9f\\\\\",\\\\\"score\\\\\":0.6227391322915969,\\\\\"metadata\\\\\":{\\\\\"text\\\\\":\\\\\"issued to new investors in close proximity to the time of our transaction with Zomato. The transaction resulted in a gain on disposal of $154 millionrecognized\\\\\\\\n in other income (expense), net in the consolidated statements of operations during the first quarter of 2020. The income tax effect of the sale was notmaterial.\\\\\\\\n The divestiture  of Uber Eats India did not represent  a strategic  shift that would have had a major  effect  on our operations  and financial  results, andtherefore does not quali\\\\\",\\\\\"title\\\\\":\\\\\"uber_2021.pdf\\\\\",\\\\\"user_id\\\\\":\\\\\"45c3f5a8-bcbe-43b1-9b20-51c07fd79f14\\\\\",\\\\\"version\\\\\":\\\\\"v0\\\\\",\\\\\"chunk_order\\\\\":1623,\\\\\"document_id\\\\\":\\\\\"c996e617-88a4-5c65-ab1e-948344b18d27\\\\\",\\\\\"extraction_id\\\\\":\\\\\"3a52df9f-96a7-52c8-8476-cfbc4f74a3c6\\\\\",\\\\\"associatedQuery\\\\\":\\\\\"What was uber\\'s profit in 2020?\\\\\"}}\", \"{\\\\\"id\\\\\":\\\\\"d1d2e75a-d06e-570b-9955-60947e57ff4f\\\\\",\\\\\"score\\\\\":0.622043687762132,\\\\\"metadata\\\\\":{\\\\\"text\\\\\":\\\\\"(1,625) 3,292 Loss before income taxes and loss from equity me\\\\\\\\nthod investments(6,946) (1,025) Provision for (benefit fro\\\\\\\\nm) income taxes(192) (492) Loss from equity method invest\\\\\\\\nments(34) (37) Net loss including non-controlling interests\\\\\\\\n(6,788) (570) Less: net loss attributab\\\\\\\\nle to non-controlling interests, net of tax(20) (74) Net loss attributable to Uber Technologies, Inc.\\\\\\\\n$ (6,768) $ (496) 54\\\\\",\\\\\"title\\\\\":\\\\\"uber_2021.pdf\\\\\",\\\\\"user_id\\\\\":\\\\\"45c3f5a8-bcbe-43b1-9b20-51c07fd79f14\\\\\",\\\\\"version\\\\\":\\\\\"v0\\\\\",\\\\\"chunk_order\\\\\":769,\\\\\"document_id\\\\\":\\\\\"c996e617-88a4-5c65-ab1e-948344b18d27\\\\\",\\\\\"extraction_id\\\\\":\\\\\"9be7a575-7c56-50d0-8deb-4bd45bc5bf39\\\\\",\\\\\"associatedQuery\\\\\":\\\\\"What was uber\\'s profit in 2020?\\\\\"}}\", \"{\\\\\"id\\\\\":\\\\\"d29aa2b3-4de1-5e83-95cf-bc69e401822a\\\\\",\\\\\"score\\\\\":0.612986582904654,\\\\\"metadata\\\\\":{\\\\\"text\\\\\":\\\\\"UBER TECHNOLOGIES, INC.NOTES TO CONSOLIDATED \\\\\\\\nFINANCIAL STATEMENTSNote 1  Description of Business and Summary of Significant Accounting Policies\\\\\\\\nDescription of Business\\\\\\\\nUber\\\\\\\\n Technologies, Inc. (Uber, we, our, or us) was incorporated in Delaware in July 2010, and is headquartered in San Francisco, California. Uber isa\\\\\\\\n technology platform that uses a massive network, leading technology, operational excellence and product expertise to power movement from point A to point B.Uber\\\\\",\\\\\"title\\\\\":\\\\\"uber_2021.pdf\\\\\",\\\\\"user_id\\\\\":\\\\\"45c3f5a8-bcbe-43b1-9b20-51c07fd79f14\\\\\",\\\\\"version\\\\\":\\\\\"v0\\\\\",\\\\\"chunk_order\\\\\":996,\\\\\"document_id\\\\\":\\\\\"c996e617-88a4-5c65-ab1e-948344b18d27\\\\\",\\\\\"extraction_id\\\\\":\\\\\"37f83070-f323-59f9-8823-b53efd7c821b\\\\\",\\\\\"associatedQuery\\\\\":\\\\\"What was uber\\'s profit in 2020?\\\\\"}}\"]'}, {'key': 'search_query', 'value': \"What was uber's profit in 2020?\"}]}\n",
            "{'run_id': UUID('0d8a8a3e-f2d3-467a-abe1-c28c130614db'), 'run_type': 'search', 'entries': [{'key': 'search_query', 'value': \"What was uber's profit in 2020?\"}, {'key': 'search_latency', 'value': '0.48'}, {'key': 'search_results', 'value': '[\"{\\\\\"id\\\\\":\\\\\"ce263f2a-b3e2-5c26-92c0-4702c199b010\\\\\",\\\\\"score\\\\\":0.740007855295904,\\\\\"metadata\\\\\":{\\\\\"text\\\\\":\\\\\"Net\\\\\\\\n loss attributable to Uber Technologies, Inc. was $496 million, a 93% improvement year-over-year, driven by a $1.6 billion pre-tax gain on the sale of ourATG\\\\\\\\n Business to Aurora, a $1.6 billion pre-tax  net benefit relating to Ubers equity investments, as  well as reductions in our fixed cost structure and increasedvariable cost effi\\\\\\\\nciencies. Net loss attributable to Uber Technologies, Inc. also included $1.2 billion of stock-based compensation expense.Adjusted\\\\\",\\\\\"title\\\\\":\\\\\"uber_2021.pdf\\\\\",\\\\\"user_id\\\\\":\\\\\"45c3f5a8-bcbe-43b1-9b20-51c07fd79f14\\\\\",\\\\\"version\\\\\":\\\\\"v0\\\\\",\\\\\"chunk_order\\\\\":739,\\\\\"document_id\\\\\":\\\\\"c996e617-88a4-5c65-ab1e-948344b18d27\\\\\",\\\\\"extraction_id\\\\\":\\\\\"e909fcb9-2ba3-5cd8-82ee-e869a766d89a\\\\\",\\\\\"associatedQuery\\\\\":\\\\\"What was uber\\'s profit in 2020?\\\\\"}}\", \"{\\\\\"id\\\\\":\\\\\"0ba0baa6-14be-585f-b27d-8742f5220eba\\\\\",\\\\\"score\\\\\":0.671641906250772,\\\\\"metadata\\\\\":{\\\\\"text\\\\\":\\\\\"the year ended December 31, 2020, gain on business divestitures, net represented a $154 million gain on the sale of our Uber Eats India operationsto Zomato\\\\\\\\n recognized in the first quarter of 2020 and a $77 million gain on the sale of our European Freight Business to sennder GmbH (Sennder) recognized inthe fourth quarter of 2020, pa\\\\\\\\nrtially offset by a $27 million loss on the sale of our JUMP operations to Lime recognized in the second quarter of 2020.During\\\\\",\\\\\"title\\\\\":\\\\\"uber_2021.pdf\\\\\",\\\\\"user_id\\\\\":\\\\\"45c3f5a8-bcbe-43b1-9b20-51c07fd79f14\\\\\",\\\\\"version\\\\\":\\\\\"v0\\\\\",\\\\\"chunk_order\\\\\":1352,\\\\\"document_id\\\\\":\\\\\"c996e617-88a4-5c65-ab1e-948344b18d27\\\\\",\\\\\"extraction_id\\\\\":\\\\\"5846067d-7afd-521b-a4db-3642d2b7ea00\\\\\",\\\\\"associatedQuery\\\\\":\\\\\"What was uber\\'s profit in 2020?\\\\\"}}\", \"{\\\\\"id\\\\\":\\\\\"701fc91b-7825-5a60-b813-11da332f4de5\\\\\",\\\\\"score\\\\\":0.6577931838569999,\\\\\"metadata\\\\\":{\\\\\"text\\\\\":\\\\\"See  the section titled Reconciliations of Non-GAAP Financial Measures for our definition and a reconciliation of net loss attributable toUber Technologies, Inc. to Adjusted EBITDA.\\\\\\\\nYear Ended December 31,\\\\\\\\n(In millions, except percentages)\\\\\\\\n2020 2021 2020 to 2021 %Change\\\\\\\\nAdjusted EBITDA\\\\\\\\n$ (2,528) $ (774) 69 %2021 Compared to 2020\\\\\\\\nAdjusted\\\\\\\\n EBITDA  loss  improved  $1.8  billion,  or  69%,  primarily  attributable  to  a  $525  million  improvement  in  Delivery  Adjusted  EBITDA  loss,  a  $427million\\\\\",\\\\\"title\\\\\":\\\\\"uber_2021.pdf\\\\\",\\\\\"user_id\\\\\":\\\\\"45c3f5a8-bcbe-43b1-9b20-51c07fd79f14\\\\\",\\\\\"version\\\\\":\\\\\"v0\\\\\",\\\\\"chunk_order\\\\\":815,\\\\\"document_id\\\\\":\\\\\"c996e617-88a4-5c65-ab1e-948344b18d27\\\\\",\\\\\"extraction_id\\\\\":\\\\\"ed36bcaf-cfd8-5612-805c-1d15b140c322\\\\\",\\\\\"associatedQuery\\\\\":\\\\\"What was uber\\'s profit in 2020?\\\\\"}}\", \"{\\\\\"id\\\\\":\\\\\"f7ff9ec0-0ab3-52c9-aa03-4e1d24e8b45c\\\\\",\\\\\"score\\\\\":0.650079804668404,\\\\\"metadata\\\\\":{\\\\\"text\\\\\":\\\\\"The following table presents a reconciliation of net loss attributable to Uber Technologies, Inc., the most directly comparable GAAP financial measure, toAdjusted EBITDA for each of the periods ind\\\\\\\\nicated:Year Ended December 31,\\\\\\\\n(In millions)\\\\\\\\n2020 2021 Adjusted EBITDA reconciliation:\\\\\\\\nNet loss attributable to Ube\\\\\\\\nr Technologies, Inc.$ (6,768) $ (496) Add (deduct):\\\\\\\\nNet loss attributable to non\\\\\\\\n-controlling interests, net of tax(20) (74) Provision for (benefit fro\\\\\",\\\\\"title\\\\\":\\\\\"uber_2021.pdf\\\\\",\\\\\"user_id\\\\\":\\\\\"45c3f5a8-bcbe-43b1-9b20-51c07fd79f14\\\\\",\\\\\"version\\\\\":\\\\\"v0\\\\\",\\\\\"chunk_order\\\\\":834,\\\\\"document_id\\\\\":\\\\\"c996e617-88a4-5c65-ab1e-948344b18d27\\\\\",\\\\\"extraction_id\\\\\":\\\\\"ab2283ef-04ce-5917-ac7e-24ea55024ea8\\\\\",\\\\\"associatedQuery\\\\\":\\\\\"What was uber\\'s profit in 2020?\\\\\"}}\", \"{\\\\\"id\\\\\":\\\\\"7a18ef08-ef97-51a9-8a82-6fb1f630a725\\\\\",\\\\\"score\\\\\":0.626286644526918,\\\\\"metadata\\\\\":{\\\\\"text\\\\\":\\\\\"rial respects, the financial condition and results of operations of Uber Technologies, Inc.Date:\\\\\\\\nFebruary 24, 2022 By: /s/ Nelson Chai Nelson Chai\\\\\\\\nChief Financial Officer\\\\\\\\n(Principal Financial Offic\\\\\\\\ner)\\\\\",\\\\\"title\\\\\":\\\\\"uber_2021.pdf\\\\\",\\\\\"user_id\\\\\":\\\\\"45c3f5a8-bcbe-43b1-9b20-51c07fd79f14\\\\\",\\\\\"version\\\\\":\\\\\"v0\\\\\",\\\\\"chunk_order\\\\\":3107,\\\\\"document_id\\\\\":\\\\\"c996e617-88a4-5c65-ab1e-948344b18d27\\\\\",\\\\\"extraction_id\\\\\":\\\\\"6f443f0c-f734-5c0a-ba28-3b92198bda25\\\\\",\\\\\"associatedQuery\\\\\":\\\\\"What was uber\\'s profit in 2020?\\\\\"}}\", \"{\\\\\"id\\\\\":\\\\\"71493754-8dfc-5e4a-afa2-eb92d1522707\\\\\",\\\\\"score\\\\\":0.624540869187642,\\\\\"metadata\\\\\":{\\\\\"text\\\\\":\\\\\"(8,512) (6,788) (570) Less: net loss attributab\\\\\\\\nle to non-controlling interests, net of tax(6) (20) (74) Net loss attributable to Uber Technologies, Inc.\\\\\\\\n$ (8,506) $ (6,768) $ (496) Net loss per share attributable to Uber Technologies, Inc. co\\\\\\\\nmmon stockholders:Basic\\\\\\\\n$ (6.81) $ (3.86) $ (0.26) Diluted\\\\\\\\n$ (6.81) $ (3.86) $ (0.29) Weighted-average shares used to compute net loss per shar\\\\\\\\ne attributable to common stockholders:Basic\\\\\\\\n1,248,353 1,752,960 1,892,546 Diluted\\\\\",\\\\\"title\\\\\":\\\\\"uber_2021.pdf\\\\\",\\\\\"user_id\\\\\":\\\\\"45c3f5a8-bcbe-43b1-9b20-51c07fd79f14\\\\\",\\\\\"version\\\\\":\\\\\"v0\\\\\",\\\\\"chunk_order\\\\\":967,\\\\\"document_id\\\\\":\\\\\"c996e617-88a4-5c65-ab1e-948344b18d27\\\\\",\\\\\"extraction_id\\\\\":\\\\\"3f493697-047b-5775-828c-f3a2a445222d\\\\\",\\\\\"associatedQuery\\\\\":\\\\\"What was uber\\'s profit in 2020?\\\\\"}}\", \"{\\\\\"id\\\\\":\\\\\"1020db8a-2cfa-59ba-b185-0ac1cf50b0fb\\\\\",\\\\\"score\\\\\":0.623221892810521,\\\\\"metadata\\\\\":{\\\\\"text\\\\\":\\\\\"Financial and Operational HighlightsYear Ended December 31,\\\\\\\\nConstant Currency (In millions, except percentages)\\\\\\\\n2020 2021 2020 to 2021 %Change\\\\\\\\n2020 to 2021 % Change Monthly Active Platform Consumers \\\\\\\\n(MAPCs) 93 118 27 %Trips \\\\\\\\n5,025 6,368 27 %Gross Bookings \\\\\\\\n$ 57,897 $ 90,415 56 %53 % Revenue\\\\\\\\n$ 11,139 $ 17,455 57 %54 % Net loss attributable to Ube\\\\\\\\nr Technologies, Inc. $ (6,768) $ (496) 93 %Mobility Adjusted EBITDA\\\\\\\\n$ 1,169 $ 1,596 37 %Delivery Adjusted EBITDA\\\\\\\\n$ (873) $ (348) 60 %Adjusted EBITDA\\\\\",\\\\\"title\\\\\":\\\\\"uber_2021.pdf\\\\\",\\\\\"user_id\\\\\":\\\\\"45c3f5a8-bcbe-43b1-9b20-51c07fd79f14\\\\\",\\\\\"version\\\\\":\\\\\"v0\\\\\",\\\\\"chunk_order\\\\\":734,\\\\\"document_id\\\\\":\\\\\"c996e617-88a4-5c65-ab1e-948344b18d27\\\\\",\\\\\"extraction_id\\\\\":\\\\\"e909fcb9-2ba3-5cd8-82ee-e869a766d89a\\\\\",\\\\\"associatedQuery\\\\\":\\\\\"What was uber\\'s profit in 2020?\\\\\"}}\", \"{\\\\\"id\\\\\":\\\\\"7ea35dcd-2947-5756-a2dc-e42eefb38e9f\\\\\",\\\\\"score\\\\\":0.6227391322915969,\\\\\"metadata\\\\\":{\\\\\"text\\\\\":\\\\\"issued to new investors in close proximity to the time of our transaction with Zomato. The transaction resulted in a gain on disposal of $154 millionrecognized\\\\\\\\n in other income (expense), net in the consolidated statements of operations during the first quarter of 2020. The income tax effect of the sale was notmaterial.\\\\\\\\n The divestiture  of Uber Eats India did not represent  a strategic  shift that would have had a major  effect  on our operations  and financial  results, andtherefore does not quali\\\\\",\\\\\"title\\\\\":\\\\\"uber_2021.pdf\\\\\",\\\\\"user_id\\\\\":\\\\\"45c3f5a8-bcbe-43b1-9b20-51c07fd79f14\\\\\",\\\\\"version\\\\\":\\\\\"v0\\\\\",\\\\\"chunk_order\\\\\":1623,\\\\\"document_id\\\\\":\\\\\"c996e617-88a4-5c65-ab1e-948344b18d27\\\\\",\\\\\"extraction_id\\\\\":\\\\\"3a52df9f-96a7-52c8-8476-cfbc4f74a3c6\\\\\",\\\\\"associatedQuery\\\\\":\\\\\"What was uber\\'s profit in 2020?\\\\\"}}\", \"{\\\\\"id\\\\\":\\\\\"d1d2e75a-d06e-570b-9955-60947e57ff4f\\\\\",\\\\\"score\\\\\":0.622043687762132,\\\\\"metadata\\\\\":{\\\\\"text\\\\\":\\\\\"(1,625) 3,292 Loss before income taxes and loss from equity me\\\\\\\\nthod investments(6,946) (1,025) Provision for (benefit fro\\\\\\\\nm) income taxes(192) (492) Loss from equity method invest\\\\\\\\nments(34) (37) Net loss including non-controlling interests\\\\\\\\n(6,788) (570) Less: net loss attributab\\\\\\\\nle to non-controlling interests, net of tax(20) (74) Net loss attributable to Uber Technologies, Inc.\\\\\\\\n$ (6,768) $ (496) 54\\\\\",\\\\\"title\\\\\":\\\\\"uber_2021.pdf\\\\\",\\\\\"user_id\\\\\":\\\\\"45c3f5a8-bcbe-43b1-9b20-51c07fd79f14\\\\\",\\\\\"version\\\\\":\\\\\"v0\\\\\",\\\\\"chunk_order\\\\\":769,\\\\\"document_id\\\\\":\\\\\"c996e617-88a4-5c65-ab1e-948344b18d27\\\\\",\\\\\"extraction_id\\\\\":\\\\\"9be7a575-7c56-50d0-8deb-4bd45bc5bf39\\\\\",\\\\\"associatedQuery\\\\\":\\\\\"What was uber\\'s profit in 2020?\\\\\"}}\", \"{\\\\\"id\\\\\":\\\\\"d29aa2b3-4de1-5e83-95cf-bc69e401822a\\\\\",\\\\\"score\\\\\":0.612986582904654,\\\\\"metadata\\\\\":{\\\\\"text\\\\\":\\\\\"UBER TECHNOLOGIES, INC.NOTES TO CONSOLIDATED \\\\\\\\nFINANCIAL STATEMENTSNote 1  Description of Business and Summary of Significant Accounting Policies\\\\\\\\nDescription of Business\\\\\\\\nUber\\\\\\\\n Technologies, Inc. (Uber, we, our, or us) was incorporated in Delaware in July 2010, and is headquartered in San Francisco, California. Uber isa\\\\\\\\n technology platform that uses a massive network, leading technology, operational excellence and product expertise to power movement from point A to point B.Uber\\\\\",\\\\\"title\\\\\":\\\\\"uber_2021.pdf\\\\\",\\\\\"user_id\\\\\":\\\\\"45c3f5a8-bcbe-43b1-9b20-51c07fd79f14\\\\\",\\\\\"version\\\\\":\\\\\"v0\\\\\",\\\\\"chunk_order\\\\\":996,\\\\\"document_id\\\\\":\\\\\"c996e617-88a4-5c65-ab1e-948344b18d27\\\\\",\\\\\"extraction_id\\\\\":\\\\\"37f83070-f323-59f9-8823-b53efd7c821b\\\\\",\\\\\"associatedQuery\\\\\":\\\\\"What was uber\\'s profit in 2020?\\\\\"}}\"]'}]}\n",
            "{'run_id': UUID('eddb57d4-8ce0-410e-b098-74825443f7fe'), 'run_type': 'search', 'entries': [{'key': 'search_latency', 'value': '0.51'}, {'key': 'search_results', 'value': '[\"{\\\\\"id\\\\\":\\\\\"1d57ce2b-f739-5083-8c36-fd8d70cb29f8\\\\\",\\\\\"score\\\\\":0.59029156652467,\\\\\"metadata\\\\\":{\\\\\"text\\\\\":\\\\\"html-div\\\\\\\\\\\\\" data-testid=\\\\\\\\\\\\\"code-cell\\\\\\\\\\\\\" data-line-number=\\\\\\\\\\\\\"77\\\\\\\\\\\\\" style=\\\\\\\\\\\\\"position:relative\\\\\\\\\\\\\">Rhaegar Targaryen</div></div></div><div class=\\\\\\\\\\\\\"react-code-text react-code-line-contents\\\\\\\\\\\\\" style=\\\\\\\\\\\\\"min-height:auto\\\\\\\\\\\\\"><div><div id=\\\\\\\\\\\\\"LC78\\\\\\\\\\\\\" class=\\\\\\\\\\\\\"react-file-line html-div\\\\\\\\\\\\\" data-testid=\\\\\\\\\\\\\"code-cell\\\\\\\\\\\\\" data-line-number=\\\\\\\\\\\\\"78\\\\\\\\\\\\\" style=\\\\\\\\\\\\\"position:relative\\\\\\\\\\\\\">The heir to Aerys and older brother of Daenerys and Viserys. Rhaegar kidnapped Lyanna Stark, Robert\\\\u2019s betrothed, helping to set in motion the events that led to Robert\\\\u2019s Rebellion. The war\\\\\",\\\\\"title\\\\\":\\\\\"got.txt\\\\\",\\\\\"source\\\\\":\\\\\"data/got.txt\\\\\",\\\\\"version\\\\\":\\\\\"v0\\\\\",\\\\\"chunk_order\\\\\":894,\\\\\"document_id\\\\\":\\\\\"ba77307d-6c8a-549f-812a-3558697e2842\\\\\",\\\\\"extraction_id\\\\\":\\\\\"e76f4058-a54c-568b-bbf5-bb523dea92e3\\\\\",\\\\\"associatedQuery\\\\\":\\\\\"Who was Aegon Targaryen?\\\\\"}}\", \"{\\\\\"id\\\\\":\\\\\"155678ed-0832-5a76-9644-abd73e3f2e9d\\\\\",\\\\\"score\\\\\":0.59029156652467,\\\\\"metadata\\\\\":{\\\\\"text\\\\\":\\\\\"html-div\\\\\\\\\\\\\" data-testid=\\\\\\\\\\\\\"code-cell\\\\\\\\\\\\\" data-line-number=\\\\\\\\\\\\\"77\\\\\\\\\\\\\" style=\\\\\\\\\\\\\"position:relative\\\\\\\\\\\\\">Rhaegar Targaryen</div></div></div><div class=\\\\\\\\\\\\\"react-code-text react-code-line-contents\\\\\\\\\\\\\" style=\\\\\\\\\\\\\"min-height:auto\\\\\\\\\\\\\"><div><div id=\\\\\\\\\\\\\"LC78\\\\\\\\\\\\\" class=\\\\\\\\\\\\\"react-file-line html-div\\\\\\\\\\\\\" data-testid=\\\\\\\\\\\\\"code-cell\\\\\\\\\\\\\" data-line-number=\\\\\\\\\\\\\"78\\\\\\\\\\\\\" style=\\\\\\\\\\\\\"position:relative\\\\\\\\\\\\\">The heir to Aerys and older brother of Daenerys and Viserys. Rhaegar kidnapped Lyanna Stark, Robert\\\\u2019s betrothed, helping to set in motion the events that led to Robert\\\\u2019s Rebellion. The war\\\\\",\\\\\"title\\\\\":\\\\\"got.txt\\\\\",\\\\\"source\\\\\":\\\\\"data/got.txt\\\\\",\\\\\"version\\\\\":\\\\\"v1\\\\\",\\\\\"chunk_order\\\\\":894,\\\\\"document_id\\\\\":\\\\\"ba77307d-6c8a-549f-812a-3558697e2842\\\\\",\\\\\"extraction_id\\\\\":\\\\\"43d43dc9-f1f9-54e7-bf45-8c5aa8167862\\\\\",\\\\\"associatedQuery\\\\\":\\\\\"Who was Aegon Targaryen?\\\\\"}}\", \"{\\\\\"id\\\\\":\\\\\"204b5904-bc66-5113-9652-9139142fc018\\\\\",\\\\\"score\\\\\":0.5902048877064789,\\\\\"metadata\\\\\":{\\\\\"text\\\\\":\\\\\"html-div\\\\\\\\\\\\\" data-testid=\\\\\\\\\\\\\"code-cell\\\\\\\\\\\\\" data-line-number=\\\\\\\\\\\\\"77\\\\\\\\\\\\\" style=\\\\\\\\\\\\\"position:relative\\\\\\\\\\\\\">Rhaegar Targaryen</div></div></div><div class=\\\\\\\\\\\\\"react-code-text react-code-line-contents\\\\\\\\\\\\\" style=\\\\\\\\\\\\\"min-height:auto\\\\\\\\\\\\\"><div><div id=\\\\\\\\\\\\\"LC78\\\\\\\\\\\\\" class=\\\\\\\\\\\\\"react-file-line html-div\\\\\\\\\\\\\" data-testid=\\\\\\\\\\\\\"code-cell\\\\\\\\\\\\\" data-line-number=\\\\\\\\\\\\\"78\\\\\\\\\\\\\" style=\\\\\\\\\\\\\"position:relative\\\\\\\\\\\\\">The heir to Aerys and older brother of Daenerys and Viserys. Rhaegar kidnapped Lyanna Stark, Robert\\\\u2019s betrothed, helping to set in motion the events that led to Robert\\\\u2019s Rebellion. The war\\\\\",\\\\\"title\\\\\":\\\\\"got.txt\\\\\",\\\\\"source\\\\\":\\\\\"data/got.txt\\\\\",\\\\\"version\\\\\":\\\\\"v0\\\\\",\\\\\"chunk_order\\\\\":894,\\\\\"document_id\\\\\":\\\\\"48dcae37-7284-47cc-a75e-74658d0dc4f4\\\\\",\\\\\"extraction_id\\\\\":\\\\\"c0d29f64-46e5-501b-9d64-4e0312d37e92\\\\\",\\\\\"associatedQuery\\\\\":\\\\\"Who was Aegon Targaryen?\\\\\"}}\", \"{\\\\\"id\\\\\":\\\\\"48ccbf9f-b84d-5cbb-81d4-ec7af227c2f7\\\\\",\\\\\"score\\\\\":0.583161252235212,\\\\\"metadata\\\\\":{\\\\\"text\\\\\":\\\\\"Targaryens back to Varys.\\\\\\\\\\\\\",\\\\\\\\\\\\\"Viserys Targaryen\\\\\\\\\\\\\",\\\\\\\\\\\\\"Brother of Daenerys and son of the murdered King Aerys Targaryen. Having lived in exile for many years, earning him the nickname of The Beggar King, he wants to return to Westeros and retake the throne. He is arrogant, cruel, easily angered, and foolish.\\\\\\\\\\\\\",\\\\\\\\\\\\\"Khal Drogo\\\\\\\\\\\\\",\\\\\\\\\\\\\"A powerful khal (king) among the Dothraki people and the husband of Daenerys Targaryen. Stoic and brave, Drogo is an exceptional warrior who shows his enemies no mercy. He controls a massive\\\\\",\\\\\"title\\\\\":\\\\\"got.txt\\\\\",\\\\\"source\\\\\":\\\\\"data/got.txt\\\\\",\\\\\"version\\\\\":\\\\\"v1\\\\\",\\\\\"chunk_order\\\\\":475,\\\\\"document_id\\\\\":\\\\\"ba77307d-6c8a-549f-812a-3558697e2842\\\\\",\\\\\"extraction_id\\\\\":\\\\\"43d43dc9-f1f9-54e7-bf45-8c5aa8167862\\\\\",\\\\\"associatedQuery\\\\\":\\\\\"Who was Aegon Targaryen?\\\\\"}}\", \"{\\\\\"id\\\\\":\\\\\"a5077740-7782-5211-b1e1-4d7b70d76c3c\\\\\",\\\\\"score\\\\\":0.5825807029777981,\\\\\"metadata\\\\\":{\\\\\"text\\\\\":\\\\\"Targaryens back to Varys.\\\\\\\\\\\\\",\\\\\\\\\\\\\"Viserys Targaryen\\\\\\\\\\\\\",\\\\\\\\\\\\\"Brother of Daenerys and son of the murdered King Aerys Targaryen. Having lived in exile for many years, earning him the nickname of The Beggar King, he wants to return to Westeros and retake the throne. He is arrogant, cruel, easily angered, and foolish.\\\\\\\\\\\\\",\\\\\\\\\\\\\"Khal Drogo\\\\\\\\\\\\\",\\\\\\\\\\\\\"A powerful khal (king) among the Dothraki people and the husband of Daenerys Targaryen. Stoic and brave, Drogo is an exceptional warrior who shows his enemies no mercy. He controls a massive\\\\\",\\\\\"title\\\\\":\\\\\"got.txt\\\\\",\\\\\"source\\\\\":\\\\\"data/got.txt\\\\\",\\\\\"version\\\\\":\\\\\"v0\\\\\",\\\\\"chunk_order\\\\\":475,\\\\\"document_id\\\\\":\\\\\"48dcae37-7284-47cc-a75e-74658d0dc4f4\\\\\",\\\\\"extraction_id\\\\\":\\\\\"c0d29f64-46e5-501b-9d64-4e0312d37e92\\\\\",\\\\\"associatedQuery\\\\\":\\\\\"Who was Aegon Targaryen?\\\\\"}}\", \"{\\\\\"id\\\\\":\\\\\"3172f86a-3e2f-5e66-9241-eb78869dda33\\\\\",\\\\\"score\\\\\":0.5825807029777981,\\\\\"metadata\\\\\":{\\\\\"text\\\\\":\\\\\"Targaryens back to Varys.\\\\\\\\\\\\\",\\\\\\\\\\\\\"Viserys Targaryen\\\\\\\\\\\\\",\\\\\\\\\\\\\"Brother of Daenerys and son of the murdered King Aerys Targaryen. Having lived in exile for many years, earning him the nickname of The Beggar King, he wants to return to Westeros and retake the throne. He is arrogant, cruel, easily angered, and foolish.\\\\\\\\\\\\\",\\\\\\\\\\\\\"Khal Drogo\\\\\\\\\\\\\",\\\\\\\\\\\\\"A powerful khal (king) among the Dothraki people and the husband of Daenerys Targaryen. Stoic and brave, Drogo is an exceptional warrior who shows his enemies no mercy. He controls a massive\\\\\",\\\\\"title\\\\\":\\\\\"got.txt\\\\\",\\\\\"source\\\\\":\\\\\"data/got.txt\\\\\",\\\\\"version\\\\\":\\\\\"v0\\\\\",\\\\\"chunk_order\\\\\":475,\\\\\"document_id\\\\\":\\\\\"9f14e4f8-34e3-45ce-a210-13edf5a6535e\\\\\",\\\\\"extraction_id\\\\\":\\\\\"d3756cb1-53ad-52cd-99e0-4eedc612e020\\\\\",\\\\\"associatedQuery\\\\\":\\\\\"Who was Aegon Targaryen?\\\\\"}}\", \"{\\\\\"id\\\\\":\\\\\"18300a42-f919-50a3-badb-5bf017156433\\\\\",\\\\\"score\\\\\":0.5825807029777981,\\\\\"metadata\\\\\":{\\\\\"text\\\\\":\\\\\"Targaryens back to Varys.\\\\\\\\\\\\\",\\\\\\\\\\\\\"Viserys Targaryen\\\\\\\\\\\\\",\\\\\\\\\\\\\"Brother of Daenerys and son of the murdered King Aerys Targaryen. Having lived in exile for many years, earning him the nickname of The Beggar King, he wants to return to Westeros and retake the throne. He is arrogant, cruel, easily angered, and foolish.\\\\\\\\\\\\\",\\\\\\\\\\\\\"Khal Drogo\\\\\\\\\\\\\",\\\\\\\\\\\\\"A powerful khal (king) among the Dothraki people and the husband of Daenerys Targaryen. Stoic and brave, Drogo is an exceptional warrior who shows his enemies no mercy. He controls a massive\\\\\",\\\\\"title\\\\\":\\\\\"got.txt\\\\\",\\\\\"source\\\\\":\\\\\"data/got.txt\\\\\",\\\\\"version\\\\\":\\\\\"v0\\\\\",\\\\\"chunk_order\\\\\":475,\\\\\"document_id\\\\\":\\\\\"ba77307d-6c8a-549f-812a-3558697e2842\\\\\",\\\\\"extraction_id\\\\\":\\\\\"e76f4058-a54c-568b-bbf5-bb523dea92e3\\\\\",\\\\\"associatedQuery\\\\\":\\\\\"Who was Aegon Targaryen?\\\\\"}}\", \"{\\\\\"id\\\\\":\\\\\"4eccb528-826e-5796-89cd-d6a243568a47\\\\\",\\\\\"score\\\\\":0.5825807029777981,\\\\\"metadata\\\\\":{\\\\\"text\\\\\":\\\\\"Targaryens back to Varys.\\\\\\\\\\\\\",\\\\\\\\\\\\\"Viserys Targaryen\\\\\\\\\\\\\",\\\\\\\\\\\\\"Brother of Daenerys and son of the murdered King Aerys Targaryen. Having lived in exile for many years, earning him the nickname of The Beggar King, he wants to return to Westeros and retake the throne. He is arrogant, cruel, easily angered, and foolish.\\\\\\\\\\\\\",\\\\\\\\\\\\\"Khal Drogo\\\\\\\\\\\\\",\\\\\\\\\\\\\"A powerful khal (king) among the Dothraki people and the husband of Daenerys Targaryen. Stoic and brave, Drogo is an exceptional warrior who shows his enemies no mercy. He controls a massive\\\\\",\\\\\"title\\\\\":\\\\\"got.txt\\\\\",\\\\\"source\\\\\":\\\\\"data/got.txt\\\\\",\\\\\"version\\\\\":\\\\\"v0\\\\\",\\\\\"chunk_order\\\\\":475,\\\\\"document_id\\\\\":\\\\\"9eb2a006-d9d9-444a-884d-39d35a82ee79\\\\\",\\\\\"extraction_id\\\\\":\\\\\"36cd980e-f037-504a-9953-4f4bf3a0cbb2\\\\\",\\\\\"associatedQuery\\\\\":\\\\\"Who was Aegon Targaryen?\\\\\"}}\", \"{\\\\\"id\\\\\":\\\\\"3ce8c31c-6241-5b6e-84f4-d0304a2581b0\\\\\",\\\\\"score\\\\\":0.572918074516001,\\\\\"metadata\\\\\":{\\\\\"text\\\\\":\\\\\"id=\\\\\\\\\\\\\"LC30\\\\\\\\\\\\\" class=\\\\\\\\\\\\\"react-file-line html-div\\\\\\\\\\\\\" data-testid=\\\\\\\\\\\\\"code-cell\\\\\\\\\\\\\" data-line-number=\\\\\\\\\\\\\"30\\\\\\\\\\\\\" style=\\\\\\\\\\\\\"position:relative\\\\\\\\\\\\\">Brother of Daenerys and son of the murdered King Aerys Targaryen. Having lived in exile for many years, earning him the nickname of The Beggar King, he wants to return to Westeros and retake the throne. He is arrogant, cruel, easily angered, and foolish.</div></div></div><div class=\\\\\\\\\\\\\"react-code-text react-code-line-contents\\\\\\\\\\\\\" style=\\\\\\\\\\\\\"min-height:auto\\\\\\\\\\\\\"><div><div id=\\\\\\\\\\\\\"LC31\\\\\\\\\\\\\" class=\\\\\\\\\\\\\"react-file-line\\\\\",\\\\\"title\\\\\":\\\\\"got.txt\\\\\",\\\\\"source\\\\\":\\\\\"data/got.txt\\\\\",\\\\\"version\\\\\":\\\\\"v1\\\\\",\\\\\"chunk_order\\\\\":862,\\\\\"document_id\\\\\":\\\\\"ba77307d-6c8a-549f-812a-3558697e2842\\\\\",\\\\\"extraction_id\\\\\":\\\\\"43d43dc9-f1f9-54e7-bf45-8c5aa8167862\\\\\",\\\\\"associatedQuery\\\\\":\\\\\"Who was Aegon Targaryen?\\\\\"}}\", \"{\\\\\"id\\\\\":\\\\\"03c4d360-bc10-5e68-9232-2a35059cf09b\\\\\",\\\\\"score\\\\\":0.5728489843426929,\\\\\"metadata\\\\\":{\\\\\"text\\\\\":\\\\\"id=\\\\\\\\\\\\\"LC30\\\\\\\\\\\\\" class=\\\\\\\\\\\\\"react-file-line html-div\\\\\\\\\\\\\" data-testid=\\\\\\\\\\\\\"code-cell\\\\\\\\\\\\\" data-line-number=\\\\\\\\\\\\\"30\\\\\\\\\\\\\" style=\\\\\\\\\\\\\"position:relative\\\\\\\\\\\\\">Brother of Daenerys and son of the murdered King Aerys Targaryen. Having lived in exile for many years, earning him the nickname of The Beggar King, he wants to return to Westeros and retake the throne. He is arrogant, cruel, easily angered, and foolish.</div></div></div><div class=\\\\\\\\\\\\\"react-code-text react-code-line-contents\\\\\\\\\\\\\" style=\\\\\\\\\\\\\"min-height:auto\\\\\\\\\\\\\"><div><div id=\\\\\\\\\\\\\"LC31\\\\\\\\\\\\\" class=\\\\\\\\\\\\\"react-file-line\\\\\",\\\\\"title\\\\\":\\\\\"got.txt\\\\\",\\\\\"source\\\\\":\\\\\"data/got.txt\\\\\",\\\\\"version\\\\\":\\\\\"v0\\\\\",\\\\\"chunk_order\\\\\":862,\\\\\"document_id\\\\\":\\\\\"48dcae37-7284-47cc-a75e-74658d0dc4f4\\\\\",\\\\\"extraction_id\\\\\":\\\\\"c0d29f64-46e5-501b-9d64-4e0312d37e92\\\\\",\\\\\"associatedQuery\\\\\":\\\\\"Who was Aegon Targaryen?\\\\\"}}\"]'}, {'key': 'search_query', 'value': 'Who was Aegon Targaryen?'}]}\n",
            "{'run_id': UUID('cf4bf3ea-ff68-4347-9e5c-18bc4fff4737'), 'run_type': 'search', 'entries': [{'key': 'search_latency', 'value': '0.48'}, {'key': 'search_results', 'value': '[\"{\\\\\"id\\\\\":\\\\\"6b5cd0ff-9e50-5c48-9e89-92f597f5636e\\\\\",\\\\\"score\\\\\":0.40884476900100697,\\\\\"metadata\\\\\":{\\\\\"text\\\\\":\\\\\"data-line-number=\\\\\\\\\\\\\"395\\\\\\\\\\\\\" style=\\\\\\\\\\\\\"position:relative\\\\\\\\\\\\\">In the Early Modern period, scientists such as William Harvey in England and Galileo Galilei in Italy reacted against the theories of Aristotle and other classical era thinkers like Galen, establishing new theories based to some degree on observation and experiment. Harvey demonstrated the circulation of the blood, establishing that the heart functioned as a pump rather than being the seat of the soul and the controller of the body&#039;s heat, as Aristotle\\\\\",\\\\\"title\\\\\":\\\\\"aristotle.txt\\\\\",\\\\\"source\\\\\":\\\\\"data/aristotle.txt\\\\\",\\\\\"version\\\\\":\\\\\"v1\\\\\",\\\\\"chunk_order\\\\\":1413,\\\\\"document_id\\\\\":\\\\\"e96481c2-fbd6-4e80-a30d-1b3140cdffa7\\\\\",\\\\\"extraction_id\\\\\":\\\\\"5ff30f8b-8359-5b6a-8a43-68314558c86b\\\\\",\\\\\"associatedQuery\\\\\":\\\\\"Who was John Snow?\\\\\"}}\", \"{\\\\\"id\\\\\":\\\\\"e5ae9c3f-4d37-5040-85c9-a199e7f4943a\\\\\",\\\\\"score\\\\\":0.408841562534617,\\\\\"metadata\\\\\":{\\\\\"text\\\\\":\\\\\"data-line-number=\\\\\\\\\\\\\"395\\\\\\\\\\\\\" style=\\\\\\\\\\\\\"position:relative\\\\\\\\\\\\\">In the Early Modern period, scientists such as William Harvey in England and Galileo Galilei in Italy reacted against the theories of Aristotle and other classical era thinkers like Galen, establishing new theories based to some degree on observation and experiment. Harvey demonstrated the circulation of the blood, establishing that the heart functioned as a pump rather than being the seat of the soul and the controller of the body&#039;s heat, as Aristotle\\\\\",\\\\\"title\\\\\":\\\\\"aristotle.txt\\\\\",\\\\\"source\\\\\":\\\\\"data/aristotle.txt\\\\\",\\\\\"version\\\\\":\\\\\"v0\\\\\",\\\\\"chunk_order\\\\\":1413,\\\\\"document_id\\\\\":\\\\\"085e28f5-55e0-4b46-8f56-3ac32641107f\\\\\",\\\\\"extraction_id\\\\\":\\\\\"00da34dd-5a91-592f-b05c-f8c5f9f1493e\\\\\",\\\\\"associatedQuery\\\\\":\\\\\"Who was John Snow?\\\\\"}}\", \"{\\\\\"id\\\\\":\\\\\"0eccfccf-f278-5e11-9b33-c5cec1ecd7e7\\\\\",\\\\\"score\\\\\":0.408841562534617,\\\\\"metadata\\\\\":{\\\\\"text\\\\\":\\\\\"data-line-number=\\\\\\\\\\\\\"395\\\\\\\\\\\\\" style=\\\\\\\\\\\\\"position:relative\\\\\\\\\\\\\">In the Early Modern period, scientists such as William Harvey in England and Galileo Galilei in Italy reacted against the theories of Aristotle and other classical era thinkers like Galen, establishing new theories based to some degree on observation and experiment. Harvey demonstrated the circulation of the blood, establishing that the heart functioned as a pump rather than being the seat of the soul and the controller of the body&#039;s heat, as Aristotle\\\\\",\\\\\"title\\\\\":\\\\\"aristotle.txt\\\\\",\\\\\"source\\\\\":\\\\\"data/aristotle.txt\\\\\",\\\\\"version\\\\\":\\\\\"v0\\\\\",\\\\\"chunk_order\\\\\":1413,\\\\\"document_id\\\\\":\\\\\"43cc0eec-e898-4e1f-a23d-67bd31cc15f3\\\\\",\\\\\"extraction_id\\\\\":\\\\\"51ecf7f9-f867-592f-b9a2-fcd6c0b2d79c\\\\\",\\\\\"associatedQuery\\\\\":\\\\\"Who was John Snow?\\\\\"}}\", \"{\\\\\"id\\\\\":\\\\\"b4eedd4c-2496-5e5a-9911-bc752ca7c36b\\\\\",\\\\\"score\\\\\":0.37635222814367897,\\\\\"metadata\\\\\":{\\\\\"text\\\\\":\\\\\"Modern science\\\\\\\\\\\\\",\\\\\\\\\\\\\"\\\\\\\\\\\\\",\\\\\\\\\\\\\"William Harvey\\'s De Motu Cordis, 1628, showed that the blood circulated, contrary to classical era thinking.\\\\\\\\\\\\\",\\\\\\\\\\\\\"In the Early Modern period, scientists such as William Harvey in England and Galileo Galilei in Italy reacted against the theories of Aristotle and other classical era thinkers like Galen, establishing new theories based to some degree on observation and experiment. Harvey demonstrated the circulation of the blood, establishing that the heart functioned as a pump rather than\\\\\",\\\\\"title\\\\\":\\\\\"aristotle.txt\\\\\",\\\\\"source\\\\\":\\\\\"data/aristotle.txt\\\\\",\\\\\"version\\\\\":\\\\\"v0\\\\\",\\\\\"chunk_order\\\\\":603,\\\\\"document_id\\\\\":\\\\\"c9bdbac7-0ea3-5c9e-b590-018bd09b127b\\\\\",\\\\\"extraction_id\\\\\":\\\\\"472d6921-b4cd-5514-bf62-90b05c9102cb\\\\\",\\\\\"associatedQuery\\\\\":\\\\\"Who was John Snow?\\\\\"}}\", \"{\\\\\"id\\\\\":\\\\\"ae5b5944-2203-5a4c-ac84-415e3d7dde85\\\\\",\\\\\"score\\\\\":0.37635222814367897,\\\\\"metadata\\\\\":{\\\\\"text\\\\\":\\\\\"Modern science\\\\\\\\\\\\\",\\\\\\\\\\\\\"\\\\\\\\\\\\\",\\\\\\\\\\\\\"William Harvey\\'s De Motu Cordis, 1628, showed that the blood circulated, contrary to classical era thinking.\\\\\\\\\\\\\",\\\\\\\\\\\\\"In the Early Modern period, scientists such as William Harvey in England and Galileo Galilei in Italy reacted against the theories of Aristotle and other classical era thinkers like Galen, establishing new theories based to some degree on observation and experiment. Harvey demonstrated the circulation of the blood, establishing that the heart functioned as a pump rather than\\\\\",\\\\\"title\\\\\":\\\\\"aristotle.txt\\\\\",\\\\\"source\\\\\":\\\\\"data/aristotle.txt\\\\\",\\\\\"version\\\\\":\\\\\"v0\\\\\",\\\\\"chunk_order\\\\\":603,\\\\\"document_id\\\\\":\\\\\"085e28f5-55e0-4b46-8f56-3ac32641107f\\\\\",\\\\\"extraction_id\\\\\":\\\\\"00da34dd-5a91-592f-b05c-f8c5f9f1493e\\\\\",\\\\\"associatedQuery\\\\\":\\\\\"Who was John Snow?\\\\\"}}\", \"{\\\\\"id\\\\\":\\\\\"914f6179-040b-5f08-be8f-a080fba96662\\\\\",\\\\\"score\\\\\":0.37635222814367897,\\\\\"metadata\\\\\":{\\\\\"text\\\\\":\\\\\"Modern science\\\\\\\\\\\\\",\\\\\\\\\\\\\"\\\\\\\\\\\\\",\\\\\\\\\\\\\"William Harvey\\'s De Motu Cordis, 1628, showed that the blood circulated, contrary to classical era thinking.\\\\\\\\\\\\\",\\\\\\\\\\\\\"In the Early Modern period, scientists such as William Harvey in England and Galileo Galilei in Italy reacted against the theories of Aristotle and other classical era thinkers like Galen, establishing new theories based to some degree on observation and experiment. Harvey demonstrated the circulation of the blood, establishing that the heart functioned as a pump rather than\\\\\",\\\\\"title\\\\\":\\\\\"aristotle.txt\\\\\",\\\\\"source\\\\\":\\\\\"data/aristotle.txt\\\\\",\\\\\"version\\\\\":\\\\\"v0\\\\\",\\\\\"chunk_order\\\\\":603,\\\\\"document_id\\\\\":\\\\\"05790837-dacc-466d-af76-da9feb82527b\\\\\",\\\\\"extraction_id\\\\\":\\\\\"86f8d08d-520f-5926-8a29-9b53a8b9f06c\\\\\",\\\\\"associatedQuery\\\\\":\\\\\"Who was John Snow?\\\\\"}}\", \"{\\\\\"id\\\\\":\\\\\"93b4f971-8da6-5e5a-88c6-220a3b5e9423\\\\\",\\\\\"score\\\\\":0.37635222814367897,\\\\\"metadata\\\\\":{\\\\\"text\\\\\":\\\\\"Modern science\\\\\\\\\\\\\",\\\\\\\\\\\\\"\\\\\\\\\\\\\",\\\\\\\\\\\\\"William Harvey\\'s De Motu Cordis, 1628, showed that the blood circulated, contrary to classical era thinking.\\\\\\\\\\\\\",\\\\\\\\\\\\\"In the Early Modern period, scientists such as William Harvey in England and Galileo Galilei in Italy reacted against the theories of Aristotle and other classical era thinkers like Galen, establishing new theories based to some degree on observation and experiment. Harvey demonstrated the circulation of the blood, establishing that the heart functioned as a pump rather than\\\\\",\\\\\"title\\\\\":\\\\\"aristotle.txt\\\\\",\\\\\"source\\\\\":\\\\\"data/aristotle.txt\\\\\",\\\\\"version\\\\\":\\\\\"v1\\\\\",\\\\\"chunk_order\\\\\":603,\\\\\"document_id\\\\\":\\\\\"e96481c2-fbd6-4e80-a30d-1b3140cdffa7\\\\\",\\\\\"extraction_id\\\\\":\\\\\"5ff30f8b-8359-5b6a-8a43-68314558c86b\\\\\",\\\\\"associatedQuery\\\\\":\\\\\"Who was John Snow?\\\\\"}}\", \"{\\\\\"id\\\\\":\\\\\"5b420bff-8091-54c5-9e55-e3525f88d863\\\\\",\\\\\"score\\\\\":0.37635222814367897,\\\\\"metadata\\\\\":{\\\\\"text\\\\\":\\\\\"Modern science\\\\\\\\\\\\\",\\\\\\\\\\\\\"\\\\\\\\\\\\\",\\\\\\\\\\\\\"William Harvey\\'s De Motu Cordis, 1628, showed that the blood circulated, contrary to classical era thinking.\\\\\\\\\\\\\",\\\\\\\\\\\\\"In the Early Modern period, scientists such as William Harvey in England and Galileo Galilei in Italy reacted against the theories of Aristotle and other classical era thinkers like Galen, establishing new theories based to some degree on observation and experiment. Harvey demonstrated the circulation of the blood, establishing that the heart functioned as a pump rather than\\\\\",\\\\\"title\\\\\":\\\\\"aristotle.txt\\\\\",\\\\\"source\\\\\":\\\\\"data/aristotle.txt\\\\\",\\\\\"version\\\\\":\\\\\"v0\\\\\",\\\\\"chunk_order\\\\\":603,\\\\\"document_id\\\\\":\\\\\"43cc0eec-e898-4e1f-a23d-67bd31cc15f3\\\\\",\\\\\"extraction_id\\\\\":\\\\\"51ecf7f9-f867-592f-b9a2-fcd6c0b2d79c\\\\\",\\\\\"associatedQuery\\\\\":\\\\\"Who was John Snow?\\\\\"}}\", \"{\\\\\"id\\\\\":\\\\\"4c08da74-e3cd-5d4b-8692-57fb31cfd799\\\\\",\\\\\"score\\\\\":0.37635222814367897,\\\\\"metadata\\\\\":{\\\\\"text\\\\\":\\\\\"Modern science\\\\\\\\\\\\\",\\\\\\\\\\\\\"\\\\\\\\\\\\\",\\\\\\\\\\\\\"William Harvey\\'s De Motu Cordis, 1628, showed that the blood circulated, contrary to classical era thinking.\\\\\\\\\\\\\",\\\\\\\\\\\\\"In the Early Modern period, scientists such as William Harvey in England and Galileo Galilei in Italy reacted against the theories of Aristotle and other classical era thinkers like Galen, establishing new theories based to some degree on observation and experiment. Harvey demonstrated the circulation of the blood, establishing that the heart functioned as a pump rather than\\\\\",\\\\\"title\\\\\":\\\\\"aristotle.txt\\\\\",\\\\\"source\\\\\":\\\\\"data/aristotle.txt\\\\\",\\\\\"version\\\\\":\\\\\"v1\\\\\",\\\\\"chunk_order\\\\\":603,\\\\\"document_id\\\\\":\\\\\"c9bdbac7-0ea3-5c9e-b590-018bd09b127b\\\\\",\\\\\"extraction_id\\\\\":\\\\\"f1378441-0446-5201-b999-2dc3e7a2a307\\\\\",\\\\\"associatedQuery\\\\\":\\\\\"Who was John Snow?\\\\\"}}\", \"{\\\\\"id\\\\\":\\\\\"8adb1752-e07e-5a09-91d0-c3567f7709df\\\\\",\\\\\"score\\\\\":0.36390115999586403,\\\\\"metadata\\\\\":{\\\\\"text\\\\\":\\\\\"</div></div></div><div class=\\\\\\\\\\\\\"react-code-text react-code-line-contents\\\\\\\\\\\\\" style=\\\\\\\\\\\\\"min-height:auto\\\\\\\\\\\\\"><div><div id=\\\\\\\\\\\\\"LC394\\\\\\\\\\\\\" class=\\\\\\\\\\\\\"react-file-line html-div\\\\\\\\\\\\\" data-testid=\\\\\\\\\\\\\"code-cell\\\\\\\\\\\\\" data-line-number=\\\\\\\\\\\\\"394\\\\\\\\\\\\\" style=\\\\\\\\\\\\\"position:relative\\\\\\\\\\\\\">William Harvey&#039;s De Motu Cordis, 1628, showed that the blood circulated, contrary to classical era thinking.</div></div></div><div class=\\\\\\\\\\\\\"react-code-text react-code-line-contents\\\\\\\\\\\\\" style=\\\\\\\\\\\\\"min-height:auto\\\\\\\\\\\\\"><div><div id=\\\\\\\\\\\\\"LC395\\\\\\\\\\\\\" class=\\\\\\\\\\\\\"react-file-line html-div\\\\\\\\\\\\\" data-testid=\\\\\\\\\\\\\"code-cell\\\\\\\\\\\\\"\\\\\",\\\\\"title\\\\\":\\\\\"aristotle.txt\\\\\",\\\\\"source\\\\\":\\\\\"data/aristotle.txt\\\\\",\\\\\"version\\\\\":\\\\\"v0\\\\\",\\\\\"chunk_order\\\\\":1412,\\\\\"document_id\\\\\":\\\\\"085e28f5-55e0-4b46-8f56-3ac32641107f\\\\\",\\\\\"extraction_id\\\\\":\\\\\"00da34dd-5a91-592f-b05c-f8c5f9f1493e\\\\\",\\\\\"associatedQuery\\\\\":\\\\\"Who was John Snow?\\\\\"}}\"]'}, {'key': 'search_query', 'value': 'Who was John Snow?'}]}\n",
            "{'run_id': UUID('1d7d4a59-4d58-482e-b029-6d13f5c12a80'), 'run_type': 'search', 'entries': [{'key': 'search_latency', 'value': '0.47'}, {'key': 'search_results', 'value': '[\"{\\\\\"id\\\\\":\\\\\"ff76490a-e11f-5f8b-94ad-23ee06c2e7ef\\\\\",\\\\\"score\\\\\":0.746797889852781,\\\\\"metadata\\\\\":{\\\\\"text\\\\\":\\\\\"(Greek: \\\\u1f08\\\\u03c1\\\\u03b9\\\\u03c3\\\\u03c4\\\\u03bf\\\\u03c4\\\\u03ad\\\\u03bb\\\\u03b7\\\\u03c2 Aristot\\\\u00e9l\\\\u0113s, pronounced [aristot\\\\u00e9l\\\\u025b\\\\u02d0s]; 384\\\\u2013322 BC) was an Ancient Greek philosopher and polymath. His writings cover a broad range of subjects spanning the natural sciences, philosophy, linguistics, economics, politics, psychology, and the arts. As the founder of the Peripatetic school of philosophy in the Lyceum in Athens, he began the wider Aristotelian tradition that followed, which set the groundwork for the development of modern science.\\\\\\\\\\\\\",\\\\\\\\\\\\\"\\\\\\\\\\\\\",\\\\\\\\\\\\\"Little is known about Aristotle\\'s\\\\\",\\\\\"title\\\\\":\\\\\"aristotle_v2.txt\\\\\",\\\\\"source\\\\\":\\\\\"data/aristotle_v2.txt\\\\\",\\\\\"version\\\\\":\\\\\"v0\\\\\",\\\\\"chunk_order\\\\\":468,\\\\\"document_id\\\\\":\\\\\"ffac6192-6cf2-47c1-91ad-ad281396c573\\\\\",\\\\\"extraction_id\\\\\":\\\\\"8ce8e7dc-becf-5c74-9483-2dcd8fbb46cd\\\\\",\\\\\"associatedQuery\\\\\":\\\\\"Who was Aristotle?\\\\\"}}\", \"{\\\\\"id\\\\\":\\\\\"24925ce5-6a6a-57c2-b944-b702e3abc199\\\\\",\\\\\"score\\\\\":0.746416382811997,\\\\\"metadata\\\\\":{\\\\\"text\\\\\":\\\\\"(Greek: \\\\u1f08\\\\u03c1\\\\u03b9\\\\u03c3\\\\u03c4\\\\u03bf\\\\u03c4\\\\u03ad\\\\u03bb\\\\u03b7\\\\u03c2 Aristot\\\\u00e9l\\\\u0113s, pronounced [aristot\\\\u00e9l\\\\u025b\\\\u02d0s]; 384\\\\u2013322 BC) was an Ancient Greek philosopher and polymath. His writings cover a broad range of subjects spanning the natural sciences, philosophy, linguistics, economics, politics, psychology, and the arts. As the founder of the Peripatetic school of philosophy in the Lyceum in Athens, he began the wider Aristotelian tradition that followed, which set the groundwork for the development of modern science.\\\\\\\\\\\\\",\\\\\\\\\\\\\"\\\\\\\\\\\\\",\\\\\\\\\\\\\"Little is known about Aristotle\\'s\\\\\",\\\\\"title\\\\\":\\\\\"aristotle.txt\\\\\",\\\\\"source\\\\\":\\\\\"data/aristotle.txt\\\\\",\\\\\"version\\\\\":\\\\\"v0\\\\\",\\\\\"chunk_order\\\\\":468,\\\\\"document_id\\\\\":\\\\\"05790837-dacc-466d-af76-da9feb82527b\\\\\",\\\\\"extraction_id\\\\\":\\\\\"86f8d08d-520f-5926-8a29-9b53a8b9f06c\\\\\",\\\\\"associatedQuery\\\\\":\\\\\"Who was Aristotle?\\\\\"}}\", \"{\\\\\"id\\\\\":\\\\\"24fd1f78-682d-5654-8227-e2917ec9c3c0\\\\\",\\\\\"score\\\\\":0.746386081411119,\\\\\"metadata\\\\\":{\\\\\"text\\\\\":\\\\\"(Greek: \\\\u1f08\\\\u03c1\\\\u03b9\\\\u03c3\\\\u03c4\\\\u03bf\\\\u03c4\\\\u03ad\\\\u03bb\\\\u03b7\\\\u03c2 Aristot\\\\u00e9l\\\\u0113s, pronounced [aristot\\\\u00e9l\\\\u025b\\\\u02d0s]; 384\\\\u2013322 BC) was an Ancient Greek philosopher and polymath. His writings cover a broad range of subjects spanning the natural sciences, philosophy, linguistics, economics, politics, psychology, and the arts. As the founder of the Peripatetic school of philosophy in the Lyceum in Athens, he began the wider Aristotelian tradition that followed, which set the groundwork for the development of modern science.\\\\\\\\\\\\\",\\\\\\\\\\\\\"\\\\\\\\\\\\\",\\\\\\\\\\\\\"Little is known about Aristotle\\'s\\\\\",\\\\\"title\\\\\":\\\\\"aristotle_v2.txt\\\\\",\\\\\"source\\\\\":\\\\\"data/aristotle_v2.txt\\\\\",\\\\\"version\\\\\":\\\\\"v0\\\\\",\\\\\"chunk_order\\\\\":468,\\\\\"document_id\\\\\":\\\\\"9a9972a0-0236-46de-aef3-bf3516ae4bfb\\\\\",\\\\\"extraction_id\\\\\":\\\\\"0ab54225-a13e-562e-8ca5-a59ebcdd8359\\\\\",\\\\\"associatedQuery\\\\\":\\\\\"Who was Aristotle?\\\\\"}}\", \"{\\\\\"id\\\\\":\\\\\"93e11d74-dfd3-53b5-a4b0-606d2d38027d\\\\\",\\\\\"score\\\\\":0.746386081411119,\\\\\"metadata\\\\\":{\\\\\"text\\\\\":\\\\\"(Greek: \\\\u1f08\\\\u03c1\\\\u03b9\\\\u03c3\\\\u03c4\\\\u03bf\\\\u03c4\\\\u03ad\\\\u03bb\\\\u03b7\\\\u03c2 Aristot\\\\u00e9l\\\\u0113s, pronounced [aristot\\\\u00e9l\\\\u025b\\\\u02d0s]; 384\\\\u2013322 BC) was an Ancient Greek philosopher and polymath. His writings cover a broad range of subjects spanning the natural sciences, philosophy, linguistics, economics, politics, psychology, and the arts. As the founder of the Peripatetic school of philosophy in the Lyceum in Athens, he began the wider Aristotelian tradition that followed, which set the groundwork for the development of modern science.\\\\\\\\\\\\\",\\\\\\\\\\\\\"\\\\\\\\\\\\\",\\\\\\\\\\\\\"Little is known about Aristotle\\'s\\\\\",\\\\\"title\\\\\":\\\\\"aristotle_v2.txt\\\\\",\\\\\"source\\\\\":\\\\\"data/aristotle_v2.txt\\\\\",\\\\\"version\\\\\":\\\\\"v0\\\\\",\\\\\"chunk_order\\\\\":468,\\\\\"document_id\\\\\":\\\\\"dbf69e0a-3d41-5140-b20d-017cd6c01ca7\\\\\",\\\\\"extraction_id\\\\\":\\\\\"0864d1a3-3ca2-5102-a39d-9fe06caecda5\\\\\",\\\\\"associatedQuery\\\\\":\\\\\"Who was Aristotle?\\\\\"}}\", \"{\\\\\"id\\\\\":\\\\\"8b8f0954-2313-5abd-8cc6-c673a42e2d1b\\\\\",\\\\\"score\\\\\":0.746386081411119,\\\\\"metadata\\\\\":{\\\\\"text\\\\\":\\\\\"(Greek: \\\\u1f08\\\\u03c1\\\\u03b9\\\\u03c3\\\\u03c4\\\\u03bf\\\\u03c4\\\\u03ad\\\\u03bb\\\\u03b7\\\\u03c2 Aristot\\\\u00e9l\\\\u0113s, pronounced [aristot\\\\u00e9l\\\\u025b\\\\u02d0s]; 384\\\\u2013322 BC) was an Ancient Greek philosopher and polymath. His writings cover a broad range of subjects spanning the natural sciences, philosophy, linguistics, economics, politics, psychology, and the arts. As the founder of the Peripatetic school of philosophy in the Lyceum in Athens, he began the wider Aristotelian tradition that followed, which set the groundwork for the development of modern science.\\\\\\\\\\\\\",\\\\\\\\\\\\\"\\\\\\\\\\\\\",\\\\\\\\\\\\\"Little is known about Aristotle\\'s\\\\\",\\\\\"title\\\\\":\\\\\"aristotle.txt\\\\\",\\\\\"source\\\\\":\\\\\"data/aristotle.txt\\\\\",\\\\\"version\\\\\":\\\\\"v1\\\\\",\\\\\"chunk_order\\\\\":468,\\\\\"document_id\\\\\":\\\\\"e96481c2-fbd6-4e80-a30d-1b3140cdffa7\\\\\",\\\\\"extraction_id\\\\\":\\\\\"5ff30f8b-8359-5b6a-8a43-68314558c86b\\\\\",\\\\\"associatedQuery\\\\\":\\\\\"Who was Aristotle?\\\\\"}}\", \"{\\\\\"id\\\\\":\\\\\"85d07ef5-ea5a-53ad-93fc-1c57b8ddbb3c\\\\\",\\\\\"score\\\\\":0.746386081411119,\\\\\"metadata\\\\\":{\\\\\"text\\\\\":\\\\\"(Greek: \\\\u1f08\\\\u03c1\\\\u03b9\\\\u03c3\\\\u03c4\\\\u03bf\\\\u03c4\\\\u03ad\\\\u03bb\\\\u03b7\\\\u03c2 Aristot\\\\u00e9l\\\\u0113s, pronounced [aristot\\\\u00e9l\\\\u025b\\\\u02d0s]; 384\\\\u2013322 BC) was an Ancient Greek philosopher and polymath. His writings cover a broad range of subjects spanning the natural sciences, philosophy, linguistics, economics, politics, psychology, and the arts. As the founder of the Peripatetic school of philosophy in the Lyceum in Athens, he began the wider Aristotelian tradition that followed, which set the groundwork for the development of modern science.\\\\\\\\\\\\\",\\\\\\\\\\\\\"\\\\\\\\\\\\\",\\\\\\\\\\\\\"Little is known about Aristotle\\'s\\\\\",\\\\\"title\\\\\":\\\\\"aristotle_v2.txt\\\\\",\\\\\"source\\\\\":\\\\\"data/aristotle_v2.txt\\\\\",\\\\\"version\\\\\":\\\\\"v0\\\\\",\\\\\"chunk_order\\\\\":468,\\\\\"document_id\\\\\":\\\\\"09566c74-32e4-4783-9817-d9a34021dda2\\\\\",\\\\\"extraction_id\\\\\":\\\\\"32e75697-d726-581e-9c4c-fd16346f22da\\\\\",\\\\\"associatedQuery\\\\\":\\\\\"Who was Aristotle?\\\\\"}}\", \"{\\\\\"id\\\\\":\\\\\"534b8899-95b5-59e1-af0f-0e8d0eb88ee3\\\\\",\\\\\"score\\\\\":0.746386081411119,\\\\\"metadata\\\\\":{\\\\\"text\\\\\":\\\\\"(Greek: \\\\u1f08\\\\u03c1\\\\u03b9\\\\u03c3\\\\u03c4\\\\u03bf\\\\u03c4\\\\u03ad\\\\u03bb\\\\u03b7\\\\u03c2 Aristot\\\\u00e9l\\\\u0113s, pronounced [aristot\\\\u00e9l\\\\u025b\\\\u02d0s]; 384\\\\u2013322 BC) was an Ancient Greek philosopher and polymath. His writings cover a broad range of subjects spanning the natural sciences, philosophy, linguistics, economics, politics, psychology, and the arts. As the founder of the Peripatetic school of philosophy in the Lyceum in Athens, he began the wider Aristotelian tradition that followed, which set the groundwork for the development of modern science.\\\\\\\\\\\\\",\\\\\\\\\\\\\"\\\\\\\\\\\\\",\\\\\\\\\\\\\"Little is known about Aristotle\\'s\\\\\",\\\\\"title\\\\\":\\\\\"aristotle.txt\\\\\",\\\\\"source\\\\\":\\\\\"data/aristotle.txt\\\\\",\\\\\"version\\\\\":\\\\\"v0\\\\\",\\\\\"chunk_order\\\\\":468,\\\\\"document_id\\\\\":\\\\\"085e28f5-55e0-4b46-8f56-3ac32641107f\\\\\",\\\\\"extraction_id\\\\\":\\\\\"00da34dd-5a91-592f-b05c-f8c5f9f1493e\\\\\",\\\\\"associatedQuery\\\\\":\\\\\"Who was Aristotle?\\\\\"}}\", \"{\\\\\"id\\\\\":\\\\\"5520a40d-2260-55fe-a03b-2040f4588b25\\\\\",\\\\\"score\\\\\":0.746386081411119,\\\\\"metadata\\\\\":{\\\\\"text\\\\\":\\\\\"(Greek: \\\\u1f08\\\\u03c1\\\\u03b9\\\\u03c3\\\\u03c4\\\\u03bf\\\\u03c4\\\\u03ad\\\\u03bb\\\\u03b7\\\\u03c2 Aristot\\\\u00e9l\\\\u0113s, pronounced [aristot\\\\u00e9l\\\\u025b\\\\u02d0s]; 384\\\\u2013322 BC) was an Ancient Greek philosopher and polymath. His writings cover a broad range of subjects spanning the natural sciences, philosophy, linguistics, economics, politics, psychology, and the arts. As the founder of the Peripatetic school of philosophy in the Lyceum in Athens, he began the wider Aristotelian tradition that followed, which set the groundwork for the development of modern science.\\\\\\\\\\\\\",\\\\\\\\\\\\\"\\\\\\\\\\\\\",\\\\\\\\\\\\\"Little is known about Aristotle\\'s\\\\\",\\\\\"title\\\\\":\\\\\"aristotle_v2.txt\\\\\",\\\\\"source\\\\\":\\\\\"data/aristotle_v2.txt\\\\\",\\\\\"version\\\\\":\\\\\"v1\\\\\",\\\\\"chunk_order\\\\\":468,\\\\\"document_id\\\\\":\\\\\"dbf69e0a-3d41-5140-b20d-017cd6c01ca7\\\\\",\\\\\"extraction_id\\\\\":\\\\\"f11dbdc7-9e5c-5207-abf4-e69ed5caabbd\\\\\",\\\\\"associatedQuery\\\\\":\\\\\"Who was Aristotle?\\\\\"}}\", \"{\\\\\"id\\\\\":\\\\\"ae889ab0-e15b-59eb-992b-92d9d82c2483\\\\\",\\\\\"score\\\\\":0.746386081411119,\\\\\"metadata\\\\\":{\\\\\"text\\\\\":\\\\\"(Greek: \\\\u1f08\\\\u03c1\\\\u03b9\\\\u03c3\\\\u03c4\\\\u03bf\\\\u03c4\\\\u03ad\\\\u03bb\\\\u03b7\\\\u03c2 Aristot\\\\u00e9l\\\\u0113s, pronounced [aristot\\\\u00e9l\\\\u025b\\\\u02d0s]; 384\\\\u2013322 BC) was an Ancient Greek philosopher and polymath. His writings cover a broad range of subjects spanning the natural sciences, philosophy, linguistics, economics, politics, psychology, and the arts. As the founder of the Peripatetic school of philosophy in the Lyceum in Athens, he began the wider Aristotelian tradition that followed, which set the groundwork for the development of modern science.\\\\\\\\\\\\\",\\\\\\\\\\\\\"\\\\\\\\\\\\\",\\\\\\\\\\\\\"Little is known about Aristotle\\'s\\\\\",\\\\\"title\\\\\":\\\\\"aristotle.txt\\\\\",\\\\\"source\\\\\":\\\\\"data/aristotle.txt\\\\\",\\\\\"version\\\\\":\\\\\"v0\\\\\",\\\\\"chunk_order\\\\\":468,\\\\\"document_id\\\\\":\\\\\"c9bdbac7-0ea3-5c9e-b590-018bd09b127b\\\\\",\\\\\"extraction_id\\\\\":\\\\\"472d6921-b4cd-5514-bf62-90b05c9102cb\\\\\",\\\\\"associatedQuery\\\\\":\\\\\"Who was Aristotle?\\\\\"}}\", \"{\\\\\"id\\\\\":\\\\\"50ee76d0-3a29-5e1c-841f-bb8c9e960895\\\\\",\\\\\"score\\\\\":0.746324480456238,\\\\\"metadata\\\\\":{\\\\\"text\\\\\":\\\\\"(Greek: \\\\u1f08\\\\u03c1\\\\u03b9\\\\u03c3\\\\u03c4\\\\u03bf\\\\u03c4\\\\u03ad\\\\u03bb\\\\u03b7\\\\u03c2 Aristot\\\\u00e9l\\\\u0113s, pronounced [aristot\\\\u00e9l\\\\u025b\\\\u02d0s]; 384\\\\u2013322 BC) was an Ancient Greek philosopher and polymath. His writings cover a broad range of subjects spanning the natural sciences, philosophy, linguistics, economics, politics, psychology, and the arts. As the founder of the Peripatetic school of philosophy in the Lyceum in Athens, he began the wider Aristotelian tradition that followed, which set the groundwork for the development of modern science.\\\\\\\\\\\\\",\\\\\\\\\\\\\"\\\\\\\\\\\\\",\\\\\\\\\\\\\"Little is known about Aristotle\\'s\\\\\",\\\\\"title\\\\\":\\\\\"aristotle.txt\\\\\",\\\\\"source\\\\\":\\\\\"data/aristotle.txt\\\\\",\\\\\"version\\\\\":\\\\\"v0\\\\\",\\\\\"chunk_order\\\\\":468,\\\\\"document_id\\\\\":\\\\\"43cc0eec-e898-4e1f-a23d-67bd31cc15f3\\\\\",\\\\\"extraction_id\\\\\":\\\\\"51ecf7f9-f867-592f-b9a2-fcd6c0b2d79c\\\\\",\\\\\"associatedQuery\\\\\":\\\\\"Who was Aristotle?\\\\\"}}\"]'}, {'key': 'search_query', 'value': 'Who was Aristotle?'}]}\n",
            "{'run_id': UUID('bd591764-28b0-4028-a591-35c37e6fbfeb'), 'run_type': 'search', 'entries': [{'key': 'search_latency', 'value': '1.29'}, {'key': 'search_results', 'value': '[\"{\\\\\"id\\\\\":\\\\\"ff76490a-e11f-5f8b-94ad-23ee06c2e7ef\\\\\",\\\\\"score\\\\\":0.746797889852781,\\\\\"metadata\\\\\":{\\\\\"text\\\\\":\\\\\"(Greek: \\\\u1f08\\\\u03c1\\\\u03b9\\\\u03c3\\\\u03c4\\\\u03bf\\\\u03c4\\\\u03ad\\\\u03bb\\\\u03b7\\\\u03c2 Aristot\\\\u00e9l\\\\u0113s, pronounced [aristot\\\\u00e9l\\\\u025b\\\\u02d0s]; 384\\\\u2013322 BC) was an Ancient Greek philosopher and polymath. His writings cover a broad range of subjects spanning the natural sciences, philosophy, linguistics, economics, politics, psychology, and the arts. As the founder of the Peripatetic school of philosophy in the Lyceum in Athens, he began the wider Aristotelian tradition that followed, which set the groundwork for the development of modern science.\\\\\\\\\\\\\",\\\\\\\\\\\\\"\\\\\\\\\\\\\",\\\\\\\\\\\\\"Little is known about Aristotle\\'s\\\\\",\\\\\"title\\\\\":\\\\\"aristotle_v2.txt\\\\\",\\\\\"source\\\\\":\\\\\"data/aristotle_v2.txt\\\\\",\\\\\"version\\\\\":\\\\\"v0\\\\\",\\\\\"chunk_order\\\\\":468,\\\\\"document_id\\\\\":\\\\\"ffac6192-6cf2-47c1-91ad-ad281396c573\\\\\",\\\\\"extraction_id\\\\\":\\\\\"8ce8e7dc-becf-5c74-9483-2dcd8fbb46cd\\\\\",\\\\\"associatedQuery\\\\\":\\\\\"Who was Aristotle?\\\\\"}}\", \"{\\\\\"id\\\\\":\\\\\"24925ce5-6a6a-57c2-b944-b702e3abc199\\\\\",\\\\\"score\\\\\":0.746416382811997,\\\\\"metadata\\\\\":{\\\\\"text\\\\\":\\\\\"(Greek: \\\\u1f08\\\\u03c1\\\\u03b9\\\\u03c3\\\\u03c4\\\\u03bf\\\\u03c4\\\\u03ad\\\\u03bb\\\\u03b7\\\\u03c2 Aristot\\\\u00e9l\\\\u0113s, pronounced [aristot\\\\u00e9l\\\\u025b\\\\u02d0s]; 384\\\\u2013322 BC) was an Ancient Greek philosopher and polymath. His writings cover a broad range of subjects spanning the natural sciences, philosophy, linguistics, economics, politics, psychology, and the arts. As the founder of the Peripatetic school of philosophy in the Lyceum in Athens, he began the wider Aristotelian tradition that followed, which set the groundwork for the development of modern science.\\\\\\\\\\\\\",\\\\\\\\\\\\\"\\\\\\\\\\\\\",\\\\\\\\\\\\\"Little is known about Aristotle\\'s\\\\\",\\\\\"title\\\\\":\\\\\"aristotle.txt\\\\\",\\\\\"source\\\\\":\\\\\"data/aristotle.txt\\\\\",\\\\\"version\\\\\":\\\\\"v0\\\\\",\\\\\"chunk_order\\\\\":468,\\\\\"document_id\\\\\":\\\\\"05790837-dacc-466d-af76-da9feb82527b\\\\\",\\\\\"extraction_id\\\\\":\\\\\"86f8d08d-520f-5926-8a29-9b53a8b9f06c\\\\\",\\\\\"associatedQuery\\\\\":\\\\\"Who was Aristotle?\\\\\"}}\", \"{\\\\\"id\\\\\":\\\\\"24fd1f78-682d-5654-8227-e2917ec9c3c0\\\\\",\\\\\"score\\\\\":0.746386081411119,\\\\\"metadata\\\\\":{\\\\\"text\\\\\":\\\\\"(Greek: \\\\u1f08\\\\u03c1\\\\u03b9\\\\u03c3\\\\u03c4\\\\u03bf\\\\u03c4\\\\u03ad\\\\u03bb\\\\u03b7\\\\u03c2 Aristot\\\\u00e9l\\\\u0113s, pronounced [aristot\\\\u00e9l\\\\u025b\\\\u02d0s]; 384\\\\u2013322 BC) was an Ancient Greek philosopher and polymath. His writings cover a broad range of subjects spanning the natural sciences, philosophy, linguistics, economics, politics, psychology, and the arts. As the founder of the Peripatetic school of philosophy in the Lyceum in Athens, he began the wider Aristotelian tradition that followed, which set the groundwork for the development of modern science.\\\\\\\\\\\\\",\\\\\\\\\\\\\"\\\\\\\\\\\\\",\\\\\\\\\\\\\"Little is known about Aristotle\\'s\\\\\",\\\\\"title\\\\\":\\\\\"aristotle_v2.txt\\\\\",\\\\\"source\\\\\":\\\\\"data/aristotle_v2.txt\\\\\",\\\\\"version\\\\\":\\\\\"v0\\\\\",\\\\\"chunk_order\\\\\":468,\\\\\"document_id\\\\\":\\\\\"9a9972a0-0236-46de-aef3-bf3516ae4bfb\\\\\",\\\\\"extraction_id\\\\\":\\\\\"0ab54225-a13e-562e-8ca5-a59ebcdd8359\\\\\",\\\\\"associatedQuery\\\\\":\\\\\"Who was Aristotle?\\\\\"}}\", \"{\\\\\"id\\\\\":\\\\\"5520a40d-2260-55fe-a03b-2040f4588b25\\\\\",\\\\\"score\\\\\":0.746386081411119,\\\\\"metadata\\\\\":{\\\\\"text\\\\\":\\\\\"(Greek: \\\\u1f08\\\\u03c1\\\\u03b9\\\\u03c3\\\\u03c4\\\\u03bf\\\\u03c4\\\\u03ad\\\\u03bb\\\\u03b7\\\\u03c2 Aristot\\\\u00e9l\\\\u0113s, pronounced [aristot\\\\u00e9l\\\\u025b\\\\u02d0s]; 384\\\\u2013322 BC) was an Ancient Greek philosopher and polymath. His writings cover a broad range of subjects spanning the natural sciences, philosophy, linguistics, economics, politics, psychology, and the arts. As the founder of the Peripatetic school of philosophy in the Lyceum in Athens, he began the wider Aristotelian tradition that followed, which set the groundwork for the development of modern science.\\\\\\\\\\\\\",\\\\\\\\\\\\\"\\\\\\\\\\\\\",\\\\\\\\\\\\\"Little is known about Aristotle\\'s\\\\\",\\\\\"title\\\\\":\\\\\"aristotle_v2.txt\\\\\",\\\\\"source\\\\\":\\\\\"data/aristotle_v2.txt\\\\\",\\\\\"version\\\\\":\\\\\"v1\\\\\",\\\\\"chunk_order\\\\\":468,\\\\\"document_id\\\\\":\\\\\"dbf69e0a-3d41-5140-b20d-017cd6c01ca7\\\\\",\\\\\"extraction_id\\\\\":\\\\\"f11dbdc7-9e5c-5207-abf4-e69ed5caabbd\\\\\",\\\\\"associatedQuery\\\\\":\\\\\"Who was Aristotle?\\\\\"}}\", \"{\\\\\"id\\\\\":\\\\\"8b8f0954-2313-5abd-8cc6-c673a42e2d1b\\\\\",\\\\\"score\\\\\":0.746386081411119,\\\\\"metadata\\\\\":{\\\\\"text\\\\\":\\\\\"(Greek: \\\\u1f08\\\\u03c1\\\\u03b9\\\\u03c3\\\\u03c4\\\\u03bf\\\\u03c4\\\\u03ad\\\\u03bb\\\\u03b7\\\\u03c2 Aristot\\\\u00e9l\\\\u0113s, pronounced [aristot\\\\u00e9l\\\\u025b\\\\u02d0s]; 384\\\\u2013322 BC) was an Ancient Greek philosopher and polymath. His writings cover a broad range of subjects spanning the natural sciences, philosophy, linguistics, economics, politics, psychology, and the arts. As the founder of the Peripatetic school of philosophy in the Lyceum in Athens, he began the wider Aristotelian tradition that followed, which set the groundwork for the development of modern science.\\\\\\\\\\\\\",\\\\\\\\\\\\\"\\\\\\\\\\\\\",\\\\\\\\\\\\\"Little is known about Aristotle\\'s\\\\\",\\\\\"title\\\\\":\\\\\"aristotle.txt\\\\\",\\\\\"source\\\\\":\\\\\"data/aristotle.txt\\\\\",\\\\\"version\\\\\":\\\\\"v1\\\\\",\\\\\"chunk_order\\\\\":468,\\\\\"document_id\\\\\":\\\\\"e96481c2-fbd6-4e80-a30d-1b3140cdffa7\\\\\",\\\\\"extraction_id\\\\\":\\\\\"5ff30f8b-8359-5b6a-8a43-68314558c86b\\\\\",\\\\\"associatedQuery\\\\\":\\\\\"Who was Aristotle?\\\\\"}}\", \"{\\\\\"id\\\\\":\\\\\"85d07ef5-ea5a-53ad-93fc-1c57b8ddbb3c\\\\\",\\\\\"score\\\\\":0.746386081411119,\\\\\"metadata\\\\\":{\\\\\"text\\\\\":\\\\\"(Greek: \\\\u1f08\\\\u03c1\\\\u03b9\\\\u03c3\\\\u03c4\\\\u03bf\\\\u03c4\\\\u03ad\\\\u03bb\\\\u03b7\\\\u03c2 Aristot\\\\u00e9l\\\\u0113s, pronounced [aristot\\\\u00e9l\\\\u025b\\\\u02d0s]; 384\\\\u2013322 BC) was an Ancient Greek philosopher and polymath. His writings cover a broad range of subjects spanning the natural sciences, philosophy, linguistics, economics, politics, psychology, and the arts. As the founder of the Peripatetic school of philosophy in the Lyceum in Athens, he began the wider Aristotelian tradition that followed, which set the groundwork for the development of modern science.\\\\\\\\\\\\\",\\\\\\\\\\\\\"\\\\\\\\\\\\\",\\\\\\\\\\\\\"Little is known about Aristotle\\'s\\\\\",\\\\\"title\\\\\":\\\\\"aristotle_v2.txt\\\\\",\\\\\"source\\\\\":\\\\\"data/aristotle_v2.txt\\\\\",\\\\\"version\\\\\":\\\\\"v0\\\\\",\\\\\"chunk_order\\\\\":468,\\\\\"document_id\\\\\":\\\\\"09566c74-32e4-4783-9817-d9a34021dda2\\\\\",\\\\\"extraction_id\\\\\":\\\\\"32e75697-d726-581e-9c4c-fd16346f22da\\\\\",\\\\\"associatedQuery\\\\\":\\\\\"Who was Aristotle?\\\\\"}}\", \"{\\\\\"id\\\\\":\\\\\"534b8899-95b5-59e1-af0f-0e8d0eb88ee3\\\\\",\\\\\"score\\\\\":0.746386081411119,\\\\\"metadata\\\\\":{\\\\\"text\\\\\":\\\\\"(Greek: \\\\u1f08\\\\u03c1\\\\u03b9\\\\u03c3\\\\u03c4\\\\u03bf\\\\u03c4\\\\u03ad\\\\u03bb\\\\u03b7\\\\u03c2 Aristot\\\\u00e9l\\\\u0113s, pronounced [aristot\\\\u00e9l\\\\u025b\\\\u02d0s]; 384\\\\u2013322 BC) was an Ancient Greek philosopher and polymath. His writings cover a broad range of subjects spanning the natural sciences, philosophy, linguistics, economics, politics, psychology, and the arts. As the founder of the Peripatetic school of philosophy in the Lyceum in Athens, he began the wider Aristotelian tradition that followed, which set the groundwork for the development of modern science.\\\\\\\\\\\\\",\\\\\\\\\\\\\"\\\\\\\\\\\\\",\\\\\\\\\\\\\"Little is known about Aristotle\\'s\\\\\",\\\\\"title\\\\\":\\\\\"aristotle.txt\\\\\",\\\\\"source\\\\\":\\\\\"data/aristotle.txt\\\\\",\\\\\"version\\\\\":\\\\\"v0\\\\\",\\\\\"chunk_order\\\\\":468,\\\\\"document_id\\\\\":\\\\\"085e28f5-55e0-4b46-8f56-3ac32641107f\\\\\",\\\\\"extraction_id\\\\\":\\\\\"00da34dd-5a91-592f-b05c-f8c5f9f1493e\\\\\",\\\\\"associatedQuery\\\\\":\\\\\"Who was Aristotle?\\\\\"}}\", \"{\\\\\"id\\\\\":\\\\\"50ee76d0-3a29-5e1c-841f-bb8c9e960895\\\\\",\\\\\"score\\\\\":0.746324480456238,\\\\\"metadata\\\\\":{\\\\\"text\\\\\":\\\\\"(Greek: \\\\u1f08\\\\u03c1\\\\u03b9\\\\u03c3\\\\u03c4\\\\u03bf\\\\u03c4\\\\u03ad\\\\u03bb\\\\u03b7\\\\u03c2 Aristot\\\\u00e9l\\\\u0113s, pronounced [aristot\\\\u00e9l\\\\u025b\\\\u02d0s]; 384\\\\u2013322 BC) was an Ancient Greek philosopher and polymath. His writings cover a broad range of subjects spanning the natural sciences, philosophy, linguistics, economics, politics, psychology, and the arts. As the founder of the Peripatetic school of philosophy in the Lyceum in Athens, he began the wider Aristotelian tradition that followed, which set the groundwork for the development of modern science.\\\\\\\\\\\\\",\\\\\\\\\\\\\"\\\\\\\\\\\\\",\\\\\\\\\\\\\"Little is known about Aristotle\\'s\\\\\",\\\\\"title\\\\\":\\\\\"aristotle.txt\\\\\",\\\\\"source\\\\\":\\\\\"data/aristotle.txt\\\\\",\\\\\"version\\\\\":\\\\\"v0\\\\\",\\\\\"chunk_order\\\\\":468,\\\\\"document_id\\\\\":\\\\\"43cc0eec-e898-4e1f-a23d-67bd31cc15f3\\\\\",\\\\\"extraction_id\\\\\":\\\\\"51ecf7f9-f867-592f-b9a2-fcd6c0b2d79c\\\\\",\\\\\"associatedQuery\\\\\":\\\\\"Who was Aristotle?\\\\\"}}\", \"{\\\\\"id\\\\\":\\\\\"951408b8-79d8-54fa-8cac-980030e4c284\\\\\",\\\\\"score\\\\\":0.746324480456238,\\\\\"metadata\\\\\":{\\\\\"text\\\\\":\\\\\"(Greek: \\\\u1f08\\\\u03c1\\\\u03b9\\\\u03c3\\\\u03c4\\\\u03bf\\\\u03c4\\\\u03ad\\\\u03bb\\\\u03b7\\\\u03c2 Aristot\\\\u00e9l\\\\u0113s, pronounced [aristot\\\\u00e9l\\\\u025b\\\\u02d0s]; 384\\\\u2013322 BC) was an Ancient Greek philosopher and polymath. His writings cover a broad range of subjects spanning the natural sciences, philosophy, linguistics, economics, politics, psychology, and the arts. As the founder of the Peripatetic school of philosophy in the Lyceum in Athens, he began the wider Aristotelian tradition that followed, which set the groundwork for the development of modern science.\\\\\\\\\\\\\",\\\\\\\\\\\\\"\\\\\\\\\\\\\",\\\\\\\\\\\\\"Little is known about Aristotle\\'s\\\\\",\\\\\"title\\\\\":\\\\\"aristotle.txt\\\\\",\\\\\"source\\\\\":\\\\\"data/aristotle.txt\\\\\",\\\\\"version\\\\\":\\\\\"v1\\\\\",\\\\\"chunk_order\\\\\":468,\\\\\"document_id\\\\\":\\\\\"c9bdbac7-0ea3-5c9e-b590-018bd09b127b\\\\\",\\\\\"extraction_id\\\\\":\\\\\"f1378441-0446-5201-b999-2dc3e7a2a307\\\\\",\\\\\"associatedQuery\\\\\":\\\\\"Who was Aristotle?\\\\\"}}\", \"{\\\\\"id\\\\\":\\\\\"d14a817b-d0a0-5c65-a637-32f9813150b3\\\\\",\\\\\"score\\\\\":0.718395385933478,\\\\\"metadata\\\\\":{\\\\\"text\\\\\":\\\\\"style=\\\\\\\\\\\\\"min-height:auto\\\\\\\\\\\\\"><div><div id=\\\\\\\\\\\\\"LC1\\\\\\\\\\\\\" class=\\\\\\\\\\\\\"react-file-line html-div\\\\\\\\\\\\\" data-testid=\\\\\\\\\\\\\"code-cell\\\\\\\\\\\\\" data-line-number=\\\\\\\\\\\\\"1\\\\\\\\\\\\\" style=\\\\\\\\\\\\\"position:relative\\\\\\\\\\\\\">Aristotle[A] (Greek: \\\\u1f08\\\\u03c1\\\\u03b9\\\\u03c3\\\\u03c4\\\\u03bf\\\\u03c4\\\\u03ad\\\\u03bb\\\\u03b7\\\\u03c2 Aristot\\\\u00e9l\\\\u0113s, pronounced [aristot\\\\u00e9l\\\\u025b\\\\u02d0s]; 384\\\\u2013322 BC) was an Ancient Greek philosopher and polymath. His writings cover a broad range of subjects spanning the natural sciences, philosophy, linguistics, economics, politics, psychology, and the arts. As the founder of the Peripatetic school of philosophy in the Lyceum in Athens, he\\\\\",\\\\\"title\\\\\":\\\\\"aristotle.txt\\\\\",\\\\\"source\\\\\":\\\\\"data/aristotle.txt\\\\\",\\\\\"version\\\\\":\\\\\"v0\\\\\",\\\\\"chunk_order\\\\\":1051,\\\\\"document_id\\\\\":\\\\\"085e28f5-55e0-4b46-8f56-3ac32641107f\\\\\",\\\\\"extraction_id\\\\\":\\\\\"00da34dd-5a91-592f-b05c-f8c5f9f1493e\\\\\",\\\\\"associatedQuery\\\\\":\\\\\"Who was Aristotle?\\\\\"}}\"]'}, {'key': 'search_query', 'value': 'Who was Aristotle?'}]}\n"
          ]
        }
      ],
      "source": [
        "log_type_filter = \"search\" # rag, ingestion\n",
        "logs = app.logs(log_type_filter)\n",
        "for log in logs:\n",
        "    print(log)"
      ]
    },
    {
      "cell_type": "markdown",
      "metadata": {
        "id": "CzWCocOlSc3G"
      },
      "source": [
        "## Analytics\n",
        "\n"
      ]
    },
    {
      "cell_type": "code",
      "execution_count": null,
      "metadata": {
        "colab": {
          "base_uri": "https://localhost:8080/"
        },
        "id": "Gomf4rTPSk4y",
        "outputId": "355e919b-64c1-41b0-f085-8fe7915e4cd8"
      },
      "outputs": [
        {
          "data": {
            "text/plain": [
              "{'filtered_logs': {'search_latencies': [{'timestamp': '2024-06-24 22:22:09',\n",
              "    'log_id': UUID('ca83a0db-4ebd-4f51-9bba-866123137098'),\n",
              "    'key': 'search_latency',\n",
              "    'value': '0.91',\n",
              "    'rn': 3},\n",
              "   {'timestamp': '2024-06-24 22:22:03',\n",
              "    'log_id': UUID('06dff51e-3871-4cd4-a9d6-daf83bafa788'),\n",
              "    'key': 'search_latency',\n",
              "    'value': '0.42',\n",
              "    'rn': 3},\n",
              "   {'timestamp': '2024-06-24 22:21:33',\n",
              "    'log_id': UUID('cc83fb4b-219f-408a-bb88-cae829e3dfb0'),\n",
              "    'key': 'search_latency',\n",
              "    'value': '0.47',\n",
              "    'rn': 3},\n",
              "   {'timestamp': '2024-06-24 21:46:56',\n",
              "    'log_id': UUID('a27c26b3-1746-4db3-acde-7bb3a36a6ea5'),\n",
              "    'key': 'search_latency',\n",
              "    'value': '0.94',\n",
              "    'rn': 3},\n",
              "   {'timestamp': '2024-06-24 21:45:36',\n",
              "    'log_id': UUID('d106495c-6798-4cf9-a60c-dc726770859e'),\n",
              "    'key': 'search_latency',\n",
              "    'value': '0.99',\n",
              "    'rn': 3},\n",
              "   {'timestamp': '2024-06-24 21:45:30',\n",
              "    'log_id': UUID('88413bca-8d18-4e48-8e38-39306c3ee4e6'),\n",
              "    'key': 'search_latency',\n",
              "    'value': '0.42',\n",
              "    'rn': 3},\n",
              "   {'timestamp': '2024-06-24 21:45:26',\n",
              "    'log_id': UUID('51321db6-d9b0-42bf-8fbb-7915f18aae14'),\n",
              "    'key': 'search_latency',\n",
              "    'value': '0.46',\n",
              "    'rn': 3},\n",
              "   {'timestamp': '2024-06-24 21:44:56',\n",
              "    'log_id': UUID('b0041b17-c631-45a6-b39d-7fa1bf92d365'),\n",
              "    'key': 'search_latency',\n",
              "    'value': '0.62',\n",
              "    'rn': 3},\n",
              "   {'timestamp': '2024-06-24 21:28:53',\n",
              "    'log_id': UUID('5f04c929-7ab9-4892-b5a3-f3986e5c69e0'),\n",
              "    'key': 'search_latency',\n",
              "    'value': '0.51',\n",
              "    'rn': 3},\n",
              "   {'timestamp': '2024-06-24 21:20:17',\n",
              "    'log_id': UUID('e929427f-2891-41f1-9b3f-83f81ff3e9bc'),\n",
              "    'key': 'search_latency',\n",
              "    'value': '0.45',\n",
              "    'rn': 3},\n",
              "   {'timestamp': '2024-06-24 21:19:50',\n",
              "    'log_id': UUID('2b10f5da-d114-4ff6-b407-0dd25e91bab3'),\n",
              "    'key': 'search_latency',\n",
              "    'value': '0.71',\n",
              "    'rn': 3},\n",
              "   {'timestamp': '2024-06-24 21:04:28',\n",
              "    'log_id': UUID('78af7d49-92e4-4d7a-86a0-00172cade9d5'),\n",
              "    'key': 'search_latency',\n",
              "    'value': '0.61',\n",
              "    'rn': 3},\n",
              "   {'timestamp': '2024-06-24 20:56:12',\n",
              "    'log_id': UUID('0d8a8a3e-f2d3-467a-abe1-c28c130614db'),\n",
              "    'key': 'search_latency',\n",
              "    'value': '0.48',\n",
              "    'rn': 2},\n",
              "   {'timestamp': '2024-06-24 20:55:26',\n",
              "    'log_id': UUID('eddb57d4-8ce0-410e-b098-74825443f7fe'),\n",
              "    'key': 'search_latency',\n",
              "    'value': '0.51',\n",
              "    'rn': 3},\n",
              "   {'timestamp': '2024-06-24 20:55:00',\n",
              "    'log_id': UUID('cf4bf3ea-ff68-4347-9e5c-18bc4fff4737'),\n",
              "    'key': 'search_latency',\n",
              "    'value': '0.48',\n",
              "    'rn': 3},\n",
              "   {'timestamp': '2024-06-24 20:54:38',\n",
              "    'log_id': UUID('1d7d4a59-4d58-482e-b029-6d13f5c12a80'),\n",
              "    'key': 'search_latency',\n",
              "    'value': '0.47',\n",
              "    'rn': 3},\n",
              "   {'timestamp': '2024-06-24 20:54:00',\n",
              "    'log_id': UUID('bd591764-28b0-4028-a591-35c37e6fbfeb'),\n",
              "    'key': 'search_latency',\n",
              "    'value': '1.29',\n",
              "    'rn': 3}]},\n",
              " 'search_latencies': {'Mean': 0.632,\n",
              "  'Median': 0.51,\n",
              "  'Mode': 0.42,\n",
              "  'Standard Deviation': 0.253,\n",
              "  'Variance': 0.064}}"
            ]
          },
          "execution_count": 20,
          "metadata": {},
          "output_type": "execute_result"
        }
      ],
      "source": [
        "from r2r import FilterCriteria, AnalysisTypes\n",
        "\n",
        "filter_criteria = FilterCriteria(filters={\"search_latencies\": \"search_latency\"})\n",
        "analysis_types = AnalysisTypes(analysis_types={\"search_latencies\": [\"basic_statistics\", \"search_latency\"]})\n",
        "\n",
        "analytics = app.analytics(filter_criteria, analysis_types)\n",
        "\n",
        "analytics"
      ]
    },
    {
      "cell_type": "markdown",
      "metadata": {
        "id": "1Jyp_1pbS2KD"
      },
      "source": [
        "## Custom Analytics"
      ]
    },
    {
      "cell_type": "markdown",
      "metadata": {
        "id": "pXHQyKlKTUem"
      },
      "source": [
        "R2R’s analytics system is flexible and allows for custom analysis. You can specify different filters and analysis types to focus on specific aspects of your application’s performance. For example:\n",
        "\n",
        "Analyze RAG latencies\n",
        "Track usage patterns by user or document type\n",
        "Monitor error rates and types\n",
        "Assess the effectiveness of different LLM models or configurations\n",
        "To perform custom analytics, modify the filters and analysis_types parameters in the analytics command to suit your specific needs."
      ]
    },
    {
      "cell_type": "markdown",
      "metadata": {
        "id": "MgLVJsKbP1iK"
      },
      "source": [
        "# User Management\n",
        "\n",
        "R2R provides powerful user management capabilities, allowing you to track and manage documents on a per-user basis. Refer to the documentation for more details!\n",
        "\n",
        "You can:\n",
        "\n",
        "- Retrieve an overview for your users and get analytics\n",
        "- Perform user specific RAG queries"
      ]
    },
    {
      "cell_type": "code",
      "execution_count": null,
      "metadata": {
        "id": "-FdNDfyiV_T3"
      },
      "outputs": [],
      "source": []
    }
  ],
  "metadata": {
    "colab": {
      "collapsed_sections": [
        "BnNwK6y4TuMx",
        "9lhJxmvuT-tc",
        "YpjcoKzCUNjA"
      ],
      "provenance": [],
      "toc_visible": true
    },
    "kernelspec": {
      "display_name": "Python 3",
      "name": "python3"
    },
    "language_info": {
      "name": "python"
    }
  },
  "nbformat": 4,
  "nbformat_minor": 0
}
